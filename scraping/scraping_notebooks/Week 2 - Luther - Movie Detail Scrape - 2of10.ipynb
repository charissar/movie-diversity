{
 "cells": [
  {
   "cell_type": "markdown",
   "metadata": {},
   "source": [
    "# Importing and Dropping Duplicates"
   ]
  },
  {
   "cell_type": "code",
   "execution_count": 2,
   "metadata": {},
   "outputs": [],
   "source": [
    "import pandas as pd\n",
    "import json"
   ]
  },
  {
   "cell_type": "code",
   "execution_count": 3,
   "metadata": {},
   "outputs": [],
   "source": [
    "imports = []\n",
    "for i in range(1,41):\n",
    "    imports.append('genre_exports/export_%s.json' %(str(i)))   #rename to genre_export"
   ]
  },
  {
   "cell_type": "code",
   "execution_count": 4,
   "metadata": {},
   "outputs": [
    {
     "data": {
      "text/plain": [
       "['genre_exports/export_1.json',\n",
       " 'genre_exports/export_2.json',\n",
       " 'genre_exports/export_3.json',\n",
       " 'genre_exports/export_4.json',\n",
       " 'genre_exports/export_5.json',\n",
       " 'genre_exports/export_6.json',\n",
       " 'genre_exports/export_7.json',\n",
       " 'genre_exports/export_8.json',\n",
       " 'genre_exports/export_9.json',\n",
       " 'genre_exports/export_10.json',\n",
       " 'genre_exports/export_11.json',\n",
       " 'genre_exports/export_12.json',\n",
       " 'genre_exports/export_13.json',\n",
       " 'genre_exports/export_14.json',\n",
       " 'genre_exports/export_15.json',\n",
       " 'genre_exports/export_16.json',\n",
       " 'genre_exports/export_17.json',\n",
       " 'genre_exports/export_18.json',\n",
       " 'genre_exports/export_19.json',\n",
       " 'genre_exports/export_20.json',\n",
       " 'genre_exports/export_21.json',\n",
       " 'genre_exports/export_22.json',\n",
       " 'genre_exports/export_23.json',\n",
       " 'genre_exports/export_24.json',\n",
       " 'genre_exports/export_25.json',\n",
       " 'genre_exports/export_26.json',\n",
       " 'genre_exports/export_27.json',\n",
       " 'genre_exports/export_28.json',\n",
       " 'genre_exports/export_29.json',\n",
       " 'genre_exports/export_30.json',\n",
       " 'genre_exports/export_31.json',\n",
       " 'genre_exports/export_32.json',\n",
       " 'genre_exports/export_33.json',\n",
       " 'genre_exports/export_34.json',\n",
       " 'genre_exports/export_35.json',\n",
       " 'genre_exports/export_36.json',\n",
       " 'genre_exports/export_37.json',\n",
       " 'genre_exports/export_38.json',\n",
       " 'genre_exports/export_39.json',\n",
       " 'genre_exports/export_40.json']"
      ]
     },
     "execution_count": 4,
     "metadata": {},
     "output_type": "execute_result"
    }
   ],
   "source": [
    "imports"
   ]
  },
  {
   "cell_type": "code",
   "execution_count": 5,
   "metadata": {},
   "outputs": [],
   "source": [
    "movies_df = pd.DataFrame()"
   ]
  },
  {
   "cell_type": "code",
   "execution_count": 6,
   "metadata": {},
   "outputs": [],
   "source": [
    "for imp in imports:\n",
    "    movies_df = movies_df.append(pd.read_json(imp, orient='index'))\n",
    "\n",
    "# mov = mov.append(pd.read_json('export_2.json', orient='index'))\n",
    "# mov = mov.append(pd.read_json('export_3.json', orient='index'))"
   ]
  },
  {
   "cell_type": "code",
   "execution_count": 7,
   "metadata": {},
   "outputs": [
    {
     "data": {
      "text/plain": [
       "188326"
      ]
     },
     "execution_count": 7,
     "metadata": {},
     "output_type": "execute_result"
    }
   ],
   "source": [
    "len(movies_df)"
   ]
  },
  {
   "cell_type": "markdown",
   "metadata": {},
   "source": [
    "### Use New DataFrame"
   ]
  },
  {
   "cell_type": "code",
   "execution_count": 8,
   "metadata": {},
   "outputs": [],
   "source": [
    "movies = pd.DataFrame(movies_df)"
   ]
  },
  {
   "cell_type": "code",
   "execution_count": 9,
   "metadata": {},
   "outputs": [],
   "source": [
    "movies['ID'] = movies.index"
   ]
  },
  {
   "cell_type": "raw",
   "metadata": {},
   "source": [
    "movies.sample(400)"
   ]
  },
  {
   "cell_type": "code",
   "execution_count": 10,
   "metadata": {},
   "outputs": [],
   "source": [
    "movies = movies.drop_duplicates(subset='ID',keep='first')"
   ]
  },
  {
   "cell_type": "code",
   "execution_count": 11,
   "metadata": {},
   "outputs": [
    {
     "data": {
      "text/plain": [
       "106906"
      ]
     },
     "execution_count": 11,
     "metadata": {},
     "output_type": "execute_result"
    }
   ],
   "source": [
    "len(movies)"
   ]
  },
  {
   "cell_type": "markdown",
   "metadata": {},
   "source": [
    "## Drop NaN Ratings"
   ]
  },
  {
   "cell_type": "code",
   "execution_count": 12,
   "metadata": {},
   "outputs": [
    {
     "data": {
      "text/plain": [
       "29609"
      ]
     },
     "execution_count": 12,
     "metadata": {},
     "output_type": "execute_result"
    }
   ],
   "source": [
    "movies['Rating'].isnull().sum()"
   ]
  },
  {
   "cell_type": "code",
   "execution_count": 13,
   "metadata": {},
   "outputs": [],
   "source": [
    "movies = movies.dropna(subset = ['Rating'])"
   ]
  },
  {
   "cell_type": "code",
   "execution_count": 14,
   "metadata": {},
   "outputs": [
    {
     "data": {
      "text/plain": [
       "77297"
      ]
     },
     "execution_count": 14,
     "metadata": {},
     "output_type": "execute_result"
    }
   ],
   "source": [
    "len(movies)"
   ]
  },
  {
   "cell_type": "markdown",
   "metadata": {},
   "source": [
    "## Keep Only Movies with Drop Movies with 1000 Votes or More"
   ]
  },
  {
   "cell_type": "code",
   "execution_count": 15,
   "metadata": {},
   "outputs": [],
   "source": [
    "movies['Votes'] = movies['Votes'].str.replace(',','')"
   ]
  },
  {
   "cell_type": "code",
   "execution_count": 16,
   "metadata": {
    "scrolled": true
   },
   "outputs": [
    {
     "data": {
      "text/plain": [
       "http://www.imdb.com/title/tt0006206/     3519\n",
       "http://www.imdb.com/title/tt0009682/      541\n",
       "http://www.imdb.com/title/tt0014720/        9\n",
       "http://www.imdb.com/title/tt0015163/     7287\n",
       "http://www.imdb.com/title/tt0015324/    24694\n",
       "http://www.imdb.com/title/tt0017925/    61402\n",
       "http://www.imdb.com/title/tt0018578/     8998\n",
       "http://www.imdb.com/title/tt0019421/    10630\n",
       "http://www.imdb.com/title/tt0019532/      269\n",
       "http://www.imdb.com/title/tt0020815/     1325\n",
       "http://www.imdb.com/title/tt0021079/     9804\n",
       "http://www.imdb.com/title/tt0022753/      728\n",
       "http://www.imdb.com/title/tt0023427/    21444\n",
       "http://www.imdb.com/title/tt0023551/     5944\n",
       "http://www.imdb.com/title/tt0025004/     1958\n",
       "http://www.imdb.com/title/tt0025862/     4124\n",
       "http://www.imdb.com/title/tt0026164/     1433\n",
       "http://www.imdb.com/title/tt0026174/    10768\n",
       "http://www.imdb.com/title/tt0027438/     3741\n",
       "http://www.imdb.com/title/tt0027623/     1745\n",
       "http://www.imdb.com/title/tt0029047/     1707\n",
       "http://www.imdb.com/title/tt0029081/      835\n",
       "http://www.imdb.com/title/tt0029843/    41480\n",
       "http://www.imdb.com/title/tt0029850/     8927\n",
       "http://www.imdb.com/title/tt0031088/     4662\n",
       "http://www.imdb.com/title/tt0031747/     1717\n",
       "http://www.imdb.com/title/tt0031867/    10487\n",
       "http://www.imdb.com/title/tt0032484/    15145\n",
       "http://www.imdb.com/title/tt0032762/     8067\n",
       "http://www.imdb.com/title/tt0032850/     1199\n",
       "                                        ...  \n",
       "http://www.imdb.com/title/tt0473191/       36\n",
       "http://www.imdb.com/title/tt0474798/        6\n",
       "http://www.imdb.com/title/tt0484283/       10\n",
       "http://www.imdb.com/title/tt0493287/       34\n",
       "http://www.imdb.com/title/tt0756286/       15\n",
       "http://www.imdb.com/title/tt0795362/      100\n",
       "http://www.imdb.com/title/tt0798798/       11\n",
       "http://www.imdb.com/title/tt0955291/        7\n",
       "http://www.imdb.com/title/tt0986271/        7\n",
       "http://www.imdb.com/title/tt1223141/       25\n",
       "http://www.imdb.com/title/tt1344659/       63\n",
       "http://www.imdb.com/title/tt1361857/       31\n",
       "http://www.imdb.com/title/tt1362468/        8\n",
       "http://www.imdb.com/title/tt1511469/       18\n",
       "http://www.imdb.com/title/tt1537920/       11\n",
       "http://www.imdb.com/title/tt1666711/        5\n",
       "http://www.imdb.com/title/tt1753916/       12\n",
       "http://www.imdb.com/title/tt1842394/        6\n",
       "http://www.imdb.com/title/tt1874644/       12\n",
       "http://www.imdb.com/title/tt1928157/        5\n",
       "http://www.imdb.com/title/tt2159768/        6\n",
       "http://www.imdb.com/title/tt2280644/        6\n",
       "http://www.imdb.com/title/tt2390968/       19\n",
       "http://www.imdb.com/title/tt2418150/       22\n",
       "http://www.imdb.com/title/tt2507106/        5\n",
       "http://www.imdb.com/title/tt2749034/       12\n",
       "http://www.imdb.com/title/tt2879728/        5\n",
       "http://www.imdb.com/title/tt3751082/       10\n",
       "http://www.imdb.com/title/tt3924776/       40\n",
       "http://www.imdb.com/title/tt4386364/       33\n",
       "Name: Votes, Length: 77297, dtype: object"
      ]
     },
     "execution_count": 16,
     "metadata": {},
     "output_type": "execute_result"
    }
   ],
   "source": [
    "movies['Votes']"
   ]
  },
  {
   "cell_type": "code",
   "execution_count": 17,
   "metadata": {},
   "outputs": [],
   "source": [
    "movies['Votes'] = movies['Votes'].astype(int)"
   ]
  },
  {
   "cell_type": "code",
   "execution_count": 18,
   "metadata": {},
   "outputs": [
    {
     "data": {
      "text/plain": [
       "29717"
      ]
     },
     "execution_count": 18,
     "metadata": {},
     "output_type": "execute_result"
    }
   ],
   "source": [
    "len(movies[movies['Votes'] >= 500])"
   ]
  },
  {
   "cell_type": "code",
   "execution_count": 19,
   "metadata": {},
   "outputs": [],
   "source": [
    "movies = movies[movies['Votes'] >= 500]"
   ]
  },
  {
   "cell_type": "raw",
   "metadata": {},
   "source": []
  },
  {
   "cell_type": "markdown",
   "metadata": {},
   "source": [
    "# Scrape Details with Movie URL"
   ]
  },
  {
   "cell_type": "code",
   "execution_count": 20,
   "metadata": {},
   "outputs": [
    {
     "data": {
      "text/plain": [
       "29717"
      ]
     },
     "execution_count": 20,
     "metadata": {},
     "output_type": "execute_result"
    }
   ],
   "source": [
    "len(movies.index)"
   ]
  },
  {
   "cell_type": "code",
   "execution_count": 21,
   "metadata": {
    "scrolled": false
   },
   "outputs": [
    {
     "data": {
      "text/plain": [
       "Index(['http://www.imdb.com/title/tt0006206/',\n",
       "       'http://www.imdb.com/title/tt0009682/',\n",
       "       'http://www.imdb.com/title/tt0015163/',\n",
       "       'http://www.imdb.com/title/tt0015324/',\n",
       "       'http://www.imdb.com/title/tt0017925/',\n",
       "       'http://www.imdb.com/title/tt0018578/',\n",
       "       'http://www.imdb.com/title/tt0019421/',\n",
       "       'http://www.imdb.com/title/tt0020815/',\n",
       "       'http://www.imdb.com/title/tt0021079/',\n",
       "       'http://www.imdb.com/title/tt0022753/',\n",
       "       ...\n",
       "       'http://www.imdb.com/title/tt0439504/',\n",
       "       'http://www.imdb.com/title/tt0457530/',\n",
       "       'http://www.imdb.com/title/tt0495747/',\n",
       "       'http://www.imdb.com/title/tt1384925/',\n",
       "       'http://www.imdb.com/title/tt1388402/',\n",
       "       'http://www.imdb.com/title/tt1555110/',\n",
       "       'http://www.imdb.com/title/tt2014202/',\n",
       "       'http://www.imdb.com/title/tt2140381/',\n",
       "       'http://www.imdb.com/title/tt4893452/',\n",
       "       'http://www.imdb.com/title/tt5143890/'],\n",
       "      dtype='object', length=29717)"
      ]
     },
     "execution_count": 21,
     "metadata": {},
     "output_type": "execute_result"
    }
   ],
   "source": [
    "movies.index"
   ]
  },
  {
   "cell_type": "code",
   "execution_count": 22,
   "metadata": {},
   "outputs": [],
   "source": [
    "movie_urls = list(movies.index)"
   ]
  },
  {
   "cell_type": "code",
   "execution_count": 23,
   "metadata": {},
   "outputs": [
    {
     "data": {
      "text/plain": [
       "29717"
      ]
     },
     "execution_count": 23,
     "metadata": {},
     "output_type": "execute_result"
    }
   ],
   "source": [
    "len(movie_urls)"
   ]
  },
  {
   "cell_type": "raw",
   "metadata": {},
   "source": [
    "movie_urls[2]"
   ]
  },
  {
   "cell_type": "code",
   "execution_count": 24,
   "metadata": {},
   "outputs": [],
   "source": [
    "movie_urls = sorted(movie_urls,reverse = True)"
   ]
  },
  {
   "cell_type": "raw",
   "metadata": {},
   "source": [
    "movie_urls[-200:]"
   ]
  },
  {
   "cell_type": "code",
   "execution_count": 25,
   "metadata": {},
   "outputs": [
    {
     "data": {
      "text/plain": [
       "Index(['Certificate', 'Director', 'Genre', 'Gross', 'Metascore', 'Rating',\n",
       "       'Runtime', 'Star1', 'Star1_URL', 'Star2', 'Star2_URL', 'Star3',\n",
       "       'Star3_URL', 'Star4', 'Star4_URL', 'Title', 'Votes', 'Year', 'ID'],\n",
       "      dtype='object')"
      ]
     },
     "execution_count": 25,
     "metadata": {},
     "output_type": "execute_result"
    }
   ],
   "source": [
    "movies.columns"
   ]
  },
  {
   "cell_type": "raw",
   "metadata": {},
   "source": [
    "movies.loc['http://www.imdb.com/title/tt0102926/']"
   ]
  },
  {
   "cell_type": "code",
   "execution_count": 26,
   "metadata": {},
   "outputs": [],
   "source": [
    "import re\n",
    "import requests\n",
    "from bs4 import BeautifulSoup\n",
    "from datetime import datetime\n",
    "\n",
    "url = 'http://www.imdb.com/title/tt3858372/'\n",
    "response = requests.get(url)\n",
    "soup = BeautifulSoup(response.text, 'html.parser')"
   ]
  },
  {
   "cell_type": "code",
   "execution_count": 27,
   "metadata": {},
   "outputs": [
    {
     "data": {
      "text/plain": [
       "'Omar Sy'"
      ]
     },
     "execution_count": 27,
     "metadata": {},
     "output_type": "execute_result"
    }
   ],
   "source": [
    "directorURL = soup.find('div', class_='plot_summary_wrapper')\n",
    "directorURL = directorURL.find(text=re.compile('Star')) if directorURL else None\n",
    "directorURL = directorURL.parent.parent if directorURL else None\n",
    "directorURL = directorURL.find('a') if directorURL else None\n",
    "director = directorURL.text if directorURL else None\n",
    "directorURL = directorURL['href'] if directorURL else None\n",
    "directorURL = prefix+directorURL.split(\"?\")[0] if directorURL else None\n",
    "\n",
    "director"
   ]
  },
  {
   "cell_type": "raw",
   "metadata": {},
   "source": [
    "prefix = 'http://www.imdb.com'\n",
    "\n",
    "movie_details = {}\n",
    "movie_details[url] = {}\n",
    "\n",
    "stars = soup.find(id='titleCast')\n",
    "stars = stars.find('table', class_='cast_list') if stars else None\n",
    "stars = stars.findAll('td', class_='itemprop') if stars else None\n",
    "starlisttemp = []\n",
    "stars = [starlisttemp.append([star.find('a')['href'],star.find('a').text]) for star in stars[0:10]] if stars else None\n",
    "starlist = []\n",
    "if starlisttemp: [starlist.append([prefix+combination[0].split('?')[0],combination[1].split('\\n')[0].strip()]) for combination in starlisttemp]\n",
    "\n",
    "\n",
    "# starURLs = [star.find('a')['href'] for star in stars] if stars else None\n",
    "# starURLs = [prefix + URL.split('?')[0] for URL in starURLs] if starURLs else None\n",
    "\n",
    "# starnames = [star.find('a').text for star in stars] if stars else None\n",
    "# starnames = [name.split('\\n')[0].strip() for name in starnames] if starnames else None\n",
    "\n",
    "# if starnames[0:4]: \n",
    "#     i = 0\n",
    "#     for star in starnames:\n",
    "#         star = starnames[i]\n",
    "#         movie_details[url]['Star%s' %str(i+1)] = star\n",
    "#         starURL = starURLs[i] if starURLs[i] else None\n",
    "\n",
    "#         movie_details[url]['Star%s_URL' %str(i+1)] = prefix+starURL\n",
    "#         i += 1\n",
    "\n",
    "# stars\n",
    "# starURLs\n",
    "# movie_details\n",
    "starlist"
   ]
  },
  {
   "cell_type": "raw",
   "metadata": {},
   "source": [
    "starURLs = soup.find('div', class_='plot_summary_wrapper')\n",
    "starURLs = starURLs.find(text=re.compile('Stars:')) if starURLs else None\n",
    "starURLs = starURLs.parent.parent if starURLs else None\n",
    "starURLs = starURLs.findAll('a') if starURLs else None\n",
    "starURLs = [[star['href'],star.text] for star in starURLs[:-1]] if starURLs else None\n",
    "if starURLs:\n",
    "    i = 0\n",
    "    while len(starURLs) >= i+1:\n",
    "        for URL in starURLs:\n",
    "            star = starURLs[i]\n",
    "            movie_details[url]['Star%s' %str(i+1)] = star[1].split('\\n')[0].strip() if star[1] else None\n",
    "            movie_details[url]['Star%s_URL' %str(i+1)] = prefix+star[0].split(\"?\")[0] if star[0] else None\n",
    "            i += 1\n",
    "        \n",
    "# director = starURLs.text if starURLs else None\n",
    "# starURLs = starURLs['href'] if starURLs else None\n",
    "# starURLs = prefix+starURLs.split(\"?\")[0] if starURLs else None\n",
    "# movie_details[url]['Director'] = director\n",
    "# movie_details[url]['Director_URL'] = starURLs\n",
    "                                   \n",
    "movie_details   \n",
    "# stars\n",
    "# starURLs"
   ]
  },
  {
   "cell_type": "code",
   "execution_count": null,
   "metadata": {},
   "outputs": [],
   "source": []
  },
  {
   "cell_type": "code",
   "execution_count": null,
   "metadata": {},
   "outputs": [],
   "source": []
  },
  {
   "cell_type": "code",
   "execution_count": 29,
   "metadata": {
    "scrolled": false
   },
   "outputs": [
    {
     "name": "stdout",
     "output_type": "stream",
     "text": [
      "2018-01-29 21:03:07.310303 : working on export 5\n",
      "3020: http://www.imdb.com/title/tt3141912/\n",
      "3040: http://www.imdb.com/title/tt3132890/\n",
      "3060: http://www.imdb.com/title/tt3120314/\n",
      "3080: http://www.imdb.com/title/tt3107246/\n",
      "3100: http://www.imdb.com/title/tt3097204/\n",
      "3120: http://www.imdb.com/title/tt3086442/\n",
      "3140: http://www.imdb.com/title/tt3072482/\n",
      "3160: http://www.imdb.com/title/tt3060492/\n",
      "3180: http://www.imdb.com/title/tt3042408/\n",
      "3200: http://www.imdb.com/title/tt3026824/\n",
      "3220: http://www.imdb.com/title/tt3013610/\n",
      "3240: http://www.imdb.com/title/tt3003668/\n",
      "3260: http://www.imdb.com/title/tt2990738/\n",
      "3280: http://www.imdb.com/title/tt2979336/\n",
      "3300: http://www.imdb.com/title/tt2969458/\n",
      "3320: http://www.imdb.com/title/tt2957760/\n",
      "3340: http://www.imdb.com/title/tt2948356/\n",
      "3360: http://www.imdb.com/title/tt2936884/\n",
      "3380: http://www.imdb.com/title/tt2924442/\n",
      "3400: http://www.imdb.com/title/tt2914740/\n",
      "3420: http://www.imdb.com/title/tt2905772/\n",
      "3440: http://www.imdb.com/title/tt2883434/\n",
      "3460: http://www.imdb.com/title/tt2870612/\n",
      "3480: http://www.imdb.com/title/tt2852406/\n",
      "3500: http://www.imdb.com/title/tt2833074/\n",
      "3520: http://www.imdb.com/title/tt2821088/\n",
      "3540: http://www.imdb.com/title/tt2802144/\n",
      "3560: http://www.imdb.com/title/tt2788710/\n",
      "3580: http://www.imdb.com/title/tt2776106/\n",
      "3600: http://www.imdb.com/title/tt2758880/\n",
      "3620: http://www.imdb.com/title/tt2727028/\n",
      "3640: http://www.imdb.com/title/tt2717318/\n",
      "3660: http://www.imdb.com/title/tt2699840/\n",
      "3680: http://www.imdb.com/title/tt2674454/\n",
      "3700: http://www.imdb.com/title/tt2659190/\n",
      "3720: http://www.imdb.com/title/tt2640474/\n",
      "3740: http://www.imdb.com/title/tt2628316/\n",
      "3760: http://www.imdb.com/title/tt2617828/\n",
      "3780: http://www.imdb.com/title/tt2599716/\n",
      "3800: http://www.imdb.com/title/tt2585160/\n",
      "3820: http://www.imdb.com/title/tt2574698/\n",
      "3840: http://www.imdb.com/title/tt2564978/\n",
      "3860: http://www.imdb.com/title/tt2554270/\n",
      "3880: http://www.imdb.com/title/tt2543702/\n",
      "3900: http://www.imdb.com/title/tt2531168/\n",
      "3920: http://www.imdb.com/title/tt2512170/\n",
      "3940: http://www.imdb.com/title/tt2503944/\n",
      "3960: http://www.imdb.com/title/tt2488496/\n",
      "3980: http://www.imdb.com/title/tt2474976/\n",
      "4000: http://www.imdb.com/title/tt2465308/\n",
      "2018-01-29 21:21:43.214925 : working on export 6\n",
      "4020: http://www.imdb.com/title/tt2456330/\n",
      "4040: http://www.imdb.com/title/tt2443822/\n",
      "4060: http://www.imdb.com/title/tt2429074/\n",
      "4080: http://www.imdb.com/title/tt2417712/\n",
      "4100: http://www.imdb.com/title/tt2406676/\n",
      "4120: http://www.imdb.com/title/tt2403558/\n",
      "4140: http://www.imdb.com/title/tt2401621/\n",
      "4160: http://www.imdb.com/title/tt2396429/\n",
      "4180: http://www.imdb.com/title/tt2392326/\n",
      "4200: http://www.imdb.com/title/tt2387627/\n",
      "4220: http://www.imdb.com/title/tt2382396/\n",
      "4240: http://www.imdb.com/title/tt2379080/\n",
      "4260: http://www.imdb.com/title/tt2374196/\n",
      "4280: http://www.imdb.com/title/tt2369041/\n",
      "4300: http://www.imdb.com/title/tt2364006/\n",
      "4320: http://www.imdb.com/title/tt2359024/\n",
      "4340: http://www.imdb.com/title/tt2354407/\n",
      "4360: http://www.imdb.com/title/tt2345613/\n",
      "4380: http://www.imdb.com/title/tt2334879/\n",
      "4400: http://www.imdb.com/title/tt2331047/\n",
      "4420: http://www.imdb.com/title/tt2325741/\n",
      "4440: http://www.imdb.com/title/tt2320968/\n",
      "4460: http://www.imdb.com/title/tt2316204/\n",
      "4480: http://www.imdb.com/title/tt2309260/\n",
      "4500: http://www.imdb.com/title/tt2302755/\n",
      "4520: http://www.imdb.com/title/tt2296404/\n",
      "4540: http://www.imdb.com/title/tt2290739/\n",
      "4560: http://www.imdb.com/title/tt2281587/\n",
      "4580: http://www.imdb.com/title/tt2277834/\n",
      "4600: http://www.imdb.com/title/tt2268018/\n",
      "4620: http://www.imdb.com/title/tt2261749/\n",
      "4640: http://www.imdb.com/title/tt2252680/\n",
      "4660: http://www.imdb.com/title/tt2246887/\n",
      "4680: http://www.imdb.com/title/tt2242176/\n",
      "4700: http://www.imdb.com/title/tt2236054/\n",
      "4720: http://www.imdb.com/title/tt2231138/\n",
      "4740: http://www.imdb.com/title/tt2223990/\n",
      "4760: http://www.imdb.com/title/tt2215285/\n",
      "4780: http://www.imdb.com/title/tt2208568/\n",
      "4800: http://www.imdb.com/title/tt2201532/\n",
      "4820: http://www.imdb.com/title/tt2194599/\n",
      "4840: http://www.imdb.com/title/tt2188655/\n",
      "4860: http://www.imdb.com/title/tt2184339/\n",
      "4880: http://www.imdb.com/title/tt2180477/\n",
      "4900: http://www.imdb.com/title/tt2176690/\n",
      "4920: http://www.imdb.com/title/tt2171809/\n",
      "4940: http://www.imdb.com/title/tt2165735/\n",
      "4960: http://www.imdb.com/title/tt2147319/\n",
      "4980: http://www.imdb.com/title/tt2140465/\n",
      "5000: http://www.imdb.com/title/tt2132405/\n",
      "2018-01-29 21:39:47.641968 : working on export 7\n",
      "5020: http://www.imdb.com/title/tt2124787/\n",
      "5040: http://www.imdb.com/title/tt2118624/\n",
      "5060: http://www.imdb.com/title/tt2112331/\n",
      "5080: http://www.imdb.com/title/tt2106675/\n",
      "5100: http://www.imdb.com/title/tt2103171/\n",
      "5120: http://www.imdb.com/title/tt2096672/\n",
      "5140: http://www.imdb.com/title/tt2091478/\n",
      "5160: http://www.imdb.com/title/tt2088832/\n",
      "5180: http://www.imdb.com/title/tt2083135/\n",
      "5200: http://www.imdb.com/title/tt2078552/\n",
      "5220: http://www.imdb.com/title/tt2073070/\n",
      "5240: http://www.imdb.com/title/tt2070604/\n",
      "5260: http://www.imdb.com/title/tt2063011/\n",
      "5280: http://www.imdb.com/title/tt2058107/\n",
      "5300: http://www.imdb.com/title/tt2048804/\n",
      "5320: http://www.imdb.com/title/tt2040578/\n",
      "5340: http://www.imdb.com/title/tt2032557/\n",
      "5360: http://www.imdb.com/title/tt2020110/\n",
      "5380: http://www.imdb.com/title/tt2013293/\n",
      "5400: http://www.imdb.com/title/tt2007360/\n",
      "5420: http://www.imdb.com/title/tt2002718/\n",
      "5440: http://www.imdb.com/title/tt1992138/\n",
      "5460: http://www.imdb.com/title/tt1986034/\n",
      "5480: http://www.imdb.com/title/tt1980929/\n",
      "5500: http://www.imdb.com/title/tt1975249/\n",
      "5520: http://www.imdb.com/title/tt1969062/\n",
      "5540: http://www.imdb.com/title/tt1959490/\n",
      "5560: http://www.imdb.com/title/tt1954206/\n",
      "5580: http://www.imdb.com/title/tt1945084/\n",
      "5600: http://www.imdb.com/title/tt1937222/\n",
      "5620: http://www.imdb.com/title/tt1934458/\n",
      "5640: http://www.imdb.com/title/tt1928340/\n",
      "5660: http://www.imdb.com/title/tt1924396/\n",
      "5680: http://www.imdb.com/title/tt1920862/\n",
      "5700: http://www.imdb.com/title/tt1911662/\n",
      "5720: http://www.imdb.com/title/tt1906384/\n",
      "5740: http://www.imdb.com/title/tt1895315/\n",
      "5760: http://www.imdb.com/title/tt1887763/\n",
      "5780: http://www.imdb.com/title/tt1880418/\n",
      "5800: http://www.imdb.com/title/tt1872181/\n",
      "5820: http://www.imdb.com/title/tt1866919/\n",
      "5840: http://www.imdb.com/title/tt1861445/\n",
      "5860: http://www.imdb.com/title/tt1857913/\n",
      "5880: http://www.imdb.com/title/tt1853739/\n",
      "5900: http://www.imdb.com/title/tt1847746/\n",
      "5920: http://www.imdb.com/title/tt1843335/\n",
      "5940: http://www.imdb.com/title/tt1839492/\n",
      "5960: http://www.imdb.com/title/tt1836883/\n",
      "5980: http://www.imdb.com/title/tt1829735/\n",
      "6000: http://www.imdb.com/title/tt1826593/\n",
      "2018-01-29 21:58:09.333038 : working on export 8\n",
      "2018-01-29 21:58:09.335707 : working on export 9\n",
      "Done\n"
     ]
    }
   ],
   "source": [
    "# Movie Details\n",
    "import re\n",
    "import requests\n",
    "from bs4 import BeautifulSoup\n",
    "from datetime import datetime\n",
    "import time\n",
    "\n",
    "movies_scraped = 0\n",
    "movie_details = {}\n",
    "movie_index = 3000                       \n",
    "prefix = 'http://www.imdb.com'\n",
    "export_number = 5\n",
    "export_no = str(export_number)\n",
    "load_attempts = 0\n",
    "\n",
    "def movie_scraper():\n",
    "    global movie_index\n",
    "    \n",
    "    print(str(datetime.now()),': working on export ' + export_no)\n",
    "    \n",
    "    for url in movie_urls[movie_index:6000]:\n",
    "        if (movie_index+1) % 20 == 0:\n",
    "            time.sleep(1.5)\n",
    "            print('%d: %s' %(movie_index+1, url))\n",
    "        page = request_page(url)\n",
    "        get_movie_details(url, page)\n",
    "        movie_index += 1\n",
    "    \n",
    "    export_to_json(movie_details)\n",
    "    print(\"Done\")\n",
    "    \n",
    "def request_page(url):\n",
    "    global load_attempts\n",
    "    response = requests.get(url)\n",
    "    \n",
    "    if response.status_code == 200:\n",
    "        return(response.text)\n",
    "        load_attempts = 0\n",
    "    else:\n",
    "        print(response.status_code,'for %s' %(url))\n",
    "        if response.status_code != 404:\n",
    "            if load_attempts == 10:\n",
    "                time.sleep(60)\n",
    "            else:\n",
    "                time.sleep(10)\n",
    "            request_page(url)\n",
    "            load_attempts += 1\n",
    "\n",
    "def get_movie_details(url, page):\n",
    "    soup = BeautifulSoup(page, 'html.parser')\n",
    "\n",
    "    movie_details[url] = {}\n",
    "    \n",
    "    plot_wrapper = soup.find('div', class_='plot_summary_wrapper')\n",
    "\n",
    "    if plot_wrapper:\n",
    "        if plot_wrapper.find(text=re.compile('Director:')):\n",
    "            directorURL = plot_wrapper.find(text=re.compile('Director:'))\n",
    "        elif plot_wrapper.find(text=re.compile('Directors:')):\n",
    "            directorURL = plot_wrapper.find(text=re.compile('Directors:'))\n",
    "        else:\n",
    "            directorURL = None\n",
    "    directorURL = directorURL.parent.parent if directorURL else None\n",
    "    directorURL = directorURL.find('a') if directorURL else None\n",
    "    director = directorURL.text if directorURL else None\n",
    "    directorURL = directorURL['href'] if directorURL else None\n",
    "    directorURL = prefix+directorURL.split(\"?\")[0] if directorURL else None\n",
    "    movie_details[url]['Director'] = director\n",
    "    movie_details[url]['Director_URL'] = directorURL\n",
    "\n",
    "    if plot_wrapper:\n",
    "        if plot_wrapper.find(text=re.compile('Stars:')):\n",
    "            starURLs = plot_wrapper.find(text=re.compile('Stars:'))\n",
    "        elif plot_wrapper.find(text=re.compile('Star:')):\n",
    "            starURLs = plot_wrapper.find(text=re.compile('Star:'))\n",
    "        else:\n",
    "            starURLs = None\n",
    "    starURLs = starURLs.parent.parent if starURLs else None\n",
    "    starURLs = starURLs.findAll('a') if starURLs else None\n",
    "    if starURLs:\n",
    "        if len(starURLs) == 4:\n",
    "            starURLs = [[star['href'],star.text] for star in starURLs[:-1]]\n",
    "        else:\n",
    "            starURLs = [[star['href'],star.text] for star in starURLs]\n",
    "    if starURLs:\n",
    "        i = 0\n",
    "        while len(starURLs) >= i+1:\n",
    "            for URL in starURLs:\n",
    "                star = starURLs[i]\n",
    "                movie_details[url]['Star%s' %str(i+1)] = star[1].split('\\n')[0].strip() if star[1] else None\n",
    "                movie_details[url]['Star%s_URL' %str(i+1)] = prefix+star[0].split(\"?\")[0] if star[0] else None\n",
    "            i += 1 \n",
    "    \n",
    "    title = soup.find('div', class_='title_wrapper').find('h1',itemprop='name')\n",
    "    title = title.contents[0].replace(u'\\xa0', u'')\n",
    "    movie_details[url]['Title'] = title\n",
    "\n",
    "    release_date = soup.find('div', class_='title_wrapper')\n",
    "    release_date = release_date.findAll('a') if release_date else None\n",
    "    release_date = release_date[-1] if release_date else None\n",
    "    release_date = release_date.find('meta') if release_date else None\n",
    "    release_date = str(release_date) if release_date else None\n",
    "    release_date = re.sub('[^0-9-]+','', release_date) if release_date else None\n",
    "    movie_details[url]['Release Date'] = release_date\n",
    "\n",
    "    title_details = soup.find(id='titleDetails')\n",
    "    \n",
    "    production_company = title_details.find(text=re.compile('Production Co:')) if title_details else None\n",
    "    production_company = production_company.parent.parent if production_company else None\n",
    "    production_company = production_company.find('a') if production_company else None\n",
    "    production_company = production_company.text if production_company else None\n",
    "    movie_details[url]['Production Company'] = production_company\n",
    "\n",
    "    country = title_details.find(text=re.compile('Country:')) if title_details else None\n",
    "    country = country.parent.parent if country else None\n",
    "    country = country.find('a') if country else None\n",
    "    country = country.text if country else None\n",
    "    movie_details[url]['Country'] = country\n",
    "\n",
    "    language = title_details.find(text=re.compile('Language:')) if title_details else None\n",
    "    language = language.parent.parent if language else None\n",
    "    language = language.find('a') if language else None\n",
    "    language = language.text if language else None\n",
    "    movie_details[url]['Language'] = language\n",
    "\n",
    "    primary_filming_location = title_details.find(text=re.compile('Filming Locations:')) if title_details else None\n",
    "    primary_filming_location = primary_filming_location.parent.parent if primary_filming_location else None\n",
    "    primary_filming_location = primary_filming_location.find('a') if primary_filming_location else None\n",
    "    primary_filming_location= primary_filming_location.text if primary_filming_location else None\n",
    "    movie_details[url]['Primary Filming Location'] = primary_filming_location\n",
    "\n",
    "    budget = title_details.find(text=re.compile('Budget:')) if title_details else None\n",
    "    budget = budget.parent.parent if budget else None\n",
    "    budget = budget.text.strip() if budget else None\n",
    "    budget = re.sub('[^0-9]+','', budget) if budget else None\n",
    "    movie_details[url]['Budget'] = budget\n",
    "\n",
    "    opening_weekend_usa = title_details.find(text=re.compile('Opening Weekend USA:')) if title_details else None\n",
    "    opening_weekend_usa = opening_weekend_usa.parent.parent if opening_weekend_usa else None\n",
    "    opening_weekend_usa = opening_weekend_usa.text.strip() if opening_weekend_usa else None\n",
    "    opening_weekend_usa = re.sub('[^0-9]+','', opening_weekend_usa) if opening_weekend_usa else None\n",
    "    movie_details[url]['Opening Weekend USA'] = opening_weekend_usa\n",
    "\n",
    "    #rename gross to gross USA in listing scrape\n",
    "    global_gross = title_details.find(text=re.compile('Cumulative Worldwide Gross:')) if title_details else None\n",
    "    global_gross = global_gross.parent.parent if global_gross else None\n",
    "    global_gross = global_gross.text.strip() if global_gross else None\n",
    "    global_gross = re.sub('[^0-9]+','', global_gross) if global_gross else None\n",
    "    movie_details[url]['Cumulative Worldwide Gross'] = global_gross\n",
    "\n",
    "    gross_usa = title_details.find(text=re.compile('Gross USA:')) if title_details else None\n",
    "    gross_usa = gross_usa.parent.parent if gross_usa else None\n",
    "    gross_usa = gross_usa.text.strip() if gross_usa else None\n",
    "    gross_usa = re.sub('[^0-9]+','', gross_usa) if gross_usa else None\n",
    "    movie_details[url]['Gross USA'] = gross_usa\n",
    "\n",
    "    go_to_next_and_export()\n",
    "\n",
    "def go_to_next_and_export():\n",
    "    global movies_scraped\n",
    "    global movie_details\n",
    "    \n",
    "    movies_scraped+=1\n",
    "\n",
    "    if len(movie_details) == 1000:                                         \n",
    "        export_to_json(movie_details)\n",
    "        movies_scraped = 0\n",
    "        movie_details = {}\n",
    "\n",
    "def export_to_json(movie_details):\n",
    "    global export_no\n",
    "    global export_number\n",
    "    with open('movie_details_export_%s.json' %(export_no),'w')  as f:\n",
    "        json.dump(movie_details,f)\n",
    "\n",
    "    export_number += 1\n",
    "    export_no = str(export_number)\n",
    "    print(str(datetime.now()),': working on export ' + export_no)\n",
    "\n",
    "movie_scraper()"
   ]
  },
  {
   "cell_type": "raw",
   "metadata": {},
   "source": [
    "import json\n",
    "import pandas as pd\n",
    "\n",
    "details_df = pd.read_json('movie_details_export_2.json',orient='index')"
   ]
  },
  {
   "cell_type": "raw",
   "metadata": {},
   "source": [
    "details_df"
   ]
  },
  {
   "cell_type": "raw",
   "metadata": {},
   "source": [
    "import json\n",
    "import pandas as pd\n",
    "\n",
    "movies_df = pd.read_json('movie_details_export_2.json',orient='index')"
   ]
  },
  {
   "cell_type": "raw",
   "metadata": {},
   "source": [
    "movies_df"
   ]
  },
  {
   "cell_type": "raw",
   "metadata": {},
   "source": [
    "movies_df2 = pd.read_json('movie_details_exports/movie_details_export_1.json',orient='index',)"
   ]
  },
  {
   "cell_type": "raw",
   "metadata": {},
   "source": [
    "movies_df2.loc['http://www.imdb.com/title/tt7056732/']"
   ]
  }
 ],
 "metadata": {
  "kernelspec": {
   "display_name": "Python 3",
   "language": "python",
   "name": "python3"
  },
  "language_info": {
   "codemirror_mode": {
    "name": "ipython",
    "version": 3
   },
   "file_extension": ".py",
   "mimetype": "text/x-python",
   "name": "python",
   "nbconvert_exporter": "python",
   "pygments_lexer": "ipython3",
   "version": "3.6.4"
  }
 },
 "nbformat": 4,
 "nbformat_minor": 2
}
