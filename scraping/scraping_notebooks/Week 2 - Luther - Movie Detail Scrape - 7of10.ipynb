{
 "cells": [
  {
   "cell_type": "markdown",
   "metadata": {},
   "source": [
    "# Importing and Dropping Duplicates"
   ]
  },
  {
   "cell_type": "code",
   "execution_count": 1,
   "metadata": {},
   "outputs": [],
   "source": [
    "import pandas as pd\n",
    "import json"
   ]
  },
  {
   "cell_type": "code",
   "execution_count": 2,
   "metadata": {},
   "outputs": [],
   "source": [
    "imports = []\n",
    "for i in range(1,41):\n",
    "    imports.append('genre_exports/export_%s.json' %(str(i)))   #rename to genre_export"
   ]
  },
  {
   "cell_type": "code",
   "execution_count": 3,
   "metadata": {},
   "outputs": [
    {
     "data": {
      "text/plain": [
       "['genre_exports/export_1.json',\n",
       " 'genre_exports/export_2.json',\n",
       " 'genre_exports/export_3.json',\n",
       " 'genre_exports/export_4.json',\n",
       " 'genre_exports/export_5.json',\n",
       " 'genre_exports/export_6.json',\n",
       " 'genre_exports/export_7.json',\n",
       " 'genre_exports/export_8.json',\n",
       " 'genre_exports/export_9.json',\n",
       " 'genre_exports/export_10.json',\n",
       " 'genre_exports/export_11.json',\n",
       " 'genre_exports/export_12.json',\n",
       " 'genre_exports/export_13.json',\n",
       " 'genre_exports/export_14.json',\n",
       " 'genre_exports/export_15.json',\n",
       " 'genre_exports/export_16.json',\n",
       " 'genre_exports/export_17.json',\n",
       " 'genre_exports/export_18.json',\n",
       " 'genre_exports/export_19.json',\n",
       " 'genre_exports/export_20.json',\n",
       " 'genre_exports/export_21.json',\n",
       " 'genre_exports/export_22.json',\n",
       " 'genre_exports/export_23.json',\n",
       " 'genre_exports/export_24.json',\n",
       " 'genre_exports/export_25.json',\n",
       " 'genre_exports/export_26.json',\n",
       " 'genre_exports/export_27.json',\n",
       " 'genre_exports/export_28.json',\n",
       " 'genre_exports/export_29.json',\n",
       " 'genre_exports/export_30.json',\n",
       " 'genre_exports/export_31.json',\n",
       " 'genre_exports/export_32.json',\n",
       " 'genre_exports/export_33.json',\n",
       " 'genre_exports/export_34.json',\n",
       " 'genre_exports/export_35.json',\n",
       " 'genre_exports/export_36.json',\n",
       " 'genre_exports/export_37.json',\n",
       " 'genre_exports/export_38.json',\n",
       " 'genre_exports/export_39.json',\n",
       " 'genre_exports/export_40.json']"
      ]
     },
     "execution_count": 3,
     "metadata": {},
     "output_type": "execute_result"
    }
   ],
   "source": [
    "imports"
   ]
  },
  {
   "cell_type": "code",
   "execution_count": 4,
   "metadata": {},
   "outputs": [],
   "source": [
    "movies_df = pd.DataFrame()"
   ]
  },
  {
   "cell_type": "code",
   "execution_count": 5,
   "metadata": {},
   "outputs": [],
   "source": [
    "for imp in imports:\n",
    "    movies_df = movies_df.append(pd.read_json(imp, orient='index'))\n",
    "\n",
    "# mov = mov.append(pd.read_json('export_2.json', orient='index'))\n",
    "# mov = mov.append(pd.read_json('export_3.json', orient='index'))"
   ]
  },
  {
   "cell_type": "code",
   "execution_count": 6,
   "metadata": {},
   "outputs": [
    {
     "data": {
      "text/plain": [
       "188326"
      ]
     },
     "execution_count": 6,
     "metadata": {},
     "output_type": "execute_result"
    }
   ],
   "source": [
    "len(movies_df)"
   ]
  },
  {
   "cell_type": "markdown",
   "metadata": {},
   "source": [
    "### Use New DataFrame"
   ]
  },
  {
   "cell_type": "code",
   "execution_count": 7,
   "metadata": {},
   "outputs": [],
   "source": [
    "movies = pd.DataFrame(movies_df)"
   ]
  },
  {
   "cell_type": "code",
   "execution_count": 8,
   "metadata": {},
   "outputs": [],
   "source": [
    "movies['ID'] = movies.index"
   ]
  },
  {
   "cell_type": "raw",
   "metadata": {},
   "source": [
    "movies.sample(400)"
   ]
  },
  {
   "cell_type": "code",
   "execution_count": 9,
   "metadata": {},
   "outputs": [],
   "source": [
    "movies = movies.drop_duplicates(subset='ID',keep='first')"
   ]
  },
  {
   "cell_type": "code",
   "execution_count": 10,
   "metadata": {},
   "outputs": [
    {
     "data": {
      "text/plain": [
       "106906"
      ]
     },
     "execution_count": 10,
     "metadata": {},
     "output_type": "execute_result"
    }
   ],
   "source": [
    "len(movies)"
   ]
  },
  {
   "cell_type": "markdown",
   "metadata": {},
   "source": [
    "## Drop NaN Ratings"
   ]
  },
  {
   "cell_type": "code",
   "execution_count": 11,
   "metadata": {},
   "outputs": [
    {
     "data": {
      "text/plain": [
       "29609"
      ]
     },
     "execution_count": 11,
     "metadata": {},
     "output_type": "execute_result"
    }
   ],
   "source": [
    "movies['Rating'].isnull().sum()"
   ]
  },
  {
   "cell_type": "code",
   "execution_count": 12,
   "metadata": {},
   "outputs": [],
   "source": [
    "movies = movies.dropna(subset = ['Rating'])"
   ]
  },
  {
   "cell_type": "code",
   "execution_count": 13,
   "metadata": {},
   "outputs": [
    {
     "data": {
      "text/plain": [
       "77297"
      ]
     },
     "execution_count": 13,
     "metadata": {},
     "output_type": "execute_result"
    }
   ],
   "source": [
    "len(movies)"
   ]
  },
  {
   "cell_type": "markdown",
   "metadata": {},
   "source": [
    "## Keep Only Movies with Drop Movies with 1000 Votes or More"
   ]
  },
  {
   "cell_type": "code",
   "execution_count": 14,
   "metadata": {},
   "outputs": [],
   "source": [
    "movies['Votes'] = movies['Votes'].str.replace(',','')"
   ]
  },
  {
   "cell_type": "code",
   "execution_count": 15,
   "metadata": {
    "scrolled": true
   },
   "outputs": [
    {
     "data": {
      "text/plain": [
       "http://www.imdb.com/title/tt0006206/     3519\n",
       "http://www.imdb.com/title/tt0009682/      541\n",
       "http://www.imdb.com/title/tt0014720/        9\n",
       "http://www.imdb.com/title/tt0015163/     7287\n",
       "http://www.imdb.com/title/tt0015324/    24694\n",
       "http://www.imdb.com/title/tt0017925/    61402\n",
       "http://www.imdb.com/title/tt0018578/     8998\n",
       "http://www.imdb.com/title/tt0019421/    10630\n",
       "http://www.imdb.com/title/tt0019532/      269\n",
       "http://www.imdb.com/title/tt0020815/     1325\n",
       "http://www.imdb.com/title/tt0021079/     9804\n",
       "http://www.imdb.com/title/tt0022753/      728\n",
       "http://www.imdb.com/title/tt0023427/    21444\n",
       "http://www.imdb.com/title/tt0023551/     5944\n",
       "http://www.imdb.com/title/tt0025004/     1958\n",
       "http://www.imdb.com/title/tt0025862/     4124\n",
       "http://www.imdb.com/title/tt0026164/     1433\n",
       "http://www.imdb.com/title/tt0026174/    10768\n",
       "http://www.imdb.com/title/tt0027438/     3741\n",
       "http://www.imdb.com/title/tt0027623/     1745\n",
       "http://www.imdb.com/title/tt0029047/     1707\n",
       "http://www.imdb.com/title/tt0029081/      835\n",
       "http://www.imdb.com/title/tt0029843/    41480\n",
       "http://www.imdb.com/title/tt0029850/     8927\n",
       "http://www.imdb.com/title/tt0031088/     4662\n",
       "http://www.imdb.com/title/tt0031747/     1717\n",
       "http://www.imdb.com/title/tt0031867/    10487\n",
       "http://www.imdb.com/title/tt0032484/    15145\n",
       "http://www.imdb.com/title/tt0032762/     8067\n",
       "http://www.imdb.com/title/tt0032850/     1199\n",
       "                                        ...  \n",
       "http://www.imdb.com/title/tt0473191/       36\n",
       "http://www.imdb.com/title/tt0474798/        6\n",
       "http://www.imdb.com/title/tt0484283/       10\n",
       "http://www.imdb.com/title/tt0493287/       34\n",
       "http://www.imdb.com/title/tt0756286/       15\n",
       "http://www.imdb.com/title/tt0795362/      100\n",
       "http://www.imdb.com/title/tt0798798/       11\n",
       "http://www.imdb.com/title/tt0955291/        7\n",
       "http://www.imdb.com/title/tt0986271/        7\n",
       "http://www.imdb.com/title/tt1223141/       25\n",
       "http://www.imdb.com/title/tt1344659/       63\n",
       "http://www.imdb.com/title/tt1361857/       31\n",
       "http://www.imdb.com/title/tt1362468/        8\n",
       "http://www.imdb.com/title/tt1511469/       18\n",
       "http://www.imdb.com/title/tt1537920/       11\n",
       "http://www.imdb.com/title/tt1666711/        5\n",
       "http://www.imdb.com/title/tt1753916/       12\n",
       "http://www.imdb.com/title/tt1842394/        6\n",
       "http://www.imdb.com/title/tt1874644/       12\n",
       "http://www.imdb.com/title/tt1928157/        5\n",
       "http://www.imdb.com/title/tt2159768/        6\n",
       "http://www.imdb.com/title/tt2280644/        6\n",
       "http://www.imdb.com/title/tt2390968/       19\n",
       "http://www.imdb.com/title/tt2418150/       22\n",
       "http://www.imdb.com/title/tt2507106/        5\n",
       "http://www.imdb.com/title/tt2749034/       12\n",
       "http://www.imdb.com/title/tt2879728/        5\n",
       "http://www.imdb.com/title/tt3751082/       10\n",
       "http://www.imdb.com/title/tt3924776/       40\n",
       "http://www.imdb.com/title/tt4386364/       33\n",
       "Name: Votes, Length: 77297, dtype: object"
      ]
     },
     "execution_count": 15,
     "metadata": {},
     "output_type": "execute_result"
    }
   ],
   "source": [
    "movies['Votes']"
   ]
  },
  {
   "cell_type": "code",
   "execution_count": 16,
   "metadata": {},
   "outputs": [],
   "source": [
    "movies['Votes'] = movies['Votes'].astype(int)"
   ]
  },
  {
   "cell_type": "code",
   "execution_count": 17,
   "metadata": {},
   "outputs": [
    {
     "data": {
      "text/plain": [
       "29717"
      ]
     },
     "execution_count": 17,
     "metadata": {},
     "output_type": "execute_result"
    }
   ],
   "source": [
    "len(movies[movies['Votes'] >= 500])"
   ]
  },
  {
   "cell_type": "code",
   "execution_count": 18,
   "metadata": {},
   "outputs": [],
   "source": [
    "movies = movies[movies['Votes'] >= 500]"
   ]
  },
  {
   "cell_type": "raw",
   "metadata": {},
   "source": []
  },
  {
   "cell_type": "markdown",
   "metadata": {},
   "source": [
    "# Scrape Details with Movie URL"
   ]
  },
  {
   "cell_type": "code",
   "execution_count": 19,
   "metadata": {},
   "outputs": [
    {
     "data": {
      "text/plain": [
       "29717"
      ]
     },
     "execution_count": 19,
     "metadata": {},
     "output_type": "execute_result"
    }
   ],
   "source": [
    "len(movies.index)"
   ]
  },
  {
   "cell_type": "code",
   "execution_count": 20,
   "metadata": {
    "scrolled": false
   },
   "outputs": [
    {
     "data": {
      "text/plain": [
       "Index(['http://www.imdb.com/title/tt0006206/',\n",
       "       'http://www.imdb.com/title/tt0009682/',\n",
       "       'http://www.imdb.com/title/tt0015163/',\n",
       "       'http://www.imdb.com/title/tt0015324/',\n",
       "       'http://www.imdb.com/title/tt0017925/',\n",
       "       'http://www.imdb.com/title/tt0018578/',\n",
       "       'http://www.imdb.com/title/tt0019421/',\n",
       "       'http://www.imdb.com/title/tt0020815/',\n",
       "       'http://www.imdb.com/title/tt0021079/',\n",
       "       'http://www.imdb.com/title/tt0022753/',\n",
       "       ...\n",
       "       'http://www.imdb.com/title/tt0439504/',\n",
       "       'http://www.imdb.com/title/tt0457530/',\n",
       "       'http://www.imdb.com/title/tt0495747/',\n",
       "       'http://www.imdb.com/title/tt1384925/',\n",
       "       'http://www.imdb.com/title/tt1388402/',\n",
       "       'http://www.imdb.com/title/tt1555110/',\n",
       "       'http://www.imdb.com/title/tt2014202/',\n",
       "       'http://www.imdb.com/title/tt2140381/',\n",
       "       'http://www.imdb.com/title/tt4893452/',\n",
       "       'http://www.imdb.com/title/tt5143890/'],\n",
       "      dtype='object', length=29717)"
      ]
     },
     "execution_count": 20,
     "metadata": {},
     "output_type": "execute_result"
    }
   ],
   "source": [
    "movies.index"
   ]
  },
  {
   "cell_type": "code",
   "execution_count": 21,
   "metadata": {},
   "outputs": [],
   "source": [
    "movie_urls = list(movies.index)"
   ]
  },
  {
   "cell_type": "code",
   "execution_count": 22,
   "metadata": {},
   "outputs": [
    {
     "data": {
      "text/plain": [
       "29717"
      ]
     },
     "execution_count": 22,
     "metadata": {},
     "output_type": "execute_result"
    }
   ],
   "source": [
    "len(movie_urls)"
   ]
  },
  {
   "cell_type": "raw",
   "metadata": {},
   "source": [
    "movie_urls[2]"
   ]
  },
  {
   "cell_type": "code",
   "execution_count": 23,
   "metadata": {},
   "outputs": [],
   "source": [
    "movie_urls = sorted(movie_urls,reverse = True)"
   ]
  },
  {
   "cell_type": "raw",
   "metadata": {},
   "source": [
    "movie_urls[-200:]"
   ]
  },
  {
   "cell_type": "code",
   "execution_count": 24,
   "metadata": {},
   "outputs": [
    {
     "data": {
      "text/plain": [
       "Index(['Certificate', 'Director', 'Genre', 'Gross', 'Metascore', 'Rating',\n",
       "       'Runtime', 'Star1', 'Star1_URL', 'Star2', 'Star2_URL', 'Star3',\n",
       "       'Star3_URL', 'Star4', 'Star4_URL', 'Title', 'Votes', 'Year', 'ID'],\n",
       "      dtype='object')"
      ]
     },
     "execution_count": 24,
     "metadata": {},
     "output_type": "execute_result"
    }
   ],
   "source": [
    "movies.columns"
   ]
  },
  {
   "cell_type": "raw",
   "metadata": {},
   "source": [
    "movies.loc['http://www.imdb.com/title/tt0102926/']"
   ]
  },
  {
   "cell_type": "raw",
   "metadata": {},
   "source": [
    "import re\n",
    "import requests\n",
    "from bs4 import BeautifulSoup\n",
    "from datetime import datetime\n",
    "\n",
    "url = 'http://www.imdb.com/title/tt5013056/'\n",
    "response = requests.get(url)\n",
    "soup = BeautifulSoup(response.text, 'html.parser')"
   ]
  },
  {
   "cell_type": "raw",
   "metadata": {},
   "source": [
    "prefix = 'http://www.imdb.com'\n",
    "\n",
    "movie_details = {}\n",
    "movie_details[url] = {}\n",
    "\n",
    "stars = soup.find(id='titleCast')\n",
    "stars = stars.find('table', class_='cast_list') if stars else None\n",
    "stars = stars.findAll('td', class_='itemprop') if stars else None\n",
    "starlisttemp = []\n",
    "stars = [starlisttemp.append([star.find('a')['href'],star.find('a').text]) for star in stars[0:10]] if stars else None\n",
    "starlist = []\n",
    "if starlisttemp: [starlist.append([prefix+combination[0].split('?')[0],combination[1].split('\\n')[0].strip()]) for combination in starlisttemp]\n",
    "\n",
    "\n",
    "# starURLs = [star.find('a')['href'] for star in stars] if stars else None\n",
    "# starURLs = [prefix + URL.split('?')[0] for URL in starURLs] if starURLs else None\n",
    "\n",
    "# starnames = [star.find('a').text for star in stars] if stars else None\n",
    "# starnames = [name.split('\\n')[0].strip() for name in starnames] if starnames else None\n",
    "\n",
    "# if starnames[0:4]: \n",
    "#     i = 0\n",
    "#     for star in starnames:\n",
    "#         star = starnames[i]\n",
    "#         movie_details[url]['Star%s' %str(i+1)] = star\n",
    "#         starURL = starURLs[i] if starURLs[i] else None\n",
    "\n",
    "#         movie_details[url]['Star%s_URL' %str(i+1)] = prefix+starURL\n",
    "#         i += 1\n",
    "\n",
    "# stars\n",
    "# starURLs\n",
    "# movie_details\n",
    "starlist"
   ]
  },
  {
   "cell_type": "raw",
   "metadata": {},
   "source": [
    "starURLs = soup.find('div', class_='plot_summary_wrapper')\n",
    "starURLs = starURLs.find(text=re.compile('Stars:')) if starURLs else None\n",
    "starURLs = starURLs.parent.parent if starURLs else None\n",
    "starURLs = starURLs.findAll('a') if starURLs else None\n",
    "starURLs = [[star['href'],star.text] for star in starURLs[:-1]] if starURLs else None\n",
    "if starURLs:\n",
    "    i = 0\n",
    "    while len(starURLs) >= i+1:\n",
    "        for URL in starURLs:\n",
    "            star = starURLs[i]\n",
    "            movie_details[url]['Star%s' %str(i+1)] = star[1].split('\\n')[0].strip() if star[1] else None\n",
    "            movie_details[url]['Star%s_URL' %str(i+1)] = prefix+star[0].split(\"?\")[0] if star[0] else None\n",
    "            i += 1\n",
    "        \n",
    "# director = starURLs.text if starURLs else None\n",
    "# starURLs = starURLs['href'] if starURLs else None\n",
    "# starURLs = prefix+starURLs.split(\"?\")[0] if starURLs else None\n",
    "# movie_details[url]['Director'] = director\n",
    "# movie_details[url]['Director_URL'] = starURLs\n",
    "                                   \n",
    "movie_details   \n",
    "# stars\n",
    "# starURLs"
   ]
  },
  {
   "cell_type": "code",
   "execution_count": null,
   "metadata": {},
   "outputs": [],
   "source": []
  },
  {
   "cell_type": "code",
   "execution_count": null,
   "metadata": {},
   "outputs": [],
   "source": []
  },
  {
   "cell_type": "code",
   "execution_count": 26,
   "metadata": {
    "scrolled": false
   },
   "outputs": [
    {
     "name": "stdout",
     "output_type": "stream",
     "text": [
      "2018-01-29 21:03:48.071304 : working on export 30\n",
      "18020: http://www.imdb.com/title/tt0116514/\n",
      "18040: http://www.imdb.com/title/tt0116410/\n",
      "18060: http://www.imdb.com/title/tt0116308/\n",
      "18080: http://www.imdb.com/title/tt0116231/\n",
      "18100: http://www.imdb.com/title/tt0116040/\n",
      "18120: http://www.imdb.com/title/tt0115909/\n",
      "18140: http://www.imdb.com/title/tt0115770/\n",
      "18160: http://www.imdb.com/title/tt0115647/\n",
      "18180: http://www.imdb.com/title/tt0115531/\n",
      "18200: http://www.imdb.com/title/tt0114952/\n",
      "18220: http://www.imdb.com/title/tt0114798/\n",
      "18240: http://www.imdb.com/title/tt0114658/\n",
      "18260: http://www.imdb.com/title/tt0114437/\n",
      "18280: http://www.imdb.com/title/tt0114234/\n",
      "18300: http://www.imdb.com/title/tt0114099/\n",
      "18320: http://www.imdb.com/title/tt0113939/\n",
      "18340: http://www.imdb.com/title/tt0113755/\n",
      "18360: http://www.imdb.com/title/tt0113613/\n",
      "18380: http://www.imdb.com/title/tt0113451/\n",
      "18400: http://www.imdb.com/title/tt0113305/\n",
      "18420: http://www.imdb.com/title/tt0113194/\n",
      "18440: http://www.imdb.com/title/tt0113092/\n",
      "18460: http://www.imdb.com/title/tt0112922/\n",
      "18480: http://www.imdb.com/title/tt0112792/\n",
      "18500: http://www.imdb.com/title/tt0112654/\n",
      "18520: http://www.imdb.com/title/tt0112537/\n",
      "18540: http://www.imdb.com/title/tt0112444/\n",
      "18560: http://www.imdb.com/title/tt0112313/\n",
      "18580: http://www.imdb.com/title/tt0111672/\n",
      "18600: http://www.imdb.com/title/tt0111470/\n",
      "18620: http://www.imdb.com/title/tt0111264/\n",
      "18640: http://www.imdb.com/title/tt0111143/\n",
      "18660: http://www.imdb.com/title/tt0110958/\n",
      "18680: http://www.imdb.com/title/tt0110832/\n",
      "18700: http://www.imdb.com/title/tt0110678/\n",
      "18720: http://www.imdb.com/title/tt0110546/\n",
      "18740: http://www.imdb.com/title/tt0110391/\n",
      "18760: http://www.imdb.com/title/tt0110216/\n",
      "18780: http://www.imdb.com/title/tt0110097/\n",
      "18800: http://www.imdb.com/title/tt0109965/\n",
      "18820: http://www.imdb.com/title/tt0109838/\n",
      "18840: http://www.imdb.com/title/tt0109744/\n",
      "18860: http://www.imdb.com/title/tt0109575/\n",
      "18880: http://www.imdb.com/title/tt0109447/\n",
      "18900: http://www.imdb.com/title/tt0109361/\n",
      "18920: http://www.imdb.com/title/tt0109178/\n",
      "18940: http://www.imdb.com/title/tt0109020/\n",
      "18960: http://www.imdb.com/title/tt0108560/\n",
      "18980: http://www.imdb.com/title/tt0108388/\n",
      "19000: http://www.imdb.com/title/tt0108281/\n",
      "2018-01-29 21:22:35.507559 : working on export 31\n",
      "19020: http://www.imdb.com/title/tt0108162/\n",
      "19040: http://www.imdb.com/title/tt0108000/\n",
      "19060: http://www.imdb.com/title/tt0107863/\n",
      "19080: http://www.imdb.com/title/tt0107668/\n",
      "19100: http://www.imdb.com/title/tt0107554/\n",
      "19120: http://www.imdb.com/title/tt0107362/\n",
      "19140: http://www.imdb.com/title/tt0107207/\n",
      "19160: http://www.imdb.com/title/tt0107091/\n",
      "19180: http://www.imdb.com/title/tt0106941/\n",
      "19200: http://www.imdb.com/title/tt0106792/\n",
      "19220: http://www.imdb.com/title/tt0106598/\n",
      "19240: http://www.imdb.com/title/tt0106471/\n",
      "19260: http://www.imdb.com/title/tt0106350/\n",
      "19280: http://www.imdb.com/title/tt0106233/\n",
      "19300: http://www.imdb.com/title/tt0105810/\n",
      "19320: http://www.imdb.com/title/tt0105645/\n",
      "19340: http://www.imdb.com/title/tt0105508/\n",
      "19360: http://www.imdb.com/title/tt0105388/\n",
      "19380: http://www.imdb.com/title/tt0105211/\n",
      "19400: http://www.imdb.com/title/tt0105107/\n",
      "19420: http://www.imdb.com/title/tt0104927/\n",
      "19440: http://www.imdb.com/title/tt0104797/\n",
      "19460: http://www.imdb.com/title/tt0104662/\n",
      "19480: http://www.imdb.com/title/tt0104521/\n",
      "19500: http://www.imdb.com/title/tt0104352/\n",
      "19520: http://www.imdb.com/title/tt0104181/\n",
      "19540: http://www.imdb.com/title/tt0104027/\n",
      "19560: http://www.imdb.com/title/tt0103923/\n",
      "19580: http://www.imdb.com/title/tt0103786/\n",
      "19600: http://www.imdb.com/title/tt0103336/\n",
      "19620: http://www.imdb.com/title/tt0103157/\n",
      "19640: http://www.imdb.com/title/tt0103036/\n",
      "19660: http://www.imdb.com/title/tt0102932/\n",
      "19680: http://www.imdb.com/title/tt0102802/\n",
      "19700: http://www.imdb.com/title/tt0102713/\n",
      "19720: http://www.imdb.com/title/tt0102579/\n",
      "19740: http://www.imdb.com/title/tt0102456/\n",
      "19760: http://www.imdb.com/title/tt0102299/\n",
      "19780: http://www.imdb.com/title/tt0102141/\n",
      "19800: http://www.imdb.com/title/tt0102005/\n",
      "19820: http://www.imdb.com/title/tt0101864/\n",
      "19840: http://www.imdb.com/title/tt0101746/\n",
      "19860: http://www.imdb.com/title/tt0101629/\n",
      "19880: http://www.imdb.com/title/tt0101524/\n",
      "19900: http://www.imdb.com/title/tt0101414/\n",
      "19920: http://www.imdb.com/title/tt0101283/\n",
      "19940: http://www.imdb.com/title/tt0100963/\n",
      "19960: http://www.imdb.com/title/tt0100777/\n",
      "19980: http://www.imdb.com/title/tt0100631/\n",
      "20000: http://www.imdb.com/title/tt0100506/\n",
      "2018-01-29 21:40:58.274961 : working on export 32\n",
      "20020: http://www.imdb.com/title/tt0100403/\n",
      "20040: http://www.imdb.com/title/tt0100224/\n",
      "20060: http://www.imdb.com/title/tt0100116/\n",
      "20080: http://www.imdb.com/title/tt0099951/\n",
      "20100: http://www.imdb.com/title/tt0099785/\n",
      "20120: http://www.imdb.com/title/tt0099699/\n",
      "20140: http://www.imdb.com/title/tt0099606/\n",
      "20160: http://www.imdb.com/title/tt0099472/\n",
      "20180: http://www.imdb.com/title/tt0099365/\n",
      "20200: http://www.imdb.com/title/tt0099204/\n",
      "20220: http://www.imdb.com/title/tt0099044/\n",
      "20240: http://www.imdb.com/title/tt0098660/\n",
      "20260: http://www.imdb.com/title/tt0098532/\n",
      "20280: http://www.imdb.com/title/tt0098384/\n",
      "20300: http://www.imdb.com/title/tt0098308/\n",
      "20320: http://www.imdb.com/title/tt0098205/\n",
      "20340: http://www.imdb.com/title/tt0098089/\n",
      "20360: http://www.imdb.com/title/tt0097965/\n",
      "20380: http://www.imdb.com/title/tt0097841/\n",
      "20400: http://www.imdb.com/title/tt0097662/\n",
      "20420: http://www.imdb.com/title/tt0097523/\n",
      "20440: http://www.imdb.com/title/tt0097428/\n",
      "20460: http://www.imdb.com/title/tt0097302/\n",
      "20480: http://www.imdb.com/title/tt0097176/\n",
      "20500: http://www.imdb.com/title/tt0097050/\n",
      "20520: http://www.imdb.com/title/tt0096925/\n",
      "20540: http://www.imdb.com/title/tt0096740/\n",
      "20560: http://www.imdb.com/title/tt0096378/\n",
      "20580: http://www.imdb.com/title/tt0096251/\n",
      "20600: http://www.imdb.com/title/tt0096152/\n",
      "20620: http://www.imdb.com/title/tt0096018/\n",
      "20640: http://www.imdb.com/title/tt0095925/\n",
      "20660: http://www.imdb.com/title/tt0095800/\n",
      "20680: http://www.imdb.com/title/tt0095662/\n",
      "20700: http://www.imdb.com/title/tt0095542/\n",
      "20720: http://www.imdb.com/title/tt0095428/\n",
      "20740: http://www.imdb.com/title/tt0095294/\n",
      "20760: http://www.imdb.com/title/tt0095179/\n",
      "20780: http://www.imdb.com/title/tt0095012/\n",
      "20800: http://www.imdb.com/title/tt0094889/\n",
      "20820: http://www.imdb.com/title/tt0094794/\n",
      "20840: http://www.imdb.com/title/tt0094709/\n",
      "20860: http://www.imdb.com/title/tt0094596/\n",
      "20880: http://www.imdb.com/title/tt0094293/\n",
      "20900: http://www.imdb.com/title/tt0094074/\n",
      "20920: http://www.imdb.com/title/tt0093995/\n",
      "20940: http://www.imdb.com/title/tt0093855/\n",
      "20960: http://www.imdb.com/title/tt0093744/\n",
      "20980: http://www.imdb.com/title/tt0093605/\n",
      "21000: http://www.imdb.com/title/tt0093493/\n",
      "2018-01-29 21:59:29.744928 : working on export 33\n",
      "2018-01-29 21:59:29.746975 : working on export 34\n",
      "Done\n"
     ]
    }
   ],
   "source": [
    "# Movie Details\n",
    "import re\n",
    "import requests\n",
    "from bs4 import BeautifulSoup\n",
    "from datetime import datetime\n",
    "import time\n",
    "\n",
    "movies_scraped = 0\n",
    "movie_details = {}\n",
    "movie_index = 18000                       \n",
    "prefix = 'http://www.imdb.com'\n",
    "export_number = 30\n",
    "export_no = str(export_number)\n",
    "load_attempts = 0\n",
    "\n",
    "def movie_scraper():\n",
    "    global movie_index\n",
    "    \n",
    "    print(str(datetime.now()),': working on export ' + export_no)\n",
    "    \n",
    "    for url in movie_urls[movie_index:21000]:\n",
    "        if (movie_index+1) % 20 == 0:\n",
    "            time.sleep(1.5)\n",
    "            print('%d: %s' %(movie_index+1, url))\n",
    "        page = request_page(url)\n",
    "        get_movie_details(url, page)\n",
    "        movie_index += 1\n",
    "    \n",
    "    export_to_json(movie_details)\n",
    "    print(\"Done\")\n",
    "    \n",
    "def request_page(url):\n",
    "    global load_attempts\n",
    "    response = requests.get(url)\n",
    "    \n",
    "    if response.status_code == 200:\n",
    "        return(response.text)\n",
    "        load_attempts = 0\n",
    "    else:\n",
    "        print(response.status_code,'for %s' %(url))\n",
    "        if response.status_code != 404:\n",
    "            if load_attempts == 10:\n",
    "                time.sleep(60)\n",
    "            else:\n",
    "                time.sleep(10)\n",
    "            request_page(url)\n",
    "            load_attempts += 1\n",
    "\n",
    "def get_movie_details(url, page):\n",
    "    soup = BeautifulSoup(page, 'html.parser')\n",
    "\n",
    "    movie_details[url] = {}\n",
    "    \n",
    "    plot_wrapper = soup.find('div', class_='plot_summary_wrapper')\n",
    "\n",
    "    if plot_wrapper:\n",
    "        if plot_wrapper.find(text=re.compile('Director:')):\n",
    "            directorURL = plot_wrapper.find(text=re.compile('Director:'))\n",
    "        elif plot_wrapper.find(text=re.compile('Directors:')):\n",
    "            directorURL = plot_wrapper.find(text=re.compile('Directors:'))\n",
    "        else:\n",
    "            directorURL = None\n",
    "    directorURL = directorURL.parent.parent if directorURL else None\n",
    "    directorURL = directorURL.find('a') if directorURL else None\n",
    "    director = directorURL.text if directorURL else None\n",
    "    directorURL = directorURL['href'] if directorURL else None\n",
    "    directorURL = prefix+directorURL.split(\"?\")[0] if directorURL else None\n",
    "    movie_details[url]['Director'] = director\n",
    "    movie_details[url]['Director_URL'] = directorURL\n",
    "\n",
    "    if plot_wrapper:\n",
    "        if plot_wrapper.find(text=re.compile('Stars:')):\n",
    "            starURLs = plot_wrapper.find(text=re.compile('Stars:'))\n",
    "        elif plot_wrapper.find(text=re.compile('Star:')):\n",
    "            starURLs = plot_wrapper.find(text=re.compile('Star:'))\n",
    "        else:\n",
    "            starURLs = None\n",
    "    starURLs = starURLs.parent.parent if starURLs else None\n",
    "    starURLs = starURLs.findAll('a') if starURLs else None\n",
    "    if starURLs:\n",
    "        if len(starURLs) == 4:\n",
    "            starURLs = [[star['href'],star.text] for star in starURLs[:-1]]\n",
    "        else:\n",
    "            starURLs = [[star['href'],star.text] for star in starURLs]\n",
    "    if starURLs:\n",
    "        i = 0\n",
    "        while len(starURLs) >= i+1:\n",
    "            for URL in starURLs:\n",
    "                star = starURLs[i]\n",
    "                movie_details[url]['Star%s' %str(i+1)] = star[1].split('\\n')[0].strip() if star[1] else None\n",
    "                movie_details[url]['Star%s_URL' %str(i+1)] = prefix+star[0].split(\"?\")[0] if star[0] else None\n",
    "            i += 1 \n",
    "    \n",
    "    title = soup.find('div', class_='title_wrapper').find('h1',itemprop='name')\n",
    "    title = title.contents[0].replace(u'\\xa0', u'')\n",
    "    movie_details[url]['Title'] = title\n",
    "\n",
    "    release_date = soup.find('div', class_='title_wrapper')\n",
    "    release_date = release_date.findAll('a') if release_date else None\n",
    "    release_date = release_date[-1] if release_date else None\n",
    "    release_date = release_date.find('meta') if release_date else None\n",
    "    release_date = str(release_date) if release_date else None\n",
    "    release_date = re.sub('[^0-9-]+','', release_date) if release_date else None\n",
    "    movie_details[url]['Release Date'] = release_date\n",
    "\n",
    "    title_details = soup.find(id='titleDetails')\n",
    "    \n",
    "    production_company = title_details.find(text=re.compile('Production Co:')) if title_details else None\n",
    "    production_company = production_company.parent.parent if production_company else None\n",
    "    production_company = production_company.find('a') if production_company else None\n",
    "    production_company = production_company.text if production_company else None\n",
    "    movie_details[url]['Production Company'] = production_company\n",
    "\n",
    "    country = title_details.find(text=re.compile('Country:')) if title_details else None\n",
    "    country = country.parent.parent if country else None\n",
    "    country = country.find('a') if country else None\n",
    "    country = country.text if country else None\n",
    "    movie_details[url]['Country'] = country\n",
    "\n",
    "    language = title_details.find(text=re.compile('Language:')) if title_details else None\n",
    "    language = language.parent.parent if language else None\n",
    "    language = language.find('a') if language else None\n",
    "    language = language.text if language else None\n",
    "    movie_details[url]['Language'] = language\n",
    "\n",
    "    primary_filming_location = title_details.find(text=re.compile('Filming Locations:')) if title_details else None\n",
    "    primary_filming_location = primary_filming_location.parent.parent if primary_filming_location else None\n",
    "    primary_filming_location = primary_filming_location.find('a') if primary_filming_location else None\n",
    "    primary_filming_location= primary_filming_location.text if primary_filming_location else None\n",
    "    movie_details[url]['Primary Filming Location'] = primary_filming_location\n",
    "\n",
    "    budget = title_details.find(text=re.compile('Budget:')) if title_details else None\n",
    "    budget = budget.parent.parent if budget else None\n",
    "    budget = budget.text.strip() if budget else None\n",
    "    budget = re.sub('[^0-9]+','', budget) if budget else None\n",
    "    movie_details[url]['Budget'] = budget\n",
    "\n",
    "    opening_weekend_usa = title_details.find(text=re.compile('Opening Weekend USA:')) if title_details else None\n",
    "    opening_weekend_usa = opening_weekend_usa.parent.parent if opening_weekend_usa else None\n",
    "    opening_weekend_usa = opening_weekend_usa.text.strip() if opening_weekend_usa else None\n",
    "    opening_weekend_usa = re.sub('[^0-9]+','', opening_weekend_usa) if opening_weekend_usa else None\n",
    "    movie_details[url]['Opening Weekend USA'] = opening_weekend_usa\n",
    "\n",
    "    #rename gross to gross USA in listing scrape\n",
    "    global_gross = title_details.find(text=re.compile('Cumulative Worldwide Gross:')) if title_details else None\n",
    "    global_gross = global_gross.parent.parent if global_gross else None\n",
    "    global_gross = global_gross.text.strip() if global_gross else None\n",
    "    global_gross = re.sub('[^0-9]+','', global_gross) if global_gross else None\n",
    "    movie_details[url]['Cumulative Worldwide Gross'] = global_gross\n",
    "\n",
    "    gross_usa = title_details.find(text=re.compile('Gross USA:')) if title_details else None\n",
    "    gross_usa = gross_usa.parent.parent if gross_usa else None\n",
    "    gross_usa = gross_usa.text.strip() if gross_usa else None\n",
    "    gross_usa = re.sub('[^0-9]+','', gross_usa) if gross_usa else None\n",
    "    movie_details[url]['Gross USA'] = gross_usa\n",
    "\n",
    "    go_to_next_and_export()\n",
    "\n",
    "def go_to_next_and_export():\n",
    "    global movies_scraped\n",
    "    global movie_details\n",
    "    \n",
    "    movies_scraped+=1\n",
    "\n",
    "    if len(movie_details) == 1000:                                         \n",
    "        export_to_json(movie_details)\n",
    "        movies_scraped = 0\n",
    "        movie_details = {}\n",
    "\n",
    "def export_to_json(movie_details):\n",
    "    global export_no\n",
    "    global export_number\n",
    "    with open('movie_details_export_%s.json' %(export_no),'w')  as f:\n",
    "        json.dump(movie_details,f)\n",
    "\n",
    "    export_number += 1\n",
    "    export_no = str(export_number)\n",
    "    print(str(datetime.now()),': working on export ' + export_no)\n",
    "\n",
    "movie_scraper()"
   ]
  },
  {
   "cell_type": "raw",
   "metadata": {},
   "source": [
    "import json\n",
    "import pandas as pd\n",
    "\n",
    "movies_df = pd.read_json('movie_details_export_1.json',orient='index')"
   ]
  },
  {
   "cell_type": "raw",
   "metadata": {},
   "source": [
    "movies_df"
   ]
  },
  {
   "cell_type": "raw",
   "metadata": {},
   "source": [
    "movies_df2 = pd.read_json('movie_details_exports/movie_details_export_1.json',orient='index',)"
   ]
  },
  {
   "cell_type": "raw",
   "metadata": {},
   "source": [
    "movies_df2.loc['http://www.imdb.com/title/tt7056732/']"
   ]
  }
 ],
 "metadata": {
  "kernelspec": {
   "display_name": "Python 3",
   "language": "python",
   "name": "python3"
  },
  "language_info": {
   "codemirror_mode": {
    "name": "ipython",
    "version": 3
   },
   "file_extension": ".py",
   "mimetype": "text/x-python",
   "name": "python",
   "nbconvert_exporter": "python",
   "pygments_lexer": "ipython3",
   "version": "3.6.4"
  }
 },
 "nbformat": 4,
 "nbformat_minor": 2
}
