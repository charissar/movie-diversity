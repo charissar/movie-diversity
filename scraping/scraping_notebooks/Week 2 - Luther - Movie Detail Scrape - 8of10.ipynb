{
 "cells": [
  {
   "cell_type": "markdown",
   "metadata": {},
   "source": [
    "# Importing and Dropping Duplicates"
   ]
  },
  {
   "cell_type": "code",
   "execution_count": 1,
   "metadata": {},
   "outputs": [],
   "source": [
    "import pandas as pd\n",
    "import json"
   ]
  },
  {
   "cell_type": "code",
   "execution_count": 2,
   "metadata": {},
   "outputs": [],
   "source": [
    "imports = []\n",
    "for i in range(1,41):\n",
    "    imports.append('genre_exports/export_%s.json' %(str(i)))   #rename to genre_export"
   ]
  },
  {
   "cell_type": "code",
   "execution_count": 3,
   "metadata": {},
   "outputs": [
    {
     "data": {
      "text/plain": [
       "['genre_exports/export_1.json',\n",
       " 'genre_exports/export_2.json',\n",
       " 'genre_exports/export_3.json',\n",
       " 'genre_exports/export_4.json',\n",
       " 'genre_exports/export_5.json',\n",
       " 'genre_exports/export_6.json',\n",
       " 'genre_exports/export_7.json',\n",
       " 'genre_exports/export_8.json',\n",
       " 'genre_exports/export_9.json',\n",
       " 'genre_exports/export_10.json',\n",
       " 'genre_exports/export_11.json',\n",
       " 'genre_exports/export_12.json',\n",
       " 'genre_exports/export_13.json',\n",
       " 'genre_exports/export_14.json',\n",
       " 'genre_exports/export_15.json',\n",
       " 'genre_exports/export_16.json',\n",
       " 'genre_exports/export_17.json',\n",
       " 'genre_exports/export_18.json',\n",
       " 'genre_exports/export_19.json',\n",
       " 'genre_exports/export_20.json',\n",
       " 'genre_exports/export_21.json',\n",
       " 'genre_exports/export_22.json',\n",
       " 'genre_exports/export_23.json',\n",
       " 'genre_exports/export_24.json',\n",
       " 'genre_exports/export_25.json',\n",
       " 'genre_exports/export_26.json',\n",
       " 'genre_exports/export_27.json',\n",
       " 'genre_exports/export_28.json',\n",
       " 'genre_exports/export_29.json',\n",
       " 'genre_exports/export_30.json',\n",
       " 'genre_exports/export_31.json',\n",
       " 'genre_exports/export_32.json',\n",
       " 'genre_exports/export_33.json',\n",
       " 'genre_exports/export_34.json',\n",
       " 'genre_exports/export_35.json',\n",
       " 'genre_exports/export_36.json',\n",
       " 'genre_exports/export_37.json',\n",
       " 'genre_exports/export_38.json',\n",
       " 'genre_exports/export_39.json',\n",
       " 'genre_exports/export_40.json']"
      ]
     },
     "execution_count": 3,
     "metadata": {},
     "output_type": "execute_result"
    }
   ],
   "source": [
    "imports"
   ]
  },
  {
   "cell_type": "code",
   "execution_count": 4,
   "metadata": {},
   "outputs": [],
   "source": [
    "movies_df = pd.DataFrame()"
   ]
  },
  {
   "cell_type": "code",
   "execution_count": 5,
   "metadata": {},
   "outputs": [],
   "source": [
    "for imp in imports:\n",
    "    movies_df = movies_df.append(pd.read_json(imp, orient='index'))\n",
    "\n",
    "# mov = mov.append(pd.read_json('export_2.json', orient='index'))\n",
    "# mov = mov.append(pd.read_json('export_3.json', orient='index'))"
   ]
  },
  {
   "cell_type": "code",
   "execution_count": 6,
   "metadata": {},
   "outputs": [
    {
     "data": {
      "text/plain": [
       "188326"
      ]
     },
     "execution_count": 6,
     "metadata": {},
     "output_type": "execute_result"
    }
   ],
   "source": [
    "len(movies_df)"
   ]
  },
  {
   "cell_type": "markdown",
   "metadata": {},
   "source": [
    "### Use New DataFrame"
   ]
  },
  {
   "cell_type": "code",
   "execution_count": 7,
   "metadata": {},
   "outputs": [],
   "source": [
    "movies = pd.DataFrame(movies_df)"
   ]
  },
  {
   "cell_type": "code",
   "execution_count": 8,
   "metadata": {},
   "outputs": [],
   "source": [
    "movies['ID'] = movies.index"
   ]
  },
  {
   "cell_type": "raw",
   "metadata": {},
   "source": [
    "movies.sample(400)"
   ]
  },
  {
   "cell_type": "code",
   "execution_count": 9,
   "metadata": {},
   "outputs": [],
   "source": [
    "movies = movies.drop_duplicates(subset='ID',keep='first')"
   ]
  },
  {
   "cell_type": "code",
   "execution_count": 10,
   "metadata": {},
   "outputs": [
    {
     "data": {
      "text/plain": [
       "106906"
      ]
     },
     "execution_count": 10,
     "metadata": {},
     "output_type": "execute_result"
    }
   ],
   "source": [
    "len(movies)"
   ]
  },
  {
   "cell_type": "markdown",
   "metadata": {},
   "source": [
    "## Drop NaN Ratings"
   ]
  },
  {
   "cell_type": "code",
   "execution_count": 11,
   "metadata": {},
   "outputs": [
    {
     "data": {
      "text/plain": [
       "29609"
      ]
     },
     "execution_count": 11,
     "metadata": {},
     "output_type": "execute_result"
    }
   ],
   "source": [
    "movies['Rating'].isnull().sum()"
   ]
  },
  {
   "cell_type": "code",
   "execution_count": 12,
   "metadata": {},
   "outputs": [],
   "source": [
    "movies = movies.dropna(subset = ['Rating'])"
   ]
  },
  {
   "cell_type": "code",
   "execution_count": 13,
   "metadata": {},
   "outputs": [
    {
     "data": {
      "text/plain": [
       "77297"
      ]
     },
     "execution_count": 13,
     "metadata": {},
     "output_type": "execute_result"
    }
   ],
   "source": [
    "len(movies)"
   ]
  },
  {
   "cell_type": "markdown",
   "metadata": {},
   "source": [
    "## Keep Only Movies with Drop Movies with 1000 Votes or More"
   ]
  },
  {
   "cell_type": "code",
   "execution_count": 14,
   "metadata": {},
   "outputs": [],
   "source": [
    "movies['Votes'] = movies['Votes'].str.replace(',','')"
   ]
  },
  {
   "cell_type": "code",
   "execution_count": 15,
   "metadata": {
    "scrolled": true
   },
   "outputs": [
    {
     "data": {
      "text/plain": [
       "http://www.imdb.com/title/tt0006206/     3519\n",
       "http://www.imdb.com/title/tt0009682/      541\n",
       "http://www.imdb.com/title/tt0014720/        9\n",
       "http://www.imdb.com/title/tt0015163/     7287\n",
       "http://www.imdb.com/title/tt0015324/    24694\n",
       "http://www.imdb.com/title/tt0017925/    61402\n",
       "http://www.imdb.com/title/tt0018578/     8998\n",
       "http://www.imdb.com/title/tt0019421/    10630\n",
       "http://www.imdb.com/title/tt0019532/      269\n",
       "http://www.imdb.com/title/tt0020815/     1325\n",
       "http://www.imdb.com/title/tt0021079/     9804\n",
       "http://www.imdb.com/title/tt0022753/      728\n",
       "http://www.imdb.com/title/tt0023427/    21444\n",
       "http://www.imdb.com/title/tt0023551/     5944\n",
       "http://www.imdb.com/title/tt0025004/     1958\n",
       "http://www.imdb.com/title/tt0025862/     4124\n",
       "http://www.imdb.com/title/tt0026164/     1433\n",
       "http://www.imdb.com/title/tt0026174/    10768\n",
       "http://www.imdb.com/title/tt0027438/     3741\n",
       "http://www.imdb.com/title/tt0027623/     1745\n",
       "http://www.imdb.com/title/tt0029047/     1707\n",
       "http://www.imdb.com/title/tt0029081/      835\n",
       "http://www.imdb.com/title/tt0029843/    41480\n",
       "http://www.imdb.com/title/tt0029850/     8927\n",
       "http://www.imdb.com/title/tt0031088/     4662\n",
       "http://www.imdb.com/title/tt0031747/     1717\n",
       "http://www.imdb.com/title/tt0031867/    10487\n",
       "http://www.imdb.com/title/tt0032484/    15145\n",
       "http://www.imdb.com/title/tt0032762/     8067\n",
       "http://www.imdb.com/title/tt0032850/     1199\n",
       "                                        ...  \n",
       "http://www.imdb.com/title/tt0473191/       36\n",
       "http://www.imdb.com/title/tt0474798/        6\n",
       "http://www.imdb.com/title/tt0484283/       10\n",
       "http://www.imdb.com/title/tt0493287/       34\n",
       "http://www.imdb.com/title/tt0756286/       15\n",
       "http://www.imdb.com/title/tt0795362/      100\n",
       "http://www.imdb.com/title/tt0798798/       11\n",
       "http://www.imdb.com/title/tt0955291/        7\n",
       "http://www.imdb.com/title/tt0986271/        7\n",
       "http://www.imdb.com/title/tt1223141/       25\n",
       "http://www.imdb.com/title/tt1344659/       63\n",
       "http://www.imdb.com/title/tt1361857/       31\n",
       "http://www.imdb.com/title/tt1362468/        8\n",
       "http://www.imdb.com/title/tt1511469/       18\n",
       "http://www.imdb.com/title/tt1537920/       11\n",
       "http://www.imdb.com/title/tt1666711/        5\n",
       "http://www.imdb.com/title/tt1753916/       12\n",
       "http://www.imdb.com/title/tt1842394/        6\n",
       "http://www.imdb.com/title/tt1874644/       12\n",
       "http://www.imdb.com/title/tt1928157/        5\n",
       "http://www.imdb.com/title/tt2159768/        6\n",
       "http://www.imdb.com/title/tt2280644/        6\n",
       "http://www.imdb.com/title/tt2390968/       19\n",
       "http://www.imdb.com/title/tt2418150/       22\n",
       "http://www.imdb.com/title/tt2507106/        5\n",
       "http://www.imdb.com/title/tt2749034/       12\n",
       "http://www.imdb.com/title/tt2879728/        5\n",
       "http://www.imdb.com/title/tt3751082/       10\n",
       "http://www.imdb.com/title/tt3924776/       40\n",
       "http://www.imdb.com/title/tt4386364/       33\n",
       "Name: Votes, Length: 77297, dtype: object"
      ]
     },
     "execution_count": 15,
     "metadata": {},
     "output_type": "execute_result"
    }
   ],
   "source": [
    "movies['Votes']"
   ]
  },
  {
   "cell_type": "code",
   "execution_count": 16,
   "metadata": {},
   "outputs": [],
   "source": [
    "movies['Votes'] = movies['Votes'].astype(int)"
   ]
  },
  {
   "cell_type": "code",
   "execution_count": 17,
   "metadata": {},
   "outputs": [
    {
     "data": {
      "text/plain": [
       "29717"
      ]
     },
     "execution_count": 17,
     "metadata": {},
     "output_type": "execute_result"
    }
   ],
   "source": [
    "len(movies[movies['Votes'] >= 500])"
   ]
  },
  {
   "cell_type": "code",
   "execution_count": 18,
   "metadata": {},
   "outputs": [],
   "source": [
    "movies = movies[movies['Votes'] >= 500]"
   ]
  },
  {
   "cell_type": "raw",
   "metadata": {},
   "source": []
  },
  {
   "cell_type": "markdown",
   "metadata": {},
   "source": [
    "# Scrape Details with Movie URL"
   ]
  },
  {
   "cell_type": "code",
   "execution_count": 19,
   "metadata": {},
   "outputs": [
    {
     "data": {
      "text/plain": [
       "29717"
      ]
     },
     "execution_count": 19,
     "metadata": {},
     "output_type": "execute_result"
    }
   ],
   "source": [
    "len(movies.index)"
   ]
  },
  {
   "cell_type": "code",
   "execution_count": 20,
   "metadata": {
    "scrolled": false
   },
   "outputs": [
    {
     "data": {
      "text/plain": [
       "Index(['http://www.imdb.com/title/tt0006206/',\n",
       "       'http://www.imdb.com/title/tt0009682/',\n",
       "       'http://www.imdb.com/title/tt0015163/',\n",
       "       'http://www.imdb.com/title/tt0015324/',\n",
       "       'http://www.imdb.com/title/tt0017925/',\n",
       "       'http://www.imdb.com/title/tt0018578/',\n",
       "       'http://www.imdb.com/title/tt0019421/',\n",
       "       'http://www.imdb.com/title/tt0020815/',\n",
       "       'http://www.imdb.com/title/tt0021079/',\n",
       "       'http://www.imdb.com/title/tt0022753/',\n",
       "       ...\n",
       "       'http://www.imdb.com/title/tt0439504/',\n",
       "       'http://www.imdb.com/title/tt0457530/',\n",
       "       'http://www.imdb.com/title/tt0495747/',\n",
       "       'http://www.imdb.com/title/tt1384925/',\n",
       "       'http://www.imdb.com/title/tt1388402/',\n",
       "       'http://www.imdb.com/title/tt1555110/',\n",
       "       'http://www.imdb.com/title/tt2014202/',\n",
       "       'http://www.imdb.com/title/tt2140381/',\n",
       "       'http://www.imdb.com/title/tt4893452/',\n",
       "       'http://www.imdb.com/title/tt5143890/'],\n",
       "      dtype='object', length=29717)"
      ]
     },
     "execution_count": 20,
     "metadata": {},
     "output_type": "execute_result"
    }
   ],
   "source": [
    "movies.index"
   ]
  },
  {
   "cell_type": "code",
   "execution_count": 21,
   "metadata": {},
   "outputs": [],
   "source": [
    "movie_urls = list(movies.index)"
   ]
  },
  {
   "cell_type": "code",
   "execution_count": 22,
   "metadata": {},
   "outputs": [
    {
     "data": {
      "text/plain": [
       "29717"
      ]
     },
     "execution_count": 22,
     "metadata": {},
     "output_type": "execute_result"
    }
   ],
   "source": [
    "len(movie_urls)"
   ]
  },
  {
   "cell_type": "raw",
   "metadata": {},
   "source": [
    "movie_urls[2]"
   ]
  },
  {
   "cell_type": "code",
   "execution_count": 23,
   "metadata": {},
   "outputs": [],
   "source": [
    "movie_urls = sorted(movie_urls,reverse = True)"
   ]
  },
  {
   "cell_type": "raw",
   "metadata": {},
   "source": [
    "movie_urls[-200:]"
   ]
  },
  {
   "cell_type": "code",
   "execution_count": 24,
   "metadata": {},
   "outputs": [
    {
     "data": {
      "text/plain": [
       "Index(['Certificate', 'Director', 'Genre', 'Gross', 'Metascore', 'Rating',\n",
       "       'Runtime', 'Star1', 'Star1_URL', 'Star2', 'Star2_URL', 'Star3',\n",
       "       'Star3_URL', 'Star4', 'Star4_URL', 'Title', 'Votes', 'Year', 'ID'],\n",
       "      dtype='object')"
      ]
     },
     "execution_count": 24,
     "metadata": {},
     "output_type": "execute_result"
    }
   ],
   "source": [
    "movies.columns"
   ]
  },
  {
   "cell_type": "raw",
   "metadata": {},
   "source": [
    "movies.loc['http://www.imdb.com/title/tt0102926/']"
   ]
  },
  {
   "cell_type": "raw",
   "metadata": {},
   "source": [
    "import re\n",
    "import requests\n",
    "from bs4 import BeautifulSoup\n",
    "from datetime import datetime\n",
    "\n",
    "url = 'http://www.imdb.com/title/tt5013056/'\n",
    "response = requests.get(url)\n",
    "soup = BeautifulSoup(response.text, 'html.parser')"
   ]
  },
  {
   "cell_type": "raw",
   "metadata": {},
   "source": [
    "prefix = 'http://www.imdb.com'\n",
    "\n",
    "movie_details = {}\n",
    "movie_details[url] = {}\n",
    "\n",
    "stars = soup.find(id='titleCast')\n",
    "stars = stars.find('table', class_='cast_list') if stars else None\n",
    "stars = stars.findAll('td', class_='itemprop') if stars else None\n",
    "starlisttemp = []\n",
    "stars = [starlisttemp.append([star.find('a')['href'],star.find('a').text]) for star in stars[0:10]] if stars else None\n",
    "starlist = []\n",
    "if starlisttemp: [starlist.append([prefix+combination[0].split('?')[0],combination[1].split('\\n')[0].strip()]) for combination in starlisttemp]\n",
    "\n",
    "\n",
    "# starURLs = [star.find('a')['href'] for star in stars] if stars else None\n",
    "# starURLs = [prefix + URL.split('?')[0] for URL in starURLs] if starURLs else None\n",
    "\n",
    "# starnames = [star.find('a').text for star in stars] if stars else None\n",
    "# starnames = [name.split('\\n')[0].strip() for name in starnames] if starnames else None\n",
    "\n",
    "# if starnames[0:4]: \n",
    "#     i = 0\n",
    "#     for star in starnames:\n",
    "#         star = starnames[i]\n",
    "#         movie_details[url]['Star%s' %str(i+1)] = star\n",
    "#         starURL = starURLs[i] if starURLs[i] else None\n",
    "\n",
    "#         movie_details[url]['Star%s_URL' %str(i+1)] = prefix+starURL\n",
    "#         i += 1\n",
    "\n",
    "# stars\n",
    "# starURLs\n",
    "# movie_details\n",
    "starlist"
   ]
  },
  {
   "cell_type": "raw",
   "metadata": {},
   "source": [
    "starURLs = soup.find('div', class_='plot_summary_wrapper')\n",
    "starURLs = starURLs.find(text=re.compile('Stars:')) if starURLs else None\n",
    "starURLs = starURLs.parent.parent if starURLs else None\n",
    "starURLs = starURLs.findAll('a') if starURLs else None\n",
    "starURLs = [[star['href'],star.text] for star in starURLs[:-1]] if starURLs else None\n",
    "if starURLs:\n",
    "    i = 0\n",
    "    while len(starURLs) >= i+1:\n",
    "        for URL in starURLs:\n",
    "            star = starURLs[i]\n",
    "            movie_details[url]['Star%s' %str(i+1)] = star[1].split('\\n')[0].strip() if star[1] else None\n",
    "            movie_details[url]['Star%s_URL' %str(i+1)] = prefix+star[0].split(\"?\")[0] if star[0] else None\n",
    "            i += 1\n",
    "        \n",
    "# director = starURLs.text if starURLs else None\n",
    "# starURLs = starURLs['href'] if starURLs else None\n",
    "# starURLs = prefix+starURLs.split(\"?\")[0] if starURLs else None\n",
    "# movie_details[url]['Director'] = director\n",
    "# movie_details[url]['Director_URL'] = starURLs\n",
    "                                   \n",
    "movie_details   \n",
    "# stars\n",
    "# starURLs"
   ]
  },
  {
   "cell_type": "code",
   "execution_count": null,
   "metadata": {},
   "outputs": [],
   "source": []
  },
  {
   "cell_type": "code",
   "execution_count": null,
   "metadata": {},
   "outputs": [],
   "source": []
  },
  {
   "cell_type": "code",
   "execution_count": 26,
   "metadata": {
    "scrolled": false
   },
   "outputs": [
    {
     "name": "stdout",
     "output_type": "stream",
     "text": [
      "2018-01-29 21:03:55.000971 : working on export 35\n",
      "21020: http://www.imdb.com/title/tt0093402/\n",
      "21040: http://www.imdb.com/title/tt0093260/\n",
      "21060: http://www.imdb.com/title/tt0093177/\n",
      "21080: http://www.imdb.com/title/tt0093075/\n",
      "21100: http://www.imdb.com/title/tt0092965/\n",
      "21120: http://www.imdb.com/title/tt0092842/\n",
      "21140: http://www.imdb.com/title/tt0092723/\n",
      "21160: http://www.imdb.com/title/tt0092632/\n",
      "21180: http://www.imdb.com/title/tt0092545/\n",
      "21200: http://www.imdb.com/title/tt0092214/\n",
      "21220: http://www.imdb.com/title/tt0092076/\n",
      "21240: http://www.imdb.com/title/tt0091954/\n",
      "21260: http://www.imdb.com/title/tt0091815/\n",
      "21280: http://www.imdb.com/title/tt0091670/\n",
      "21300: http://www.imdb.com/title/tt0091560/\n",
      "21320: http://www.imdb.com/title/tt0091431/\n",
      "21340: http://www.imdb.com/title/tt0091314/\n",
      "21360: http://www.imdb.com/title/tt0091187/\n",
      "21380: http://www.imdb.com/title/tt0091059/\n",
      "21400: http://www.imdb.com/title/tt0090915/\n",
      "21420: http://www.imdb.com/title/tt0090788/\n",
      "21440: http://www.imdb.com/title/tt0090660/\n",
      "21460: http://www.imdb.com/title/tt0090557/\n",
      "21480: http://www.imdb.com/title/tt0090274/\n",
      "21500: http://www.imdb.com/title/tt0090184/\n",
      "21520: http://www.imdb.com/title/tt0090022/\n",
      "21540: http://www.imdb.com/title/tt0089886/\n",
      "21560: http://www.imdb.com/title/tt0089800/\n",
      "21580: http://www.imdb.com/title/tt0089656/\n",
      "21600: http://www.imdb.com/title/tt0089539/\n",
      "21620: http://www.imdb.com/title/tt0089385/\n",
      "21640: http://www.imdb.com/title/tt0089243/\n",
      "21660: http://www.imdb.com/title/tt0089108/\n",
      "21680: http://www.imdb.com/title/tt0088993/\n",
      "21700: http://www.imdb.com/title/tt0088879/\n",
      "21720: http://www.imdb.com/title/tt0088708/\n",
      "21740: http://www.imdb.com/title/tt0088333/\n",
      "21760: http://www.imdb.com/title/tt0088167/\n",
      "21780: http://www.imdb.com/title/tt0088009/\n",
      "21800: http://www.imdb.com/title/tt0087910/\n",
      "21820: http://www.imdb.com/title/tt0087796/\n",
      "21840: http://www.imdb.com/title/tt0087650/\n",
      "21860: http://www.imdb.com/title/tt0087507/\n",
      "21880: http://www.imdb.com/title/tt0087365/\n",
      "21900: http://www.imdb.com/title/tt0087246/\n",
      "21920: http://www.imdb.com/title/tt0087068/\n",
      "21940: http://www.imdb.com/title/tt0086994/\n",
      "21960: http://www.imdb.com/title/tt0086896/\n",
      "21980: http://www.imdb.com/title/tt0086606/\n",
      "22000: http://www.imdb.com/title/tt0086486/\n",
      "2018-01-29 21:23:07.161950 : working on export 36\n",
      "22020: http://www.imdb.com/title/tt0086370/\n",
      "22040: http://www.imdb.com/title/tt0086250/\n",
      "22060: http://www.imdb.com/title/tt0086176/\n",
      "22080: http://www.imdb.com/title/tt0086022/\n",
      "22100: http://www.imdb.com/title/tt0085900/\n",
      "22120: http://www.imdb.com/title/tt0085748/\n",
      "22140: http://www.imdb.com/title/tt0085549/\n",
      "22160: http://www.imdb.com/title/tt0085387/\n",
      "22180: http://www.imdb.com/title/tt0085279/\n",
      "22200: http://www.imdb.com/title/tt0085204/\n",
      "22220: http://www.imdb.com/title/tt0084904/\n",
      "22240: http://www.imdb.com/title/tt0084786/\n",
      "22260: http://www.imdb.com/title/tt0084695/\n",
      "22280: http://www.imdb.com/title/tt0084556/\n",
      "22300: http://www.imdb.com/title/tt0084434/\n",
      "22320: http://www.imdb.com/title/tt0084296/\n",
      "22340: http://www.imdb.com/title/tt0084090/\n",
      "22360: http://www.imdb.com/title/tt0083941/\n",
      "22380: http://www.imdb.com/title/tt0083801/\n",
      "22400: http://www.imdb.com/title/tt0083661/\n",
      "22420: http://www.imdb.com/title/tt0083557/\n",
      "22440: http://www.imdb.com/title/tt0083258/\n",
      "22460: http://www.imdb.com/title/tt0083113/\n",
      "22480: http://www.imdb.com/title/tt0082979/\n",
      "22500: http://www.imdb.com/title/tt0082912/\n",
      "22520: http://www.imdb.com/title/tt0082806/\n",
      "22540: http://www.imdb.com/title/tt0082696/\n",
      "22560: http://www.imdb.com/title/tt0082533/\n",
      "22580: http://www.imdb.com/title/tt0082467/\n",
      "22600: http://www.imdb.com/title/tt0082379/\n",
      "22620: http://www.imdb.com/title/tt0082314/\n",
      "22640: http://www.imdb.com/title/tt0082210/\n",
      "22660: http://www.imdb.com/title/tt0082111/\n",
      "22680: http://www.imdb.com/title/tt0081991/\n",
      "22700: http://www.imdb.com/title/tt0081662/\n",
      "22720: http://www.imdb.com/title/tt0081506/\n",
      "22740: http://www.imdb.com/title/tt0081383/\n",
      "22760: http://www.imdb.com/title/tt0081187/\n",
      "22780: http://www.imdb.com/title/tt0081060/\n",
      "22800: http://www.imdb.com/title/tt0080881/\n",
      "22820: http://www.imdb.com/title/tt0080761/\n",
      "22840: http://www.imdb.com/title/tt0080661/\n",
      "22860: http://www.imdb.com/title/tt0080520/\n",
      "22880: http://www.imdb.com/title/tt0080448/\n",
      "22900: http://www.imdb.com/title/tt0080339/\n",
      "22920: http://www.imdb.com/title/tt0080057/\n",
      "22940: http://www.imdb.com/title/tt0079891/\n",
      "22960: http://www.imdb.com/title/tt0079766/\n",
      "22980: http://www.imdb.com/title/tt0079639/\n",
      "23000: http://www.imdb.com/title/tt0079509/\n",
      "2018-01-29 21:41:53.991335 : working on export 37\n",
      "23020: http://www.imdb.com/title/tt0079368/\n",
      "23040: http://www.imdb.com/title/tt0079219/\n",
      "23060: http://www.imdb.com/title/tt0079116/\n",
      "23080: http://www.imdb.com/title/tt0078924/\n",
      "23100: http://www.imdb.com/title/tt0078806/\n",
      "23120: http://www.imdb.com/title/tt0078517/\n",
      "23140: http://www.imdb.com/title/tt0078382/\n",
      "23160: http://www.imdb.com/title/tt0078199/\n",
      "23180: http://www.imdb.com/title/tt0078034/\n",
      "23200: http://www.imdb.com/title/tt0077864/\n",
      "23220: http://www.imdb.com/title/tt0077681/\n",
      "23240: http://www.imdb.com/title/tt0077532/\n",
      "23260: http://www.imdb.com/title/tt0077373/\n",
      "23280: http://www.imdb.com/title/tt0077278/\n",
      "23300: http://www.imdb.com/title/tt0077138/\n",
      "23320: http://www.imdb.com/title/tt0076788/\n",
      "23340: http://www.imdb.com/title/tt0076683/\n",
      "23360: http://www.imdb.com/title/tt0076527/\n",
      "23380: http://www.imdb.com/title/tt0076319/\n",
      "23400: http://www.imdb.com/title/tt0076172/\n",
      "23420: http://www.imdb.com/title/tt0076068/\n",
      "23440: http://www.imdb.com/title/tt0075930/\n",
      "23460: http://www.imdb.com/title/tt0075784/\n",
      "23480: http://www.imdb.com/title/tt0075651/\n",
      "23500: http://www.imdb.com/title/tt0075343/\n",
      "23520: http://www.imdb.com/title/tt0075194/\n",
      "23540: http://www.imdb.com/title/tt0075040/\n",
      "23560: http://www.imdb.com/title/tt0074916/\n",
      "23580: http://www.imdb.com/title/tt0074798/\n",
      "23600: http://www.imdb.com/title/tt0074633/\n",
      "23620: http://www.imdb.com/title/tt0074486/\n",
      "23640: http://www.imdb.com/title/tt0074343/\n",
      "23660: http://www.imdb.com/title/tt0074205/\n",
      "23680: http://www.imdb.com/title/tt0073880/\n",
      "23700: http://www.imdb.com/title/tt0073755/\n",
      "23720: http://www.imdb.com/title/tt0073629/\n",
      "23740: http://www.imdb.com/title/tt0073482/\n",
      "23760: http://www.imdb.com/title/tt0073275/\n",
      "23780: http://www.imdb.com/title/tt0073107/\n",
      "23800: http://www.imdb.com/title/tt0072976/\n",
      "23820: http://www.imdb.com/title/tt0072826/\n",
      "23840: http://www.imdb.com/title/tt0072666/\n",
      "23860: http://www.imdb.com/title/tt0072354/\n",
      "23880: http://www.imdb.com/title/tt0072251/\n",
      "23900: http://www.imdb.com/title/tt0072184/\n",
      "23920: http://www.imdb.com/title/tt0071956/\n",
      "23940: http://www.imdb.com/title/tt0071790/\n",
      "23960: http://www.imdb.com/title/tt0071650/\n",
      "23980: http://www.imdb.com/title/tt0071537/\n",
      "24000: http://www.imdb.com/title/tt0071431/\n",
      "2018-01-29 22:00:22.577915 : working on export 38\n",
      "2018-01-29 22:00:22.580399 : working on export 39\n",
      "Done\n"
     ]
    }
   ],
   "source": [
    "# Movie Details\n",
    "import re\n",
    "import requests\n",
    "from bs4 import BeautifulSoup\n",
    "from datetime import datetime\n",
    "import time\n",
    "\n",
    "movies_scraped = 0\n",
    "movie_details = {}\n",
    "movie_index = 21000                       \n",
    "prefix = 'http://www.imdb.com'\n",
    "export_number = 35\n",
    "export_no = str(export_number)\n",
    "load_attempts = 0\n",
    "\n",
    "def movie_scraper():\n",
    "    global movie_index\n",
    "    \n",
    "    print(str(datetime.now()),': working on export ' + export_no)\n",
    "    \n",
    "    for url in movie_urls[movie_index:24000]:\n",
    "        if (movie_index+1) % 20 == 0:\n",
    "            time.sleep(1.5)\n",
    "            print('%d: %s' %(movie_index+1, url))\n",
    "        page = request_page(url)\n",
    "        get_movie_details(url, page)\n",
    "        movie_index += 1\n",
    "    \n",
    "    export_to_json(movie_details)\n",
    "    print(\"Done\")\n",
    "    \n",
    "def request_page(url):\n",
    "    global load_attempts\n",
    "    response = requests.get(url)\n",
    "    \n",
    "    if response.status_code == 200:\n",
    "        return(response.text)\n",
    "        load_attempts = 0\n",
    "    else:\n",
    "        print(response.status_code,'for %s' %(url))\n",
    "        if response.status_code != 404:\n",
    "            if load_attempts == 10:\n",
    "                time.sleep(60)\n",
    "            else:\n",
    "                time.sleep(10)\n",
    "            request_page(url)\n",
    "            load_attempts += 1\n",
    "\n",
    "def get_movie_details(url, page):\n",
    "    soup = BeautifulSoup(page, 'html.parser')\n",
    "\n",
    "    movie_details[url] = {}\n",
    "    \n",
    "    plot_wrapper = soup.find('div', class_='plot_summary_wrapper')\n",
    "\n",
    "    if plot_wrapper:\n",
    "        if plot_wrapper.find(text=re.compile('Director:')):\n",
    "            directorURL = plot_wrapper.find(text=re.compile('Director:'))\n",
    "        elif plot_wrapper.find(text=re.compile('Directors:')):\n",
    "            directorURL = plot_wrapper.find(text=re.compile('Directors:'))\n",
    "        else:\n",
    "            directorURL = None\n",
    "    directorURL = directorURL.parent.parent if directorURL else None\n",
    "    directorURL = directorURL.find('a') if directorURL else None\n",
    "    director = directorURL.text if directorURL else None\n",
    "    directorURL = directorURL['href'] if directorURL else None\n",
    "    directorURL = prefix+directorURL.split(\"?\")[0] if directorURL else None\n",
    "    movie_details[url]['Director'] = director\n",
    "    movie_details[url]['Director_URL'] = directorURL\n",
    "\n",
    "    if plot_wrapper:\n",
    "        if plot_wrapper.find(text=re.compile('Stars:')):\n",
    "            starURLs = plot_wrapper.find(text=re.compile('Stars:'))\n",
    "        elif plot_wrapper.find(text=re.compile('Star:')):\n",
    "            starURLs = plot_wrapper.find(text=re.compile('Star:'))\n",
    "        else:\n",
    "            starURLs = None\n",
    "    starURLs = starURLs.parent.parent if starURLs else None\n",
    "    starURLs = starURLs.findAll('a') if starURLs else None\n",
    "    if starURLs:\n",
    "        if len(starURLs) == 4:\n",
    "            starURLs = [[star['href'],star.text] for star in starURLs[:-1]]\n",
    "        else:\n",
    "            starURLs = [[star['href'],star.text] for star in starURLs]\n",
    "    if starURLs:\n",
    "        i = 0\n",
    "        while len(starURLs) >= i+1:\n",
    "            for URL in starURLs:\n",
    "                star = starURLs[i]\n",
    "                movie_details[url]['Star%s' %str(i+1)] = star[1].split('\\n')[0].strip() if star[1] else None\n",
    "                movie_details[url]['Star%s_URL' %str(i+1)] = prefix+star[0].split(\"?\")[0] if star[0] else None\n",
    "            i += 1 \n",
    "    \n",
    "    title = soup.find('div', class_='title_wrapper').find('h1',itemprop='name')\n",
    "    title = title.contents[0].replace(u'\\xa0', u'')\n",
    "    movie_details[url]['Title'] = title\n",
    "\n",
    "    release_date = soup.find('div', class_='title_wrapper')\n",
    "    release_date = release_date.findAll('a') if release_date else None\n",
    "    release_date = release_date[-1] if release_date else None\n",
    "    release_date = release_date.find('meta') if release_date else None\n",
    "    release_date = str(release_date) if release_date else None\n",
    "    release_date = re.sub('[^0-9-]+','', release_date) if release_date else None\n",
    "    movie_details[url]['Release Date'] = release_date\n",
    "\n",
    "    title_details = soup.find(id='titleDetails')\n",
    "    \n",
    "    production_company = title_details.find(text=re.compile('Production Co:')) if title_details else None\n",
    "    production_company = production_company.parent.parent if production_company else None\n",
    "    production_company = production_company.find('a') if production_company else None\n",
    "    production_company = production_company.text if production_company else None\n",
    "    movie_details[url]['Production Company'] = production_company\n",
    "\n",
    "    country = title_details.find(text=re.compile('Country:')) if title_details else None\n",
    "    country = country.parent.parent if country else None\n",
    "    country = country.find('a') if country else None\n",
    "    country = country.text if country else None\n",
    "    movie_details[url]['Country'] = country\n",
    "\n",
    "    language = title_details.find(text=re.compile('Language:')) if title_details else None\n",
    "    language = language.parent.parent if language else None\n",
    "    language = language.find('a') if language else None\n",
    "    language = language.text if language else None\n",
    "    movie_details[url]['Language'] = language\n",
    "\n",
    "    primary_filming_location = title_details.find(text=re.compile('Filming Locations:')) if title_details else None\n",
    "    primary_filming_location = primary_filming_location.parent.parent if primary_filming_location else None\n",
    "    primary_filming_location = primary_filming_location.find('a') if primary_filming_location else None\n",
    "    primary_filming_location= primary_filming_location.text if primary_filming_location else None\n",
    "    movie_details[url]['Primary Filming Location'] = primary_filming_location\n",
    "\n",
    "    budget = title_details.find(text=re.compile('Budget:')) if title_details else None\n",
    "    budget = budget.parent.parent if budget else None\n",
    "    budget = budget.text.strip() if budget else None\n",
    "    budget = re.sub('[^0-9]+','', budget) if budget else None\n",
    "    movie_details[url]['Budget'] = budget\n",
    "\n",
    "    opening_weekend_usa = title_details.find(text=re.compile('Opening Weekend USA:')) if title_details else None\n",
    "    opening_weekend_usa = opening_weekend_usa.parent.parent if opening_weekend_usa else None\n",
    "    opening_weekend_usa = opening_weekend_usa.text.strip() if opening_weekend_usa else None\n",
    "    opening_weekend_usa = re.sub('[^0-9]+','', opening_weekend_usa) if opening_weekend_usa else None\n",
    "    movie_details[url]['Opening Weekend USA'] = opening_weekend_usa\n",
    "\n",
    "    #rename gross to gross USA in listing scrape\n",
    "    global_gross = title_details.find(text=re.compile('Cumulative Worldwide Gross:')) if title_details else None\n",
    "    global_gross = global_gross.parent.parent if global_gross else None\n",
    "    global_gross = global_gross.text.strip() if global_gross else None\n",
    "    global_gross = re.sub('[^0-9]+','', global_gross) if global_gross else None\n",
    "    movie_details[url]['Cumulative Worldwide Gross'] = global_gross\n",
    "\n",
    "    gross_usa = title_details.find(text=re.compile('Gross USA:')) if title_details else None\n",
    "    gross_usa = gross_usa.parent.parent if gross_usa else None\n",
    "    gross_usa = gross_usa.text.strip() if gross_usa else None\n",
    "    gross_usa = re.sub('[^0-9]+','', gross_usa) if gross_usa else None\n",
    "    movie_details[url]['Gross USA'] = gross_usa\n",
    "\n",
    "    go_to_next_and_export()\n",
    "\n",
    "def go_to_next_and_export():\n",
    "    global movies_scraped\n",
    "    global movie_details\n",
    "    \n",
    "    movies_scraped+=1\n",
    "\n",
    "    if len(movie_details) == 1000:                                         \n",
    "        export_to_json(movie_details)\n",
    "        movies_scraped = 0\n",
    "        movie_details = {}\n",
    "\n",
    "def export_to_json(movie_details):\n",
    "    global export_no\n",
    "    global export_number\n",
    "    with open('movie_details_export_%s.json' %(export_no),'w')  as f:\n",
    "        json.dump(movie_details,f)\n",
    "\n",
    "    export_number += 1\n",
    "    export_no = str(export_number)\n",
    "    print(str(datetime.now()),': working on export ' + export_no)\n",
    "\n",
    "movie_scraper()"
   ]
  },
  {
   "cell_type": "raw",
   "metadata": {},
   "source": [
    "import json\n",
    "import pandas as pd\n",
    "\n",
    "movies_df = pd.read_json('movie_details_export_1.json',orient='index')"
   ]
  },
  {
   "cell_type": "raw",
   "metadata": {},
   "source": [
    "movies_df"
   ]
  },
  {
   "cell_type": "raw",
   "metadata": {},
   "source": [
    "movies_df2 = pd.read_json('movie_details_exports/movie_details_export_1.json',orient='index',)"
   ]
  },
  {
   "cell_type": "raw",
   "metadata": {},
   "source": [
    "movies_df2.loc['http://www.imdb.com/title/tt7056732/']"
   ]
  }
 ],
 "metadata": {
  "kernelspec": {
   "display_name": "Python 3",
   "language": "python",
   "name": "python3"
  },
  "language_info": {
   "codemirror_mode": {
    "name": "ipython",
    "version": 3
   },
   "file_extension": ".py",
   "mimetype": "text/x-python",
   "name": "python",
   "nbconvert_exporter": "python",
   "pygments_lexer": "ipython3",
   "version": "3.6.4"
  }
 },
 "nbformat": 4,
 "nbformat_minor": 2
}
