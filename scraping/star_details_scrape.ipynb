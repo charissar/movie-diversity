{
 "cells": [
  {
   "cell_type": "markdown",
   "metadata": {},
   "source": [
    "# Importing and Dropping Duplicates"
   ]
  },
  {
   "cell_type": "code",
   "execution_count": 1,
   "metadata": {},
   "outputs": [],
   "source": [
    "import pandas as pd\n",
    "import json"
   ]
  },
  {
   "cell_type": "code",
   "execution_count": 2,
   "metadata": {},
   "outputs": [],
   "source": [
    "imports = []\n",
    "import_numbers = [1,2,3,5,6,7,10,11,12,15,16,17,20,21,22,25,26,27,30,31,32,35,36,37,40,41,42,45,46,47]   \n",
    "for num in import_numbers:\n",
    "    imports.append('movie_details_exports/movie_details_export_%s.json' %(str(num)))  "
   ]
  },
  {
   "cell_type": "code",
   "execution_count": 3,
   "metadata": {},
   "outputs": [
    {
     "data": {
      "text/plain": [
       "['movie_details_exports/movie_details_export_1.json',\n",
       " 'movie_details_exports/movie_details_export_2.json',\n",
       " 'movie_details_exports/movie_details_export_3.json',\n",
       " 'movie_details_exports/movie_details_export_5.json',\n",
       " 'movie_details_exports/movie_details_export_6.json',\n",
       " 'movie_details_exports/movie_details_export_7.json',\n",
       " 'movie_details_exports/movie_details_export_10.json',\n",
       " 'movie_details_exports/movie_details_export_11.json',\n",
       " 'movie_details_exports/movie_details_export_12.json',\n",
       " 'movie_details_exports/movie_details_export_15.json',\n",
       " 'movie_details_exports/movie_details_export_16.json',\n",
       " 'movie_details_exports/movie_details_export_17.json',\n",
       " 'movie_details_exports/movie_details_export_20.json',\n",
       " 'movie_details_exports/movie_details_export_21.json',\n",
       " 'movie_details_exports/movie_details_export_22.json',\n",
       " 'movie_details_exports/movie_details_export_25.json',\n",
       " 'movie_details_exports/movie_details_export_26.json',\n",
       " 'movie_details_exports/movie_details_export_27.json',\n",
       " 'movie_details_exports/movie_details_export_30.json',\n",
       " 'movie_details_exports/movie_details_export_31.json',\n",
       " 'movie_details_exports/movie_details_export_32.json',\n",
       " 'movie_details_exports/movie_details_export_35.json',\n",
       " 'movie_details_exports/movie_details_export_36.json',\n",
       " 'movie_details_exports/movie_details_export_37.json',\n",
       " 'movie_details_exports/movie_details_export_40.json',\n",
       " 'movie_details_exports/movie_details_export_41.json',\n",
       " 'movie_details_exports/movie_details_export_42.json',\n",
       " 'movie_details_exports/movie_details_export_45.json',\n",
       " 'movie_details_exports/movie_details_export_46.json',\n",
       " 'movie_details_exports/movie_details_export_47.json']"
      ]
     },
     "execution_count": 3,
     "metadata": {},
     "output_type": "execute_result"
    }
   ],
   "source": [
    "imports"
   ]
  },
  {
   "cell_type": "code",
   "execution_count": 4,
   "metadata": {},
   "outputs": [],
   "source": [
    "details_df = pd.DataFrame()"
   ]
  },
  {
   "cell_type": "code",
   "execution_count": 5,
   "metadata": {},
   "outputs": [],
   "source": [
    "for imp in imports:\n",
    "    details_df = details_df.append(pd.read_json(imp, orient='index'))"
   ]
  },
  {
   "cell_type": "code",
   "execution_count": 6,
   "metadata": {},
   "outputs": [
    {
     "data": {
      "text/plain": [
       "29717"
      ]
     },
     "execution_count": 6,
     "metadata": {},
     "output_type": "execute_result"
    }
   ],
   "source": [
    "len(details_df)"
   ]
  },
  {
   "cell_type": "code",
   "execution_count": 7,
   "metadata": {},
   "outputs": [
    {
     "data": {
      "text/html": [
       "<div>\n",
       "<style scoped>\n",
       "    .dataframe tbody tr th:only-of-type {\n",
       "        vertical-align: middle;\n",
       "    }\n",
       "\n",
       "    .dataframe tbody tr th {\n",
       "        vertical-align: top;\n",
       "    }\n",
       "\n",
       "    .dataframe thead th {\n",
       "        text-align: right;\n",
       "    }\n",
       "</style>\n",
       "<table border=\"1\" class=\"dataframe\">\n",
       "  <thead>\n",
       "    <tr style=\"text-align: right;\">\n",
       "      <th></th>\n",
       "      <th>Budget</th>\n",
       "      <th>Country</th>\n",
       "      <th>Cumulative Worldwide Gross</th>\n",
       "      <th>Director</th>\n",
       "      <th>Director_URL</th>\n",
       "      <th>Gross USA</th>\n",
       "      <th>Language</th>\n",
       "      <th>Opening Weekend USA</th>\n",
       "      <th>Primary Filming Location</th>\n",
       "      <th>Production Company</th>\n",
       "      <th>Release Date</th>\n",
       "      <th>Star1</th>\n",
       "      <th>Star1_URL</th>\n",
       "      <th>Star2</th>\n",
       "      <th>Star2_URL</th>\n",
       "      <th>Star3</th>\n",
       "      <th>Star3_URL</th>\n",
       "      <th>Title</th>\n",
       "    </tr>\n",
       "  </thead>\n",
       "  <tbody>\n",
       "    <tr>\n",
       "      <th>http://www.imdb.com/title/tt4937564/</th>\n",
       "      <td>2500000.0</td>\n",
       "      <td>UK</td>\n",
       "      <td>NaN</td>\n",
       "      <td>Sylvie Verheyde</td>\n",
       "      <td>http://www.imdb.com/name/nm0894173</td>\n",
       "      <td>NaN</td>\n",
       "      <td>English</td>\n",
       "      <td>NaN</td>\n",
       "      <td>None</td>\n",
       "      <td>Les Films du Veyrier</td>\n",
       "      <td>2017-02-10</td>\n",
       "      <td>Hafsia Herzi</td>\n",
       "      <td>http://www.imdb.com/name/nm2082567</td>\n",
       "      <td>Ash Stymest</td>\n",
       "      <td>http://www.imdb.com/name/nm7514839</td>\n",
       "      <td>Karole Rocher</td>\n",
       "      <td>http://www.imdb.com/name/nm0734039</td>\n",
       "      <td>Sex Doll</td>\n",
       "    </tr>\n",
       "    <tr>\n",
       "      <th>http://www.imdb.com/title/tt4937812/</th>\n",
       "      <td>500000000.0</td>\n",
       "      <td>India</td>\n",
       "      <td>NaN</td>\n",
       "      <td>Rajesh M. Selva</td>\n",
       "      <td>http://www.imdb.com/name/nm4301161</td>\n",
       "      <td>NaN</td>\n",
       "      <td>Tamil</td>\n",
       "      <td>NaN</td>\n",
       "      <td>Chennai, Tamil Nadu, India</td>\n",
       "      <td>Raajkamal Films International</td>\n",
       "      <td>2015-11-13</td>\n",
       "      <td>Kamal Haasan</td>\n",
       "      <td>http://www.imdb.com/name/nm0352032</td>\n",
       "      <td>Prakash Raj</td>\n",
       "      <td>http://www.imdb.com/name/nm0695177</td>\n",
       "      <td>Trisha Krishnan</td>\n",
       "      <td>http://www.imdb.com/name/nm1375534</td>\n",
       "      <td>Thoongaavanam</td>\n",
       "    </tr>\n",
       "    <tr>\n",
       "      <th>http://www.imdb.com/title/tt4939066/</th>\n",
       "      <td>12620000.0</td>\n",
       "      <td>South Korea</td>\n",
       "      <td>NaN</td>\n",
       "      <td>John H. Lee</td>\n",
       "      <td>http://www.imdb.com/name/nm0497565</td>\n",
       "      <td>1.022720e+12</td>\n",
       "      <td>Korean</td>\n",
       "      <td>3.166272e+09</td>\n",
       "      <td>Seoul, South Korea</td>\n",
       "      <td>Taewon Entertainment</td>\n",
       "      <td>2016-08-12</td>\n",
       "      <td>Liam Neeson</td>\n",
       "      <td>http://www.imdb.com/name/nm0000553</td>\n",
       "      <td>Jung-jae Lee</td>\n",
       "      <td>http://www.imdb.com/name/nm0497631</td>\n",
       "      <td>Beom-su Lee</td>\n",
       "      <td>http://www.imdb.com/name/nm1045934</td>\n",
       "      <td>Battle for Incheon: Operation Chromite</td>\n",
       "    </tr>\n",
       "    <tr>\n",
       "      <th>http://www.imdb.com/title/tt4940370/</th>\n",
       "      <td>63000000.0</td>\n",
       "      <td>Sweden</td>\n",
       "      <td>NaN</td>\n",
       "      <td>Felix Herngren</td>\n",
       "      <td>http://www.imdb.com/name/nm0379773</td>\n",
       "      <td>NaN</td>\n",
       "      <td>Swedish</td>\n",
       "      <td>NaN</td>\n",
       "      <td>None</td>\n",
       "      <td>NICE FLX Pictures</td>\n",
       "      <td>2017-04-25</td>\n",
       "      <td>Robert Gustafsson</td>\n",
       "      <td>http://www.imdb.com/name/nm0349052</td>\n",
       "      <td>Iwar Wiklander</td>\n",
       "      <td>http://www.imdb.com/name/nm0928002</td>\n",
       "      <td>David Wiberg</td>\n",
       "      <td>http://www.imdb.com/name/nm2433382</td>\n",
       "      <td>The 101-Year-Old Man Who Skipped Out on the Bi...</td>\n",
       "    </tr>\n",
       "    <tr>\n",
       "      <th>http://www.imdb.com/title/tt4940456/</th>\n",
       "      <td>NaN</td>\n",
       "      <td>India</td>\n",
       "      <td>NaN</td>\n",
       "      <td>Rakeysh Omprakash Mehra</td>\n",
       "      <td>http://www.imdb.com/name/nm1018493</td>\n",
       "      <td>NaN</td>\n",
       "      <td>Hindi</td>\n",
       "      <td>NaN</td>\n",
       "      <td>None</td>\n",
       "      <td>Cinestaan Film Company</td>\n",
       "      <td>2016-10-07</td>\n",
       "      <td>Harshvardhan Kapoor</td>\n",
       "      <td>http://www.imdb.com/name/nm7561367</td>\n",
       "      <td>Saiyami Kher</td>\n",
       "      <td>http://www.imdb.com/name/nm7517362</td>\n",
       "      <td>Art Malik</td>\n",
       "      <td>http://www.imdb.com/name/nm0539562</td>\n",
       "      <td>Mirzya</td>\n",
       "    </tr>\n",
       "  </tbody>\n",
       "</table>\n",
       "</div>"
      ],
      "text/plain": [
       "                                           Budget      Country  \\\n",
       "http://www.imdb.com/title/tt4937564/    2500000.0           UK   \n",
       "http://www.imdb.com/title/tt4937812/  500000000.0        India   \n",
       "http://www.imdb.com/title/tt4939066/   12620000.0  South Korea   \n",
       "http://www.imdb.com/title/tt4940370/   63000000.0       Sweden   \n",
       "http://www.imdb.com/title/tt4940456/          NaN        India   \n",
       "\n",
       "                                      Cumulative Worldwide Gross  \\\n",
       "http://www.imdb.com/title/tt4937564/                         NaN   \n",
       "http://www.imdb.com/title/tt4937812/                         NaN   \n",
       "http://www.imdb.com/title/tt4939066/                         NaN   \n",
       "http://www.imdb.com/title/tt4940370/                         NaN   \n",
       "http://www.imdb.com/title/tt4940456/                         NaN   \n",
       "\n",
       "                                                     Director  \\\n",
       "http://www.imdb.com/title/tt4937564/          Sylvie Verheyde   \n",
       "http://www.imdb.com/title/tt4937812/          Rajesh M. Selva   \n",
       "http://www.imdb.com/title/tt4939066/              John H. Lee   \n",
       "http://www.imdb.com/title/tt4940370/           Felix Herngren   \n",
       "http://www.imdb.com/title/tt4940456/  Rakeysh Omprakash Mehra   \n",
       "\n",
       "                                                            Director_URL  \\\n",
       "http://www.imdb.com/title/tt4937564/  http://www.imdb.com/name/nm0894173   \n",
       "http://www.imdb.com/title/tt4937812/  http://www.imdb.com/name/nm4301161   \n",
       "http://www.imdb.com/title/tt4939066/  http://www.imdb.com/name/nm0497565   \n",
       "http://www.imdb.com/title/tt4940370/  http://www.imdb.com/name/nm0379773   \n",
       "http://www.imdb.com/title/tt4940456/  http://www.imdb.com/name/nm1018493   \n",
       "\n",
       "                                         Gross USA Language  \\\n",
       "http://www.imdb.com/title/tt4937564/           NaN  English   \n",
       "http://www.imdb.com/title/tt4937812/           NaN    Tamil   \n",
       "http://www.imdb.com/title/tt4939066/  1.022720e+12   Korean   \n",
       "http://www.imdb.com/title/tt4940370/           NaN  Swedish   \n",
       "http://www.imdb.com/title/tt4940456/           NaN    Hindi   \n",
       "\n",
       "                                      Opening Weekend USA  \\\n",
       "http://www.imdb.com/title/tt4937564/                  NaN   \n",
       "http://www.imdb.com/title/tt4937812/                  NaN   \n",
       "http://www.imdb.com/title/tt4939066/         3.166272e+09   \n",
       "http://www.imdb.com/title/tt4940370/                  NaN   \n",
       "http://www.imdb.com/title/tt4940456/                  NaN   \n",
       "\n",
       "                                        Primary Filming Location  \\\n",
       "http://www.imdb.com/title/tt4937564/                        None   \n",
       "http://www.imdb.com/title/tt4937812/  Chennai, Tamil Nadu, India   \n",
       "http://www.imdb.com/title/tt4939066/          Seoul, South Korea   \n",
       "http://www.imdb.com/title/tt4940370/                        None   \n",
       "http://www.imdb.com/title/tt4940456/                        None   \n",
       "\n",
       "                                                 Production Company  \\\n",
       "http://www.imdb.com/title/tt4937564/           Les Films du Veyrier   \n",
       "http://www.imdb.com/title/tt4937812/  Raajkamal Films International   \n",
       "http://www.imdb.com/title/tt4939066/           Taewon Entertainment   \n",
       "http://www.imdb.com/title/tt4940370/              NICE FLX Pictures   \n",
       "http://www.imdb.com/title/tt4940456/         Cinestaan Film Company   \n",
       "\n",
       "                                     Release Date                Star1  \\\n",
       "http://www.imdb.com/title/tt4937564/   2017-02-10         Hafsia Herzi   \n",
       "http://www.imdb.com/title/tt4937812/   2015-11-13         Kamal Haasan   \n",
       "http://www.imdb.com/title/tt4939066/   2016-08-12          Liam Neeson   \n",
       "http://www.imdb.com/title/tt4940370/   2017-04-25    Robert Gustafsson   \n",
       "http://www.imdb.com/title/tt4940456/   2016-10-07  Harshvardhan Kapoor   \n",
       "\n",
       "                                                               Star1_URL  \\\n",
       "http://www.imdb.com/title/tt4937564/  http://www.imdb.com/name/nm2082567   \n",
       "http://www.imdb.com/title/tt4937812/  http://www.imdb.com/name/nm0352032   \n",
       "http://www.imdb.com/title/tt4939066/  http://www.imdb.com/name/nm0000553   \n",
       "http://www.imdb.com/title/tt4940370/  http://www.imdb.com/name/nm0349052   \n",
       "http://www.imdb.com/title/tt4940456/  http://www.imdb.com/name/nm7561367   \n",
       "\n",
       "                                               Star2  \\\n",
       "http://www.imdb.com/title/tt4937564/     Ash Stymest   \n",
       "http://www.imdb.com/title/tt4937812/     Prakash Raj   \n",
       "http://www.imdb.com/title/tt4939066/    Jung-jae Lee   \n",
       "http://www.imdb.com/title/tt4940370/  Iwar Wiklander   \n",
       "http://www.imdb.com/title/tt4940456/    Saiyami Kher   \n",
       "\n",
       "                                                               Star2_URL  \\\n",
       "http://www.imdb.com/title/tt4937564/  http://www.imdb.com/name/nm7514839   \n",
       "http://www.imdb.com/title/tt4937812/  http://www.imdb.com/name/nm0695177   \n",
       "http://www.imdb.com/title/tt4939066/  http://www.imdb.com/name/nm0497631   \n",
       "http://www.imdb.com/title/tt4940370/  http://www.imdb.com/name/nm0928002   \n",
       "http://www.imdb.com/title/tt4940456/  http://www.imdb.com/name/nm7517362   \n",
       "\n",
       "                                                Star3  \\\n",
       "http://www.imdb.com/title/tt4937564/    Karole Rocher   \n",
       "http://www.imdb.com/title/tt4937812/  Trisha Krishnan   \n",
       "http://www.imdb.com/title/tt4939066/      Beom-su Lee   \n",
       "http://www.imdb.com/title/tt4940370/     David Wiberg   \n",
       "http://www.imdb.com/title/tt4940456/        Art Malik   \n",
       "\n",
       "                                                               Star3_URL  \\\n",
       "http://www.imdb.com/title/tt4937564/  http://www.imdb.com/name/nm0734039   \n",
       "http://www.imdb.com/title/tt4937812/  http://www.imdb.com/name/nm1375534   \n",
       "http://www.imdb.com/title/tt4939066/  http://www.imdb.com/name/nm1045934   \n",
       "http://www.imdb.com/title/tt4940370/  http://www.imdb.com/name/nm2433382   \n",
       "http://www.imdb.com/title/tt4940456/  http://www.imdb.com/name/nm0539562   \n",
       "\n",
       "                                                                                  Title  \n",
       "http://www.imdb.com/title/tt4937564/                                           Sex Doll  \n",
       "http://www.imdb.com/title/tt4937812/                                      Thoongaavanam  \n",
       "http://www.imdb.com/title/tt4939066/             Battle for Incheon: Operation Chromite  \n",
       "http://www.imdb.com/title/tt4940370/  The 101-Year-Old Man Who Skipped Out on the Bi...  \n",
       "http://www.imdb.com/title/tt4940456/                                             Mirzya  "
      ]
     },
     "execution_count": 7,
     "metadata": {},
     "output_type": "execute_result"
    }
   ],
   "source": [
    "details_df.head()"
   ]
  },
  {
   "cell_type": "code",
   "execution_count": 8,
   "metadata": {},
   "outputs": [
    {
     "data": {
      "text/plain": [
       "Index(['Budget', 'Country', 'Cumulative Worldwide Gross', 'Director',\n",
       "       'Director_URL', 'Gross USA', 'Language', 'Opening Weekend USA',\n",
       "       'Primary Filming Location', 'Production Company', 'Release Date',\n",
       "       'Star1', 'Star1_URL', 'Star2', 'Star2_URL', 'Star3', 'Star3_URL',\n",
       "       'Title'],\n",
       "      dtype='object')"
      ]
     },
     "execution_count": 8,
     "metadata": {},
     "output_type": "execute_result"
    }
   ],
   "source": [
    "details_df.columns"
   ]
  },
  {
   "cell_type": "markdown",
   "metadata": {},
   "source": [
    "# Get List of unique Stars and URLS"
   ]
  },
  {
   "cell_type": "code",
   "execution_count": 9,
   "metadata": {},
   "outputs": [],
   "source": [
    "star1_df = details_df[['Star1_URL','Star1']].copy()"
   ]
  },
  {
   "cell_type": "code",
   "execution_count": 10,
   "metadata": {},
   "outputs": [],
   "source": [
    "star1_df.rename(columns = {'Star1_URL':'StarURL','Star1':'Star'}, inplace=True)"
   ]
  },
  {
   "cell_type": "code",
   "execution_count": 11,
   "metadata": {},
   "outputs": [],
   "source": [
    "star2_df = details_df[['Star2_URL','Star2']].copy()"
   ]
  },
  {
   "cell_type": "code",
   "execution_count": 12,
   "metadata": {},
   "outputs": [],
   "source": [
    "star2_df.rename(columns = {'Star2_URL':'StarURL','Star2':'Star'}, inplace=True)"
   ]
  },
  {
   "cell_type": "code",
   "execution_count": 13,
   "metadata": {},
   "outputs": [],
   "source": [
    "star3_df = details_df[['Star3_URL','Star3']].copy()"
   ]
  },
  {
   "cell_type": "code",
   "execution_count": 14,
   "metadata": {},
   "outputs": [],
   "source": [
    "star3_df.rename(columns = {'Star3_URL':'StarURL','Star3':'Star'}, inplace=True)"
   ]
  },
  {
   "cell_type": "code",
   "execution_count": 15,
   "metadata": {},
   "outputs": [],
   "source": [
    "stars_df = pd.concat([star1_df,star2_df,star3_df])"
   ]
  },
  {
   "cell_type": "code",
   "execution_count": 16,
   "metadata": {},
   "outputs": [
    {
     "data": {
      "text/html": [
       "<div>\n",
       "<style scoped>\n",
       "    .dataframe tbody tr th:only-of-type {\n",
       "        vertical-align: middle;\n",
       "    }\n",
       "\n",
       "    .dataframe tbody tr th {\n",
       "        vertical-align: top;\n",
       "    }\n",
       "\n",
       "    .dataframe thead th {\n",
       "        text-align: right;\n",
       "    }\n",
       "</style>\n",
       "<table border=\"1\" class=\"dataframe\">\n",
       "  <thead>\n",
       "    <tr style=\"text-align: right;\">\n",
       "      <th></th>\n",
       "      <th>StarURL</th>\n",
       "      <th>Star</th>\n",
       "    </tr>\n",
       "  </thead>\n",
       "  <tbody>\n",
       "    <tr>\n",
       "      <th>http://www.imdb.com/title/tt4937564/</th>\n",
       "      <td>http://www.imdb.com/name/nm2082567</td>\n",
       "      <td>Hafsia Herzi</td>\n",
       "    </tr>\n",
       "    <tr>\n",
       "      <th>http://www.imdb.com/title/tt4937812/</th>\n",
       "      <td>http://www.imdb.com/name/nm0352032</td>\n",
       "      <td>Kamal Haasan</td>\n",
       "    </tr>\n",
       "    <tr>\n",
       "      <th>http://www.imdb.com/title/tt4939066/</th>\n",
       "      <td>http://www.imdb.com/name/nm0000553</td>\n",
       "      <td>Liam Neeson</td>\n",
       "    </tr>\n",
       "    <tr>\n",
       "      <th>http://www.imdb.com/title/tt4940370/</th>\n",
       "      <td>http://www.imdb.com/name/nm0349052</td>\n",
       "      <td>Robert Gustafsson</td>\n",
       "    </tr>\n",
       "    <tr>\n",
       "      <th>http://www.imdb.com/title/tt4940456/</th>\n",
       "      <td>http://www.imdb.com/name/nm7561367</td>\n",
       "      <td>Harshvardhan Kapoor</td>\n",
       "    </tr>\n",
       "  </tbody>\n",
       "</table>\n",
       "</div>"
      ],
      "text/plain": [
       "                                                                 StarURL  \\\n",
       "http://www.imdb.com/title/tt4937564/  http://www.imdb.com/name/nm2082567   \n",
       "http://www.imdb.com/title/tt4937812/  http://www.imdb.com/name/nm0352032   \n",
       "http://www.imdb.com/title/tt4939066/  http://www.imdb.com/name/nm0000553   \n",
       "http://www.imdb.com/title/tt4940370/  http://www.imdb.com/name/nm0349052   \n",
       "http://www.imdb.com/title/tt4940456/  http://www.imdb.com/name/nm7561367   \n",
       "\n",
       "                                                     Star  \n",
       "http://www.imdb.com/title/tt4937564/         Hafsia Herzi  \n",
       "http://www.imdb.com/title/tt4937812/         Kamal Haasan  \n",
       "http://www.imdb.com/title/tt4939066/          Liam Neeson  \n",
       "http://www.imdb.com/title/tt4940370/    Robert Gustafsson  \n",
       "http://www.imdb.com/title/tt4940456/  Harshvardhan Kapoor  "
      ]
     },
     "execution_count": 16,
     "metadata": {},
     "output_type": "execute_result"
    }
   ],
   "source": [
    "stars_df.head()"
   ]
  },
  {
   "cell_type": "code",
   "execution_count": 17,
   "metadata": {},
   "outputs": [
    {
     "data": {
      "text/plain": [
       "89151"
      ]
     },
     "execution_count": 17,
     "metadata": {},
     "output_type": "execute_result"
    }
   ],
   "source": [
    "len(stars_df)"
   ]
  },
  {
   "cell_type": "code",
   "execution_count": 18,
   "metadata": {},
   "outputs": [],
   "source": [
    "stars_df = stars_df.dropna(subset = ['StarURL'])"
   ]
  },
  {
   "cell_type": "code",
   "execution_count": 19,
   "metadata": {},
   "outputs": [
    {
     "data": {
      "text/plain": [
       "89075"
      ]
     },
     "execution_count": 19,
     "metadata": {},
     "output_type": "execute_result"
    }
   ],
   "source": [
    "len(stars_df)"
   ]
  },
  {
   "cell_type": "code",
   "execution_count": 20,
   "metadata": {},
   "outputs": [],
   "source": [
    "stars_df = stars_df.drop_duplicates(subset='StarURL',keep='first')"
   ]
  },
  {
   "cell_type": "code",
   "execution_count": 21,
   "metadata": {},
   "outputs": [
    {
     "data": {
      "text/plain": [
       "33838"
      ]
     },
     "execution_count": 21,
     "metadata": {},
     "output_type": "execute_result"
    }
   ],
   "source": [
    "len(stars_df)"
   ]
  },
  {
   "cell_type": "code",
   "execution_count": 22,
   "metadata": {},
   "outputs": [],
   "source": [
    "star_urls = list(stars_df['StarURL'])"
   ]
  },
  {
   "cell_type": "code",
   "execution_count": 23,
   "metadata": {},
   "outputs": [],
   "source": [
    "star_urls = sorted(star_urls, reverse = True)"
   ]
  },
  {
   "cell_type": "code",
   "execution_count": 24,
   "metadata": {
    "scrolled": true
   },
   "outputs": [
    {
     "data": {
      "text/plain": [
       "['http://www.imdb.com/name/nm9585396',\n",
       " 'http://www.imdb.com/name/nm9578606',\n",
       " 'http://www.imdb.com/name/nm9572036',\n",
       " 'http://www.imdb.com/name/nm9572029',\n",
       " 'http://www.imdb.com/name/nm9557596',\n",
       " 'http://www.imdb.com/name/nm9557587',\n",
       " 'http://www.imdb.com/name/nm9557586',\n",
       " 'http://www.imdb.com/name/nm9552585',\n",
       " 'http://www.imdb.com/name/nm9549343',\n",
       " 'http://www.imdb.com/name/nm9521432']"
      ]
     },
     "execution_count": 24,
     "metadata": {},
     "output_type": "execute_result"
    }
   ],
   "source": [
    "star_urls[:10]"
   ]
  },
  {
   "cell_type": "code",
   "execution_count": 25,
   "metadata": {},
   "outputs": [
    {
     "data": {
      "text/plain": [
       "33838"
      ]
     },
     "execution_count": 25,
     "metadata": {},
     "output_type": "execute_result"
    }
   ],
   "source": [
    "len(star_urls)"
   ]
  },
  {
   "cell_type": "markdown",
   "metadata": {},
   "source": [
    "# Scrape Star Details"
   ]
  },
  {
   "cell_type": "code",
   "execution_count": 26,
   "metadata": {
    "scrolled": false
   },
   "outputs": [],
   "source": [
    "# star Details\n",
    "import re\n",
    "import requests\n",
    "from bs4 import BeautifulSoup\n",
    "from datetime import datetime\n",
    "import time\n",
    "\n",
    "stars_scraped = 0\n",
    "star_details = {}\n",
    "star_index = 0                    \n",
    "prefix = 'http://www.imdb.com'\n",
    "export_number = 1\n",
    "export_no = str(export_number)\n",
    "load_attempts = 0\n",
    "\n",
    "def star_scraper():\n",
    "    global star_index\n",
    "    \n",
    "    print(str(datetime.now()),': working on export ' + export_no)\n",
    "    \n",
    "    for url in star_urls[star_index:3000]:\n",
    "#         print(url)\n",
    "        if (star_index+1) % 20 == 0:\n",
    "            time.sleep(1.5)\n",
    "            print('%d: %s' %(star_index+1, url))\n",
    "        page = request_page(url)\n",
    "        get_star_details(url, page)\n",
    "        star_index += 1\n",
    "    \n",
    "    export_to_json(star_details)\n",
    "    print(\"Done\")\n",
    "    \n",
    "def request_page(url):\n",
    "    global load_attempts\n",
    "    response = requests.get(url)\n",
    "    \n",
    "    if response.status_code == 200:\n",
    "        return(response.text)\n",
    "        load_attempts = 0\n",
    "    else:\n",
    "        print(response.status_code,'for %s' %(url))\n",
    "        if response.status_code != 404:\n",
    "            if load_attempts == 10:\n",
    "                time.sleep(60)\n",
    "            else:\n",
    "                time.sleep(10)\n",
    "            request_page(url)\n",
    "            load_attempts += 1\n",
    "\n",
    "def get_star_details(url, page):\n",
    "    soup = BeautifulSoup(page, 'html.parser')\n",
    "\n",
    "    star_details[url] = {}\n",
    "    \n",
    "    gender = soup.find(id='name-job-categories')\n",
    "    gender = gender.findAll('a') if gender else None\n",
    "    gender = [x['href'] for x in gender] if gender else None\n",
    "    gender = [re.sub('[^a-z]+','',x) for x in gender] if gender else None\n",
    "    if gender:\n",
    "        if 'actor' in gender:\n",
    "            gender = 'Male'\n",
    "        elif 'actress' in gender:\n",
    "            gender = 'Female'\n",
    "        else:\n",
    "            gender = soup.find(id='name-bio-text')\n",
    "            gender = gender.text if gender else None\n",
    "            gender = re.sub('\\n', '', gender) if gender else None\n",
    "            gender = re.sub('  +',' ', gender) if gender else None\n",
    "            gender = gender.split(' ') if gender else None\n",
    "            male_count = gender.count('His') + gender.count('his') + gender.count('He') + gender.count('he') if gender else None\n",
    "            female_count = gender.count('Her') + gender.count('her') + gender.count('She') + gender.count('she') if gender else None\n",
    "            if gender:\n",
    "                if male_count > female_count:\n",
    "                    gender = 'Male'\n",
    "                elif female_count > male_count:\n",
    "                    gender = 'Female'\n",
    "                else:\n",
    "                    gender = None\n",
    "    star_details[url]['Gender'] = gender\n",
    "    \n",
    "    \n",
    "    star_name = soup.find('h1')\n",
    "    star_name = star_name.text if star_name else None\n",
    "    star_name = star_name.strip() if star_name else None\n",
    "    star_name = star_name.split('\\n') if star_name else None\n",
    "\n",
    "    deathyear = star_name[-1] if len(star_name)>=2 else None\n",
    "    deathyear = deathyear.split('–')[-1] if deathyear else None\n",
    "    deathyear = re.sub('[^0-9]+','',deathyear) if deathyear else None\n",
    "    deathyear = int(deathyear) if deathyear else None\n",
    "    star_details[url]['Deathyear'] = deathyear\n",
    "    \n",
    "\n",
    "    star_name = star_name[0] if star_name else None\n",
    "    star_details[url]['Name'] = star_name    \n",
    "    \n",
    "    \n",
    "    born_info = soup.find(id='name-born-info')\n",
    "\n",
    "    birthdate = born_info.find('time') if born_info else None\n",
    "    if birthdate:\n",
    "        if birthdate.has_attr('datetime'):\n",
    "            birthdate = birthdate['datetime']\n",
    "        else:\n",
    "            birthdate = None\n",
    "    star_details[url]['Birthdate'] = birthdate\n",
    "\n",
    "    birthyear = birthdate[0:4] if birthdate and len(birthdate)>=8 else None\n",
    "    birthyear = int(birthyear) if birthyear else None\n",
    "    star_details[url]['Birthyear'] = birthyear\n",
    "\n",
    "    age_at_death = deathyear-birthyear if deathyear and birthyear else None\n",
    "    star_details[url]['Age at Death'] = age_at_death\n",
    "\n",
    "    \n",
    "    birthplace = born_info.findAll('a') if born_info else None\n",
    "    birthplace = birthplace[-1] if birthplace else None\n",
    "    birthplace = birthplace.text if birthplace else None\n",
    "    star_details[url]['Birthplace'] = birthplace\n",
    "\n",
    "    \n",
    "    birthcountry = birthplace.split(', ') if birthplace else None\n",
    "    birthcountry = birthcountry[-1] if birthcountry and len(birthcountry)>=1 else None\n",
    "    star_details[url]['Birth Country'] = birthcountry\n",
    " \n",
    "\n",
    "    award_highlight = soup.find('div', class_='article highlighted')\n",
    "    award_highlight = award_highlight.findAll('span') if award_highlight else None\n",
    "    award_highlight = [x.text for x in award_highlight] if award_highlight else None\n",
    "    award_highlight = [x.strip() for x in award_highlight] if award_highlight else None\n",
    "    award_highlight = [x.split('\\n') for x in award_highlight] if award_highlight else None\n",
    "    award_highlight = [''.join(x) for x in award_highlight[:-1]] if award_highlight else None\n",
    "    award_highlight = [re.sub(\"  +\", \" \", x) for x in award_highlight] if award_highlight else None\n",
    "    award_highlight = ' '.join(award_highlight) if award_highlight else None    \n",
    "    star_details[url]['Award Info'] = award_highlight    \n",
    "    \n",
    "    acting_roles = soup.find(id='filmo-head-actor')\n",
    "    acting_roles = acting_roles.text if acting_roles else None\n",
    "    acting_roles = acting_roles.strip() if acting_roles else None\n",
    "    acting_roles = acting_roles.split('(')[-1] if acting_roles else None\n",
    "    acting_roles = re.sub('[^0-9]+','',acting_roles) if acting_roles else None\n",
    "    acting_roles = int(acting_roles) if acting_roles else None\n",
    "    star_details[url]['Acting Roles'] = acting_roles\n",
    "    \n",
    "    directing_roles = soup.find(id='filmo-head-director')\n",
    "    directing_roles = directing_roles.text if directing_roles else None\n",
    "    directing_roles = directing_roles.strip() if directing_roles else None\n",
    "    directing_roles = directing_roles.split('(')[-1] if directing_roles else None\n",
    "    directing_roles = re.sub('[^0-9]+','',directing_roles) if directing_roles else None\n",
    "    directing_roles = int(directing_roles) if directing_roles else None\n",
    "    star_details[url]['Directing Roles'] = directing_roles  \n",
    "    \n",
    "    producing_roles = soup.find(id='filmo-head-producer')\n",
    "    producing_roles = producing_roles.text if producing_roles else None\n",
    "    producing_roles = producing_roles.strip() if producing_roles else None\n",
    "    producing_roles = producing_roles.split('(')[-1] if producing_roles else None\n",
    "    producing_roles = re.sub('[^0-9]+','',producing_roles) if producing_roles else None\n",
    "    producing_roles = int(producing_roles) if producing_roles else None\n",
    "    star_details[url]['Producing Roles'] = producing_roles \n",
    "    \n",
    "    tv_appearances = soup.find(id='filmo-head-self')\n",
    "    tv_appearances = tv_appearances.text if tv_appearances else None\n",
    "    tv_appearances = tv_appearances.strip() if tv_appearances else None\n",
    "    tv_appearances = tv_appearances.split('(')[-1] if tv_appearances else None\n",
    "    tv_appearances = re.sub('[^0-9]+','',tv_appearances) if tv_appearances else None\n",
    "    tv_appearances = int(tv_appearances) if tv_appearances else None\n",
    "    star_details[url]['TV Appearances'] = tv_appearances\n",
    "    \n",
    "\n",
    "    height = soup.find('h2',text=re.compile('Personal Details'))\n",
    "    height = height.parent if height else None\n",
    "    height = height.find(id='details-height') if height else None\n",
    "    height = height.text if height else None\n",
    "    height = height.split('(')[-1] if height else None\n",
    "    height = re.sub('[^0-9.]+','',height) if height else None\n",
    "    star_details[url]['Height in m'] = height\n",
    "\n",
    "    publicity_listings = soup.find('h2',text=re.compile('Personal Details'))\n",
    "    publicity_listings = publicity_listings.parent if publicity_listings else None\n",
    "    publicity_listings = publicity_listings.find(id='details-publicity-listings') if publicity_listings else None\n",
    "    publicity_listings = publicity_listings.text if publicity_listings else None\n",
    "    publicity_listings = re.sub('[^0-9]+',' ',publicity_listings) if publicity_listings else None\n",
    "    publicity_listings = publicity_listings.strip() if publicity_listings else None\n",
    "    publicity_listings = publicity_listings.split(' ') if publicity_listings else None\n",
    "    publicity_listings = [int(x) for x in publicity_listings] if publicity_listings else None\n",
    "    publicity_listings = sum(publicity_listings) if publicity_listings else None\n",
    "    star_details[url]['Publicity Listings'] = publicity_listings\n",
    "        \n",
    "    star_sign = soup.find('h4',text=re.compile('Star Sign'))\n",
    "    star_sign = star_sign.parent if star_sign else None\n",
    "    star_sign = star_sign.text if star_sign else None\n",
    "    star_sign = star_sign.strip() if star_sign else None\n",
    "    star_sign = star_sign.split('\\n')[-1] if star_sign else None\n",
    "    star_details[url]['Star Sign'] = star_sign\n",
    "\n",
    "    go_to_next_and_export()\n",
    "\n",
    "def go_to_next_and_export():\n",
    "    global stars_scraped\n",
    "    global star_details\n",
    "    \n",
    "    stars_scraped+=1\n",
    "\n",
    "    if len(star_details) == 1000:                                         \n",
    "        export_to_json(star_details)\n",
    "        stars_scraped = 0\n",
    "        star_details = {}\n",
    "\n",
    "def export_to_json(star_details):\n",
    "    global export_no\n",
    "    global export_number\n",
    "    with open('star_details_exports/star_details_export_%s.json' %(export_no),'w')  as f:\n",
    "        json.dump(star_details,f)\n",
    "\n",
    "    export_number += 1\n",
    "    export_no = str(export_number)\n",
    "    print(str(datetime.now()),': working on export ' + export_no)\n",
    "\n",
    "start = time.time()\n",
    "star_scraper()\n",
    "end = time.time()\n",
    "print(round(end-start,3))"
   ]
  },
  {
   "cell_type": "code",
   "execution_count": null,
   "metadata": {},
   "outputs": [],
   "source": []
  }
 ],
 "metadata": {
  "kernelspec": {
   "display_name": "Python 3",
   "language": "python",
   "name": "python3"
  },
  "language_info": {
   "codemirror_mode": {
    "name": "ipython",
    "version": 3
   },
   "file_extension": ".py",
   "mimetype": "text/x-python",
   "name": "python",
   "nbconvert_exporter": "python",
   "pygments_lexer": "ipython3",
   "version": "3.6.4"
  },
  "toc": {
   "nav_menu": {},
   "number_sections": true,
   "sideBar": true,
   "skip_h1_title": false,
   "title_cell": "Table of Contents",
   "title_sidebar": "Contents",
   "toc_cell": false,
   "toc_position": {},
   "toc_section_display": true,
   "toc_window_display": true
  }
 },
 "nbformat": 4,
 "nbformat_minor": 2
}
