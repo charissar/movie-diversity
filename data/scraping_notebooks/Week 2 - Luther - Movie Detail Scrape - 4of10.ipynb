{
 "cells": [
  {
   "cell_type": "markdown",
   "metadata": {},
   "source": [
    "# Importing and Dropping Duplicates"
   ]
  },
  {
   "cell_type": "code",
   "execution_count": 1,
   "metadata": {},
   "outputs": [],
   "source": [
    "import pandas as pd\n",
    "import json"
   ]
  },
  {
   "cell_type": "code",
   "execution_count": 2,
   "metadata": {},
   "outputs": [],
   "source": [
    "imports = []\n",
    "for i in range(1,41):\n",
    "    imports.append('genre_exports/export_%s.json' %(str(i)))   #rename to genre_export"
   ]
  },
  {
   "cell_type": "code",
   "execution_count": 3,
   "metadata": {},
   "outputs": [
    {
     "data": {
      "text/plain": [
       "['genre_exports/export_1.json',\n",
       " 'genre_exports/export_2.json',\n",
       " 'genre_exports/export_3.json',\n",
       " 'genre_exports/export_4.json',\n",
       " 'genre_exports/export_5.json',\n",
       " 'genre_exports/export_6.json',\n",
       " 'genre_exports/export_7.json',\n",
       " 'genre_exports/export_8.json',\n",
       " 'genre_exports/export_9.json',\n",
       " 'genre_exports/export_10.json',\n",
       " 'genre_exports/export_11.json',\n",
       " 'genre_exports/export_12.json',\n",
       " 'genre_exports/export_13.json',\n",
       " 'genre_exports/export_14.json',\n",
       " 'genre_exports/export_15.json',\n",
       " 'genre_exports/export_16.json',\n",
       " 'genre_exports/export_17.json',\n",
       " 'genre_exports/export_18.json',\n",
       " 'genre_exports/export_19.json',\n",
       " 'genre_exports/export_20.json',\n",
       " 'genre_exports/export_21.json',\n",
       " 'genre_exports/export_22.json',\n",
       " 'genre_exports/export_23.json',\n",
       " 'genre_exports/export_24.json',\n",
       " 'genre_exports/export_25.json',\n",
       " 'genre_exports/export_26.json',\n",
       " 'genre_exports/export_27.json',\n",
       " 'genre_exports/export_28.json',\n",
       " 'genre_exports/export_29.json',\n",
       " 'genre_exports/export_30.json',\n",
       " 'genre_exports/export_31.json',\n",
       " 'genre_exports/export_32.json',\n",
       " 'genre_exports/export_33.json',\n",
       " 'genre_exports/export_34.json',\n",
       " 'genre_exports/export_35.json',\n",
       " 'genre_exports/export_36.json',\n",
       " 'genre_exports/export_37.json',\n",
       " 'genre_exports/export_38.json',\n",
       " 'genre_exports/export_39.json',\n",
       " 'genre_exports/export_40.json']"
      ]
     },
     "execution_count": 3,
     "metadata": {},
     "output_type": "execute_result"
    }
   ],
   "source": [
    "imports"
   ]
  },
  {
   "cell_type": "code",
   "execution_count": 4,
   "metadata": {},
   "outputs": [],
   "source": [
    "movies_df = pd.DataFrame()"
   ]
  },
  {
   "cell_type": "code",
   "execution_count": 5,
   "metadata": {},
   "outputs": [],
   "source": [
    "for imp in imports:\n",
    "    movies_df = movies_df.append(pd.read_json(imp, orient='index'))\n",
    "\n",
    "# mov = mov.append(pd.read_json('export_2.json', orient='index'))\n",
    "# mov = mov.append(pd.read_json('export_3.json', orient='index'))"
   ]
  },
  {
   "cell_type": "code",
   "execution_count": 6,
   "metadata": {},
   "outputs": [
    {
     "data": {
      "text/plain": [
       "188326"
      ]
     },
     "execution_count": 6,
     "metadata": {},
     "output_type": "execute_result"
    }
   ],
   "source": [
    "len(movies_df)"
   ]
  },
  {
   "cell_type": "markdown",
   "metadata": {},
   "source": [
    "### Use New DataFrame"
   ]
  },
  {
   "cell_type": "code",
   "execution_count": 7,
   "metadata": {},
   "outputs": [],
   "source": [
    "movies = pd.DataFrame(movies_df)"
   ]
  },
  {
   "cell_type": "code",
   "execution_count": 8,
   "metadata": {},
   "outputs": [],
   "source": [
    "movies['ID'] = movies.index"
   ]
  },
  {
   "cell_type": "raw",
   "metadata": {},
   "source": [
    "movies.sample(400)"
   ]
  },
  {
   "cell_type": "code",
   "execution_count": 9,
   "metadata": {},
   "outputs": [],
   "source": [
    "movies = movies.drop_duplicates(subset='ID',keep='first')"
   ]
  },
  {
   "cell_type": "code",
   "execution_count": 10,
   "metadata": {},
   "outputs": [
    {
     "data": {
      "text/plain": [
       "106906"
      ]
     },
     "execution_count": 10,
     "metadata": {},
     "output_type": "execute_result"
    }
   ],
   "source": [
    "len(movies)"
   ]
  },
  {
   "cell_type": "markdown",
   "metadata": {},
   "source": [
    "## Drop NaN Ratings"
   ]
  },
  {
   "cell_type": "code",
   "execution_count": 11,
   "metadata": {},
   "outputs": [
    {
     "data": {
      "text/plain": [
       "29609"
      ]
     },
     "execution_count": 11,
     "metadata": {},
     "output_type": "execute_result"
    }
   ],
   "source": [
    "movies['Rating'].isnull().sum()"
   ]
  },
  {
   "cell_type": "code",
   "execution_count": 12,
   "metadata": {},
   "outputs": [],
   "source": [
    "movies = movies.dropna(subset = ['Rating'])"
   ]
  },
  {
   "cell_type": "code",
   "execution_count": 13,
   "metadata": {},
   "outputs": [
    {
     "data": {
      "text/plain": [
       "77297"
      ]
     },
     "execution_count": 13,
     "metadata": {},
     "output_type": "execute_result"
    }
   ],
   "source": [
    "len(movies)"
   ]
  },
  {
   "cell_type": "markdown",
   "metadata": {},
   "source": [
    "## Keep Only Movies with Drop Movies with 1000 Votes or More"
   ]
  },
  {
   "cell_type": "code",
   "execution_count": 14,
   "metadata": {},
   "outputs": [],
   "source": [
    "movies['Votes'] = movies['Votes'].str.replace(',','')"
   ]
  },
  {
   "cell_type": "code",
   "execution_count": 15,
   "metadata": {
    "scrolled": true
   },
   "outputs": [
    {
     "data": {
      "text/plain": [
       "http://www.imdb.com/title/tt0006206/     3519\n",
       "http://www.imdb.com/title/tt0009682/      541\n",
       "http://www.imdb.com/title/tt0014720/        9\n",
       "http://www.imdb.com/title/tt0015163/     7287\n",
       "http://www.imdb.com/title/tt0015324/    24694\n",
       "http://www.imdb.com/title/tt0017925/    61402\n",
       "http://www.imdb.com/title/tt0018578/     8998\n",
       "http://www.imdb.com/title/tt0019421/    10630\n",
       "http://www.imdb.com/title/tt0019532/      269\n",
       "http://www.imdb.com/title/tt0020815/     1325\n",
       "http://www.imdb.com/title/tt0021079/     9804\n",
       "http://www.imdb.com/title/tt0022753/      728\n",
       "http://www.imdb.com/title/tt0023427/    21444\n",
       "http://www.imdb.com/title/tt0023551/     5944\n",
       "http://www.imdb.com/title/tt0025004/     1958\n",
       "http://www.imdb.com/title/tt0025862/     4124\n",
       "http://www.imdb.com/title/tt0026164/     1433\n",
       "http://www.imdb.com/title/tt0026174/    10768\n",
       "http://www.imdb.com/title/tt0027438/     3741\n",
       "http://www.imdb.com/title/tt0027623/     1745\n",
       "http://www.imdb.com/title/tt0029047/     1707\n",
       "http://www.imdb.com/title/tt0029081/      835\n",
       "http://www.imdb.com/title/tt0029843/    41480\n",
       "http://www.imdb.com/title/tt0029850/     8927\n",
       "http://www.imdb.com/title/tt0031088/     4662\n",
       "http://www.imdb.com/title/tt0031747/     1717\n",
       "http://www.imdb.com/title/tt0031867/    10487\n",
       "http://www.imdb.com/title/tt0032484/    15145\n",
       "http://www.imdb.com/title/tt0032762/     8067\n",
       "http://www.imdb.com/title/tt0032850/     1199\n",
       "                                        ...  \n",
       "http://www.imdb.com/title/tt0473191/       36\n",
       "http://www.imdb.com/title/tt0474798/        6\n",
       "http://www.imdb.com/title/tt0484283/       10\n",
       "http://www.imdb.com/title/tt0493287/       34\n",
       "http://www.imdb.com/title/tt0756286/       15\n",
       "http://www.imdb.com/title/tt0795362/      100\n",
       "http://www.imdb.com/title/tt0798798/       11\n",
       "http://www.imdb.com/title/tt0955291/        7\n",
       "http://www.imdb.com/title/tt0986271/        7\n",
       "http://www.imdb.com/title/tt1223141/       25\n",
       "http://www.imdb.com/title/tt1344659/       63\n",
       "http://www.imdb.com/title/tt1361857/       31\n",
       "http://www.imdb.com/title/tt1362468/        8\n",
       "http://www.imdb.com/title/tt1511469/       18\n",
       "http://www.imdb.com/title/tt1537920/       11\n",
       "http://www.imdb.com/title/tt1666711/        5\n",
       "http://www.imdb.com/title/tt1753916/       12\n",
       "http://www.imdb.com/title/tt1842394/        6\n",
       "http://www.imdb.com/title/tt1874644/       12\n",
       "http://www.imdb.com/title/tt1928157/        5\n",
       "http://www.imdb.com/title/tt2159768/        6\n",
       "http://www.imdb.com/title/tt2280644/        6\n",
       "http://www.imdb.com/title/tt2390968/       19\n",
       "http://www.imdb.com/title/tt2418150/       22\n",
       "http://www.imdb.com/title/tt2507106/        5\n",
       "http://www.imdb.com/title/tt2749034/       12\n",
       "http://www.imdb.com/title/tt2879728/        5\n",
       "http://www.imdb.com/title/tt3751082/       10\n",
       "http://www.imdb.com/title/tt3924776/       40\n",
       "http://www.imdb.com/title/tt4386364/       33\n",
       "Name: Votes, Length: 77297, dtype: object"
      ]
     },
     "execution_count": 15,
     "metadata": {},
     "output_type": "execute_result"
    }
   ],
   "source": [
    "movies['Votes']"
   ]
  },
  {
   "cell_type": "code",
   "execution_count": 16,
   "metadata": {},
   "outputs": [],
   "source": [
    "movies['Votes'] = movies['Votes'].astype(int)"
   ]
  },
  {
   "cell_type": "code",
   "execution_count": 17,
   "metadata": {},
   "outputs": [
    {
     "data": {
      "text/plain": [
       "29717"
      ]
     },
     "execution_count": 17,
     "metadata": {},
     "output_type": "execute_result"
    }
   ],
   "source": [
    "len(movies[movies['Votes'] >= 500])"
   ]
  },
  {
   "cell_type": "code",
   "execution_count": 18,
   "metadata": {},
   "outputs": [],
   "source": [
    "movies = movies[movies['Votes'] >= 500]"
   ]
  },
  {
   "cell_type": "raw",
   "metadata": {},
   "source": []
  },
  {
   "cell_type": "markdown",
   "metadata": {},
   "source": [
    "# Scrape Details with Movie URL"
   ]
  },
  {
   "cell_type": "code",
   "execution_count": 19,
   "metadata": {},
   "outputs": [
    {
     "data": {
      "text/plain": [
       "29717"
      ]
     },
     "execution_count": 19,
     "metadata": {},
     "output_type": "execute_result"
    }
   ],
   "source": [
    "len(movies.index)"
   ]
  },
  {
   "cell_type": "code",
   "execution_count": 20,
   "metadata": {
    "scrolled": false
   },
   "outputs": [
    {
     "data": {
      "text/plain": [
       "Index(['http://www.imdb.com/title/tt0006206/',\n",
       "       'http://www.imdb.com/title/tt0009682/',\n",
       "       'http://www.imdb.com/title/tt0015163/',\n",
       "       'http://www.imdb.com/title/tt0015324/',\n",
       "       'http://www.imdb.com/title/tt0017925/',\n",
       "       'http://www.imdb.com/title/tt0018578/',\n",
       "       'http://www.imdb.com/title/tt0019421/',\n",
       "       'http://www.imdb.com/title/tt0020815/',\n",
       "       'http://www.imdb.com/title/tt0021079/',\n",
       "       'http://www.imdb.com/title/tt0022753/',\n",
       "       ...\n",
       "       'http://www.imdb.com/title/tt0439504/',\n",
       "       'http://www.imdb.com/title/tt0457530/',\n",
       "       'http://www.imdb.com/title/tt0495747/',\n",
       "       'http://www.imdb.com/title/tt1384925/',\n",
       "       'http://www.imdb.com/title/tt1388402/',\n",
       "       'http://www.imdb.com/title/tt1555110/',\n",
       "       'http://www.imdb.com/title/tt2014202/',\n",
       "       'http://www.imdb.com/title/tt2140381/',\n",
       "       'http://www.imdb.com/title/tt4893452/',\n",
       "       'http://www.imdb.com/title/tt5143890/'],\n",
       "      dtype='object', length=29717)"
      ]
     },
     "execution_count": 20,
     "metadata": {},
     "output_type": "execute_result"
    }
   ],
   "source": [
    "movies.index"
   ]
  },
  {
   "cell_type": "code",
   "execution_count": 21,
   "metadata": {},
   "outputs": [],
   "source": [
    "movie_urls = list(movies.index)"
   ]
  },
  {
   "cell_type": "code",
   "execution_count": 22,
   "metadata": {},
   "outputs": [
    {
     "data": {
      "text/plain": [
       "29717"
      ]
     },
     "execution_count": 22,
     "metadata": {},
     "output_type": "execute_result"
    }
   ],
   "source": [
    "len(movie_urls)"
   ]
  },
  {
   "cell_type": "raw",
   "metadata": {},
   "source": [
    "movie_urls[2]"
   ]
  },
  {
   "cell_type": "code",
   "execution_count": 23,
   "metadata": {},
   "outputs": [],
   "source": [
    "movie_urls = sorted(movie_urls,reverse = True)"
   ]
  },
  {
   "cell_type": "raw",
   "metadata": {},
   "source": [
    "movie_urls[-200:]"
   ]
  },
  {
   "cell_type": "code",
   "execution_count": 24,
   "metadata": {},
   "outputs": [
    {
     "data": {
      "text/plain": [
       "Index(['Certificate', 'Director', 'Genre', 'Gross', 'Metascore', 'Rating',\n",
       "       'Runtime', 'Star1', 'Star1_URL', 'Star2', 'Star2_URL', 'Star3',\n",
       "       'Star3_URL', 'Star4', 'Star4_URL', 'Title', 'Votes', 'Year', 'ID'],\n",
       "      dtype='object')"
      ]
     },
     "execution_count": 24,
     "metadata": {},
     "output_type": "execute_result"
    }
   ],
   "source": [
    "movies.columns"
   ]
  },
  {
   "cell_type": "raw",
   "metadata": {},
   "source": [
    "movies.loc['http://www.imdb.com/title/tt0102926/']"
   ]
  },
  {
   "cell_type": "raw",
   "metadata": {},
   "source": [
    "import re\n",
    "import requests\n",
    "from bs4 import BeautifulSoup\n",
    "from datetime import datetime\n",
    "\n",
    "url = 'http://www.imdb.com/title/tt5013056/'\n",
    "response = requests.get(url)\n",
    "soup = BeautifulSoup(response.text, 'html.parser')"
   ]
  },
  {
   "cell_type": "raw",
   "metadata": {},
   "source": [
    "prefix = 'http://www.imdb.com'\n",
    "\n",
    "movie_details = {}\n",
    "movie_details[url] = {}\n",
    "\n",
    "stars = soup.find(id='titleCast')\n",
    "stars = stars.find('table', class_='cast_list') if stars else None\n",
    "stars = stars.findAll('td', class_='itemprop') if stars else None\n",
    "starlisttemp = []\n",
    "stars = [starlisttemp.append([star.find('a')['href'],star.find('a').text]) for star in stars[0:10]] if stars else None\n",
    "starlist = []\n",
    "if starlisttemp: [starlist.append([prefix+combination[0].split('?')[0],combination[1].split('\\n')[0].strip()]) for combination in starlisttemp]\n",
    "\n",
    "\n",
    "# starURLs = [star.find('a')['href'] for star in stars] if stars else None\n",
    "# starURLs = [prefix + URL.split('?')[0] for URL in starURLs] if starURLs else None\n",
    "\n",
    "# starnames = [star.find('a').text for star in stars] if stars else None\n",
    "# starnames = [name.split('\\n')[0].strip() for name in starnames] if starnames else None\n",
    "\n",
    "# if starnames[0:4]: \n",
    "#     i = 0\n",
    "#     for star in starnames:\n",
    "#         star = starnames[i]\n",
    "#         movie_details[url]['Star%s' %str(i+1)] = star\n",
    "#         starURL = starURLs[i] if starURLs[i] else None\n",
    "\n",
    "#         movie_details[url]['Star%s_URL' %str(i+1)] = prefix+starURL\n",
    "#         i += 1\n",
    "\n",
    "# stars\n",
    "# starURLs\n",
    "# movie_details\n",
    "starlist"
   ]
  },
  {
   "cell_type": "raw",
   "metadata": {},
   "source": [
    "starURLs = soup.find('div', class_='plot_summary_wrapper')\n",
    "starURLs = starURLs.find(text=re.compile('Stars:')) if starURLs else None\n",
    "starURLs = starURLs.parent.parent if starURLs else None\n",
    "starURLs = starURLs.findAll('a') if starURLs else None\n",
    "starURLs = [[star['href'],star.text] for star in starURLs[:-1]] if starURLs else None\n",
    "if starURLs:\n",
    "    i = 0\n",
    "    while len(starURLs) >= i+1:\n",
    "        for URL in starURLs:\n",
    "            star = starURLs[i]\n",
    "            movie_details[url]['Star%s' %str(i+1)] = star[1].split('\\n')[0].strip() if star[1] else None\n",
    "            movie_details[url]['Star%s_URL' %str(i+1)] = prefix+star[0].split(\"?\")[0] if star[0] else None\n",
    "            i += 1\n",
    "        \n",
    "# director = starURLs.text if starURLs else None\n",
    "# starURLs = starURLs['href'] if starURLs else None\n",
    "# starURLs = prefix+starURLs.split(\"?\")[0] if starURLs else None\n",
    "# movie_details[url]['Director'] = director\n",
    "# movie_details[url]['Director_URL'] = starURLs\n",
    "                                   \n",
    "movie_details   \n",
    "# stars\n",
    "# starURLs"
   ]
  },
  {
   "cell_type": "code",
   "execution_count": null,
   "metadata": {},
   "outputs": [],
   "source": []
  },
  {
   "cell_type": "code",
   "execution_count": null,
   "metadata": {},
   "outputs": [],
   "source": []
  },
  {
   "cell_type": "code",
   "execution_count": 27,
   "metadata": {
    "scrolled": false
   },
   "outputs": [
    {
     "name": "stdout",
     "output_type": "stream",
     "text": [
      "2018-01-29 21:03:27.432235 : working on export 15\n",
      "9020: http://www.imdb.com/title/tt1161646/\n",
      "9040: http://www.imdb.com/title/tt1156470/\n",
      "9060: http://www.imdb.com/title/tt1153106/\n",
      "9080: http://www.imdb.com/title/tt1148261/\n",
      "9100: http://www.imdb.com/title/tt1142988/\n",
      "9120: http://www.imdb.com/title/tt1138442/\n",
      "9140: http://www.imdb.com/title/tt1135095/\n",
      "9160: http://www.imdb.com/title/tt1132474/\n",
      "9180: http://www.imdb.com/title/tt1130080/\n",
      "9200: http://www.imdb.com/title/tt1127180/\n",
      "9220: http://www.imdb.com/title/tt1124035/\n",
      "9240: http://www.imdb.com/title/tt1117636/\n",
      "9260: http://www.imdb.com/title/tt1109477/\n",
      "9280: http://www.imdb.com/title/tt1104083/\n",
      "9300: http://www.imdb.com/title/tt1097643/\n",
      "9320: http://www.imdb.com/title/tt1093352/\n",
      "9340: http://www.imdb.com/title/tt1090679/\n",
      "9360: http://www.imdb.com/title/tt1086216/\n",
      "9380: http://www.imdb.com/title/tt1082886/\n",
      "9400: http://www.imdb.com/title/tt1078912/\n",
      "9420: http://www.imdb.com/title/tt1074929/\n",
      "9440: http://www.imdb.com/title/tt1071228/\n",
      "9460: http://www.imdb.com/title/tt1067583/\n",
      "9480: http://www.imdb.com/title/tt1059887/\n",
      "9500: http://www.imdb.com/title/tt1054606/\n",
      "9520: http://www.imdb.com/title/tt1050001/\n",
      "9540: http://www.imdb.com/title/tt1046198/\n",
      "9560: http://www.imdb.com/title/tt1043451/\n",
      "9580: http://www.imdb.com/title/tt1038915/\n",
      "9600: http://www.imdb.com/title/tt1035732/\n",
      "9620: http://www.imdb.com/title/tt1034090/\n",
      "9640: http://www.imdb.com/title/tt1031280/\n",
      "9660: http://www.imdb.com/title/tt1027683/\n",
      "9680: http://www.imdb.com/title/tt1022877/\n",
      "9700: http://www.imdb.com/title/tt1017460/\n",
      "9720: http://www.imdb.com/title/tt1013743/\n",
      "9740: http://www.imdb.com/title/tt1003005/\n",
      "9760: http://www.imdb.com/title/tt0997147/\n",
      "9780: http://www.imdb.com/title/tt0995827/\n",
      "9800: http://www.imdb.com/title/tt0991167/\n",
      "9820: http://www.imdb.com/title/tt0988047/\n",
      "9840: http://www.imdb.com/title/tt0984200/\n",
      "9860: http://www.imdb.com/title/tt0977669/\n",
      "9880: http://www.imdb.com/title/tt0974014/\n",
      "9900: http://www.imdb.com/title/tt0970411/\n",
      "9920: http://www.imdb.com/title/tt0964179/\n",
      "9940: http://www.imdb.com/title/tt0960741/\n",
      "9960: http://www.imdb.com/title/tt0954914/\n",
      "9980: http://www.imdb.com/title/tt0948535/\n",
      "10000: http://www.imdb.com/title/tt0940709/\n",
      "2018-01-29 21:22:24.368639 : working on export 16\n",
      "10020: http://www.imdb.com/title/tt0934584/\n",
      "10040: http://www.imdb.com/title/tt0926762/\n",
      "10060: http://www.imdb.com/title/tt0923714/\n",
      "10080: http://www.imdb.com/title/tt0918575/\n",
      "10100: http://www.imdb.com/title/tt0910905/\n",
      "10120: http://www.imdb.com/title/tt0906108/\n",
      "10140: http://www.imdb.com/title/tt0901487/\n",
      "10160: http://www.imdb.com/title/tt0896529/\n",
      "10180: http://www.imdb.com/title/tt0892422/\n",
      "10200: http://www.imdb.com/title/tt0889212/\n",
      "10220: http://www.imdb.com/title/tt0884732/\n",
      "10240: http://www.imdb.com/title/tt0880578/\n",
      "10260: http://www.imdb.com/title/tt0875595/\n",
      "10280: http://www.imdb.com/title/tt0870958/\n",
      "10300: http://www.imdb.com/title/tt0865560/\n",
      "10320: http://www.imdb.com/title/tt0860870/\n",
      "10340: http://www.imdb.com/title/tt0856776/\n",
      "10360: http://www.imdb.com/title/tt0850667/\n",
      "10380: http://www.imdb.com/title/tt0847166/\n",
      "10400: http://www.imdb.com/title/tt0844347/\n",
      "10420: http://www.imdb.com/title/tt0841046/\n",
      "10440: http://www.imdb.com/title/tt0837796/\n",
      "10460: http://www.imdb.com/title/tt0833553/\n",
      "10480: http://www.imdb.com/title/tt0829424/\n",
      "10500: http://www.imdb.com/title/tt0826631/\n",
      "10520: http://www.imdb.com/title/tt0824696/\n",
      "10540: http://www.imdb.com/title/tt0819895/\n",
      "10560: http://www.imdb.com/title/tt0816544/\n",
      "10580: http://www.imdb.com/title/tt0814243/\n",
      "10600: http://www.imdb.com/title/tt0810951/\n",
      "10620: http://www.imdb.com/title/tt0808510/\n",
      "10640: http://www.imdb.com/title/tt0808174/\n",
      "10660: http://www.imdb.com/title/tt0805526/\n",
      "10680: http://www.imdb.com/title/tt0803100/\n",
      "10700: http://www.imdb.com/title/tt0800027/\n",
      "10720: http://www.imdb.com/title/tt0795461/\n",
      "10740: http://www.imdb.com/title/tt0791303/\n",
      "10760: http://www.imdb.com/title/tt0790628/\n",
      "10780: http://www.imdb.com/title/tt0785016/\n",
      "10800: http://www.imdb.com/title/tt0783233/\n",
      "10820: http://www.imdb.com/title/tt0780568/\n",
      "10840: http://www.imdb.com/title/tt0775552/\n",
      "10860: http://www.imdb.com/title/tt0770829/\n",
      "10880: http://www.imdb.com/title/tt0765451/\n",
      "10900: http://www.imdb.com/title/tt0762115/\n",
      "10920: http://www.imdb.com/title/tt0758758/\n",
      "10940: http://www.imdb.com/title/tt0756222/\n",
      "10960: http://www.imdb.com/title/tt0498505/\n",
      "10980: http://www.imdb.com/title/tt0497323/\n",
      "11000: http://www.imdb.com/title/tt0494864/\n",
      "2018-01-29 21:40:52.382871 : working on export 17\n",
      "11020: http://www.imdb.com/title/tt0493451/\n",
      "11040: http://www.imdb.com/title/tt0492784/\n",
      "11060: http://www.imdb.com/title/tt0491162/\n",
      "11080: http://www.imdb.com/title/tt0490170/\n",
      "11100: http://www.imdb.com/title/tt0489235/\n",
      "11120: http://www.imdb.com/title/tt0488349/\n",
      "11140: http://www.imdb.com/title/tt0486674/\n",
      "11160: http://www.imdb.com/title/tt0485976/\n",
      "11180: http://www.imdb.com/title/tt0484881/\n",
      "11200: http://www.imdb.com/title/tt0483719/\n",
      "11220: http://www.imdb.com/title/tt0482463/\n",
      "11240: http://www.imdb.com/title/tt0481141/\n",
      "11260: http://www.imdb.com/title/tt0480025/\n",
      "11280: http://www.imdb.com/title/tt0479219/\n",
      "11300: http://www.imdb.com/title/tt0478305/\n",
      "11320: http://www.imdb.com/title/tt0477349/\n",
      "11340: http://www.imdb.com/title/tt0476848/\n",
      "11360: http://www.imdb.com/title/tt0475756/\n",
      "11380: http://www.imdb.com/title/tt0475289/\n",
      "11400: http://www.imdb.com/title/tt0473514/\n",
      "11420: http://www.imdb.com/title/tt0473074/\n",
      "11440: http://www.imdb.com/title/tt0472062/\n",
      "11460: http://www.imdb.com/title/tt0470752/\n",
      "11480: http://www.imdb.com/title/tt0469494/\n",
      "11500: http://www.imdb.com/title/tt0468565/\n",
      "11520: http://www.imdb.com/title/tt0466787/\n",
      "11540: http://www.imdb.com/title/tt0465602/\n",
      "11560: http://www.imdb.com/title/tt0464320/\n",
      "11580: http://www.imdb.com/title/tt0463392/\n",
      "11600: http://www.imdb.com/title/tt0462465/\n",
      "11620: http://www.imdb.com/title/tt0462002/\n",
      "11640: http://www.imdb.com/title/tt0460829/\n",
      "11660: http://www.imdb.com/title/tt0460012/\n",
      "11680: http://www.imdb.com/title/tt0458455/\n",
      "11700: http://www.imdb.com/title/tt0457513/\n",
      "11720: http://www.imdb.com/title/tt0456500/\n",
      "11740: http://www.imdb.com/title/tt0455857/\n",
      "11760: http://www.imdb.com/title/tt0455195/\n",
      "11780: http://www.imdb.com/title/tt0454824/\n",
      "11800: http://www.imdb.com/title/tt0453533/\n",
      "11820: http://www.imdb.com/title/tt0452637/\n",
      "11840: http://www.imdb.com/title/tt0451787/\n",
      "11860: http://www.imdb.com/title/tt0450680/\n",
      "11880: http://www.imdb.com/title/tt0449851/\n",
      "11900: http://www.imdb.com/title/tt0448694/\n",
      "11920: http://www.imdb.com/title/tt0447854/\n",
      "11940: http://www.imdb.com/title/tt0446298/\n",
      "11960: http://www.imdb.com/title/tt0445336/\n",
      "11980: http://www.imdb.com/title/tt0444182/\n",
      "12000: http://www.imdb.com/title/tt0443527/\n",
      "2018-01-29 21:59:31.422182 : working on export 18\n",
      "2018-01-29 21:59:31.424567 : working on export 19\n",
      "Done\n"
     ]
    }
   ],
   "source": [
    "# Movie Details\n",
    "import re\n",
    "import requests\n",
    "from bs4 import BeautifulSoup\n",
    "from datetime import datetime\n",
    "import time\n",
    "\n",
    "movies_scraped = 0\n",
    "movie_details = {}\n",
    "movie_index = 9000                       \n",
    "prefix = 'http://www.imdb.com'\n",
    "export_number = 15\n",
    "export_no = str(export_number)\n",
    "load_attempts = 0\n",
    "\n",
    "def movie_scraper():\n",
    "    global movie_index\n",
    "    \n",
    "    print(str(datetime.now()),': working on export ' + export_no)\n",
    "    \n",
    "    for url in movie_urls[movie_index:12000]:\n",
    "        if (movie_index+1) % 20 == 0:\n",
    "            time.sleep(1.5)\n",
    "            print('%d: %s' %(movie_index+1, url))\n",
    "        page = request_page(url)\n",
    "        get_movie_details(url, page)\n",
    "        movie_index += 1\n",
    "    \n",
    "    export_to_json(movie_details)\n",
    "    print(\"Done\")\n",
    "    \n",
    "def request_page(url):\n",
    "    global load_attempts\n",
    "    response = requests.get(url)\n",
    "    \n",
    "    if response.status_code == 200:\n",
    "        return(response.text)\n",
    "        load_attempts = 0\n",
    "    else:\n",
    "        print(response.status_code,'for %s' %(url))\n",
    "        if response.status_code != 404:\n",
    "            if load_attempts == 10:\n",
    "                time.sleep(60)\n",
    "            else:\n",
    "                time.sleep(10)\n",
    "            request_page(url)\n",
    "            load_attempts += 1\n",
    "\n",
    "def get_movie_details(url, page):\n",
    "    soup = BeautifulSoup(page, 'html.parser')\n",
    "\n",
    "    movie_details[url] = {}\n",
    "    \n",
    "    plot_wrapper = soup.find('div', class_='plot_summary_wrapper')\n",
    "\n",
    "    if plot_wrapper:\n",
    "        if plot_wrapper.find(text=re.compile('Director:')):\n",
    "            directorURL = plot_wrapper.find(text=re.compile('Director:'))\n",
    "        elif plot_wrapper.find(text=re.compile('Directors:')):\n",
    "            directorURL = plot_wrapper.find(text=re.compile('Directors:'))\n",
    "        else:\n",
    "            directorURL = None\n",
    "    directorURL = directorURL.parent.parent if directorURL else None\n",
    "    directorURL = directorURL.find('a') if directorURL else None\n",
    "    director = directorURL.text if directorURL else None\n",
    "    directorURL = directorURL['href'] if directorURL else None\n",
    "    directorURL = prefix+directorURL.split(\"?\")[0] if directorURL else None\n",
    "    movie_details[url]['Director'] = director\n",
    "    movie_details[url]['Director_URL'] = directorURL\n",
    "\n",
    "    if plot_wrapper:\n",
    "        if plot_wrapper.find(text=re.compile('Stars:')):\n",
    "            starURLs = plot_wrapper.find(text=re.compile('Stars:'))\n",
    "        elif plot_wrapper.find(text=re.compile('Star:')):\n",
    "            starURLs = plot_wrapper.find(text=re.compile('Star:'))\n",
    "        else:\n",
    "            starURLs = None\n",
    "    starURLs = starURLs.parent.parent if starURLs else None\n",
    "    starURLs = starURLs.findAll('a') if starURLs else None\n",
    "    if starURLs:\n",
    "        if len(starURLs) == 4:\n",
    "            starURLs = [[star['href'],star.text] for star in starURLs[:-1]]\n",
    "        else:\n",
    "            starURLs = [[star['href'],star.text] for star in starURLs]\n",
    "    if starURLs:\n",
    "        i = 0\n",
    "        while len(starURLs) >= i+1:\n",
    "            for URL in starURLs:\n",
    "                star = starURLs[i]\n",
    "                movie_details[url]['Star%s' %str(i+1)] = star[1].split('\\n')[0].strip() if star[1] else None\n",
    "                movie_details[url]['Star%s_URL' %str(i+1)] = prefix+star[0].split(\"?\")[0] if star[0] else None\n",
    "            i += 1 \n",
    "    \n",
    "    title = soup.find('div', class_='title_wrapper').find('h1',itemprop='name')\n",
    "    title = title.contents[0].replace(u'\\xa0', u'')\n",
    "    movie_details[url]['Title'] = title\n",
    "\n",
    "    release_date = soup.find('div', class_='title_wrapper')\n",
    "    release_date = release_date.findAll('a') if release_date else None\n",
    "    release_date = release_date[-1] if release_date else None\n",
    "    release_date = release_date.find('meta') if release_date else None\n",
    "    release_date = str(release_date) if release_date else None\n",
    "    release_date = re.sub('[^0-9-]+','', release_date) if release_date else None\n",
    "    movie_details[url]['Release Date'] = release_date\n",
    "\n",
    "    title_details = soup.find(id='titleDetails')\n",
    "    \n",
    "    production_company = title_details.find(text=re.compile('Production Co:')) if title_details else None\n",
    "    production_company = production_company.parent.parent if production_company else None\n",
    "    production_company = production_company.find('a') if production_company else None\n",
    "    production_company = production_company.text if production_company else None\n",
    "    movie_details[url]['Production Company'] = production_company\n",
    "\n",
    "    country = title_details.find(text=re.compile('Country:')) if title_details else None\n",
    "    country = country.parent.parent if country else None\n",
    "    country = country.find('a') if country else None\n",
    "    country = country.text if country else None\n",
    "    movie_details[url]['Country'] = country\n",
    "\n",
    "    language = title_details.find(text=re.compile('Language:')) if title_details else None\n",
    "    language = language.parent.parent if language else None\n",
    "    language = language.find('a') if language else None\n",
    "    language = language.text if language else None\n",
    "    movie_details[url]['Language'] = language\n",
    "\n",
    "    primary_filming_location = title_details.find(text=re.compile('Filming Locations:')) if title_details else None\n",
    "    primary_filming_location = primary_filming_location.parent.parent if primary_filming_location else None\n",
    "    primary_filming_location = primary_filming_location.find('a') if primary_filming_location else None\n",
    "    primary_filming_location= primary_filming_location.text if primary_filming_location else None\n",
    "    movie_details[url]['Primary Filming Location'] = primary_filming_location\n",
    "\n",
    "    budget = title_details.find(text=re.compile('Budget:')) if title_details else None\n",
    "    budget = budget.parent.parent if budget else None\n",
    "    budget = budget.text.strip() if budget else None\n",
    "    budget = re.sub('[^0-9]+','', budget) if budget else None\n",
    "    movie_details[url]['Budget'] = budget\n",
    "\n",
    "    opening_weekend_usa = title_details.find(text=re.compile('Opening Weekend USA:')) if title_details else None\n",
    "    opening_weekend_usa = opening_weekend_usa.parent.parent if opening_weekend_usa else None\n",
    "    opening_weekend_usa = opening_weekend_usa.text.strip() if opening_weekend_usa else None\n",
    "    opening_weekend_usa = re.sub('[^0-9]+','', opening_weekend_usa) if opening_weekend_usa else None\n",
    "    movie_details[url]['Opening Weekend USA'] = opening_weekend_usa\n",
    "\n",
    "    #rename gross to gross USA in listing scrape\n",
    "    global_gross = title_details.find(text=re.compile('Cumulative Worldwide Gross:')) if title_details else None\n",
    "    global_gross = global_gross.parent.parent if global_gross else None\n",
    "    global_gross = global_gross.text.strip() if global_gross else None\n",
    "    global_gross = re.sub('[^0-9]+','', global_gross) if global_gross else None\n",
    "    movie_details[url]['Cumulative Worldwide Gross'] = global_gross\n",
    "\n",
    "    gross_usa = title_details.find(text=re.compile('Gross USA:')) if title_details else None\n",
    "    gross_usa = gross_usa.parent.parent if gross_usa else None\n",
    "    gross_usa = gross_usa.text.strip() if gross_usa else None\n",
    "    gross_usa = re.sub('[^0-9]+','', gross_usa) if gross_usa else None\n",
    "    movie_details[url]['Gross USA'] = gross_usa\n",
    "\n",
    "    go_to_next_and_export()\n",
    "\n",
    "def go_to_next_and_export():\n",
    "    global movies_scraped\n",
    "    global movie_details\n",
    "    \n",
    "    movies_scraped+=1\n",
    "\n",
    "    if len(movie_details) == 1000:                                         \n",
    "        export_to_json(movie_details)\n",
    "        movies_scraped = 0\n",
    "        movie_details = {}\n",
    "\n",
    "def export_to_json(movie_details):\n",
    "    global export_no\n",
    "    global export_number\n",
    "    with open('movie_details_export_%s.json' %(export_no),'w')  as f:\n",
    "        json.dump(movie_details,f)\n",
    "\n",
    "    export_number += 1\n",
    "    export_no = str(export_number)\n",
    "    print(str(datetime.now()),': working on export ' + export_no)\n",
    "\n",
    "movie_scraper()"
   ]
  },
  {
   "cell_type": "raw",
   "metadata": {},
   "source": [
    "movie_urls[9360:9380]"
   ]
  },
  {
   "cell_type": "raw",
   "metadata": {},
   "source": [
    "import json\n",
    "import pandas as pd\n",
    "\n",
    "movies_df = pd.read_json('movie_details_export_1.json',orient='index')"
   ]
  },
  {
   "cell_type": "raw",
   "metadata": {},
   "source": [
    "movies_df"
   ]
  },
  {
   "cell_type": "raw",
   "metadata": {},
   "source": [
    "movies_df2 = pd.read_json('movie_details_exports/movie_details_export_1.json',orient='index',)"
   ]
  },
  {
   "cell_type": "raw",
   "metadata": {},
   "source": [
    "movies_df2.loc['http://www.imdb.com/title/tt7056732/']"
   ]
  }
 ],
 "metadata": {
  "kernelspec": {
   "display_name": "Python 3",
   "language": "python",
   "name": "python3"
  },
  "language_info": {
   "codemirror_mode": {
    "name": "ipython",
    "version": 3
   },
   "file_extension": ".py",
   "mimetype": "text/x-python",
   "name": "python",
   "nbconvert_exporter": "python",
   "pygments_lexer": "ipython3",
   "version": "3.6.4"
  }
 },
 "nbformat": 4,
 "nbformat_minor": 2
}
