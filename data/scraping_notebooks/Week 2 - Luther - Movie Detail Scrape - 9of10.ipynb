{
 "cells": [
  {
   "cell_type": "markdown",
   "metadata": {},
   "source": [
    "# Importing and Dropping Duplicates"
   ]
  },
  {
   "cell_type": "code",
   "execution_count": 1,
   "metadata": {},
   "outputs": [],
   "source": [
    "import pandas as pd\n",
    "import json"
   ]
  },
  {
   "cell_type": "code",
   "execution_count": 2,
   "metadata": {},
   "outputs": [],
   "source": [
    "imports = []\n",
    "for i in range(1,41):\n",
    "    imports.append('genre_exports/export_%s.json' %(str(i)))   #rename to genre_export"
   ]
  },
  {
   "cell_type": "code",
   "execution_count": 3,
   "metadata": {},
   "outputs": [
    {
     "data": {
      "text/plain": [
       "['genre_exports/export_1.json',\n",
       " 'genre_exports/export_2.json',\n",
       " 'genre_exports/export_3.json',\n",
       " 'genre_exports/export_4.json',\n",
       " 'genre_exports/export_5.json',\n",
       " 'genre_exports/export_6.json',\n",
       " 'genre_exports/export_7.json',\n",
       " 'genre_exports/export_8.json',\n",
       " 'genre_exports/export_9.json',\n",
       " 'genre_exports/export_10.json',\n",
       " 'genre_exports/export_11.json',\n",
       " 'genre_exports/export_12.json',\n",
       " 'genre_exports/export_13.json',\n",
       " 'genre_exports/export_14.json',\n",
       " 'genre_exports/export_15.json',\n",
       " 'genre_exports/export_16.json',\n",
       " 'genre_exports/export_17.json',\n",
       " 'genre_exports/export_18.json',\n",
       " 'genre_exports/export_19.json',\n",
       " 'genre_exports/export_20.json',\n",
       " 'genre_exports/export_21.json',\n",
       " 'genre_exports/export_22.json',\n",
       " 'genre_exports/export_23.json',\n",
       " 'genre_exports/export_24.json',\n",
       " 'genre_exports/export_25.json',\n",
       " 'genre_exports/export_26.json',\n",
       " 'genre_exports/export_27.json',\n",
       " 'genre_exports/export_28.json',\n",
       " 'genre_exports/export_29.json',\n",
       " 'genre_exports/export_30.json',\n",
       " 'genre_exports/export_31.json',\n",
       " 'genre_exports/export_32.json',\n",
       " 'genre_exports/export_33.json',\n",
       " 'genre_exports/export_34.json',\n",
       " 'genre_exports/export_35.json',\n",
       " 'genre_exports/export_36.json',\n",
       " 'genre_exports/export_37.json',\n",
       " 'genre_exports/export_38.json',\n",
       " 'genre_exports/export_39.json',\n",
       " 'genre_exports/export_40.json']"
      ]
     },
     "execution_count": 3,
     "metadata": {},
     "output_type": "execute_result"
    }
   ],
   "source": [
    "imports"
   ]
  },
  {
   "cell_type": "code",
   "execution_count": 4,
   "metadata": {},
   "outputs": [],
   "source": [
    "movies_df = pd.DataFrame()"
   ]
  },
  {
   "cell_type": "code",
   "execution_count": 5,
   "metadata": {},
   "outputs": [],
   "source": [
    "for imp in imports:\n",
    "    movies_df = movies_df.append(pd.read_json(imp, orient='index'))\n",
    "\n",
    "# mov = mov.append(pd.read_json('export_2.json', orient='index'))\n",
    "# mov = mov.append(pd.read_json('export_3.json', orient='index'))"
   ]
  },
  {
   "cell_type": "code",
   "execution_count": 6,
   "metadata": {},
   "outputs": [
    {
     "data": {
      "text/plain": [
       "188326"
      ]
     },
     "execution_count": 6,
     "metadata": {},
     "output_type": "execute_result"
    }
   ],
   "source": [
    "len(movies_df)"
   ]
  },
  {
   "cell_type": "markdown",
   "metadata": {},
   "source": [
    "### Use New DataFrame"
   ]
  },
  {
   "cell_type": "code",
   "execution_count": 7,
   "metadata": {},
   "outputs": [],
   "source": [
    "movies = pd.DataFrame(movies_df)"
   ]
  },
  {
   "cell_type": "code",
   "execution_count": 8,
   "metadata": {},
   "outputs": [],
   "source": [
    "movies['ID'] = movies.index"
   ]
  },
  {
   "cell_type": "raw",
   "metadata": {},
   "source": [
    "movies.sample(400)"
   ]
  },
  {
   "cell_type": "code",
   "execution_count": 9,
   "metadata": {},
   "outputs": [],
   "source": [
    "movies = movies.drop_duplicates(subset='ID',keep='first')"
   ]
  },
  {
   "cell_type": "code",
   "execution_count": 10,
   "metadata": {},
   "outputs": [
    {
     "data": {
      "text/plain": [
       "106906"
      ]
     },
     "execution_count": 10,
     "metadata": {},
     "output_type": "execute_result"
    }
   ],
   "source": [
    "len(movies)"
   ]
  },
  {
   "cell_type": "markdown",
   "metadata": {},
   "source": [
    "## Drop NaN Ratings"
   ]
  },
  {
   "cell_type": "code",
   "execution_count": 11,
   "metadata": {},
   "outputs": [
    {
     "data": {
      "text/plain": [
       "29609"
      ]
     },
     "execution_count": 11,
     "metadata": {},
     "output_type": "execute_result"
    }
   ],
   "source": [
    "movies['Rating'].isnull().sum()"
   ]
  },
  {
   "cell_type": "code",
   "execution_count": 12,
   "metadata": {},
   "outputs": [],
   "source": [
    "movies = movies.dropna(subset = ['Rating'])"
   ]
  },
  {
   "cell_type": "code",
   "execution_count": 13,
   "metadata": {},
   "outputs": [
    {
     "data": {
      "text/plain": [
       "77297"
      ]
     },
     "execution_count": 13,
     "metadata": {},
     "output_type": "execute_result"
    }
   ],
   "source": [
    "len(movies)"
   ]
  },
  {
   "cell_type": "markdown",
   "metadata": {},
   "source": [
    "## Keep Only Movies with Drop Movies with 1000 Votes or More"
   ]
  },
  {
   "cell_type": "code",
   "execution_count": 14,
   "metadata": {},
   "outputs": [],
   "source": [
    "movies['Votes'] = movies['Votes'].str.replace(',','')"
   ]
  },
  {
   "cell_type": "code",
   "execution_count": 15,
   "metadata": {
    "scrolled": true
   },
   "outputs": [
    {
     "data": {
      "text/plain": [
       "http://www.imdb.com/title/tt0006206/     3519\n",
       "http://www.imdb.com/title/tt0009682/      541\n",
       "http://www.imdb.com/title/tt0014720/        9\n",
       "http://www.imdb.com/title/tt0015163/     7287\n",
       "http://www.imdb.com/title/tt0015324/    24694\n",
       "http://www.imdb.com/title/tt0017925/    61402\n",
       "http://www.imdb.com/title/tt0018578/     8998\n",
       "http://www.imdb.com/title/tt0019421/    10630\n",
       "http://www.imdb.com/title/tt0019532/      269\n",
       "http://www.imdb.com/title/tt0020815/     1325\n",
       "http://www.imdb.com/title/tt0021079/     9804\n",
       "http://www.imdb.com/title/tt0022753/      728\n",
       "http://www.imdb.com/title/tt0023427/    21444\n",
       "http://www.imdb.com/title/tt0023551/     5944\n",
       "http://www.imdb.com/title/tt0025004/     1958\n",
       "http://www.imdb.com/title/tt0025862/     4124\n",
       "http://www.imdb.com/title/tt0026164/     1433\n",
       "http://www.imdb.com/title/tt0026174/    10768\n",
       "http://www.imdb.com/title/tt0027438/     3741\n",
       "http://www.imdb.com/title/tt0027623/     1745\n",
       "http://www.imdb.com/title/tt0029047/     1707\n",
       "http://www.imdb.com/title/tt0029081/      835\n",
       "http://www.imdb.com/title/tt0029843/    41480\n",
       "http://www.imdb.com/title/tt0029850/     8927\n",
       "http://www.imdb.com/title/tt0031088/     4662\n",
       "http://www.imdb.com/title/tt0031747/     1717\n",
       "http://www.imdb.com/title/tt0031867/    10487\n",
       "http://www.imdb.com/title/tt0032484/    15145\n",
       "http://www.imdb.com/title/tt0032762/     8067\n",
       "http://www.imdb.com/title/tt0032850/     1199\n",
       "                                        ...  \n",
       "http://www.imdb.com/title/tt0473191/       36\n",
       "http://www.imdb.com/title/tt0474798/        6\n",
       "http://www.imdb.com/title/tt0484283/       10\n",
       "http://www.imdb.com/title/tt0493287/       34\n",
       "http://www.imdb.com/title/tt0756286/       15\n",
       "http://www.imdb.com/title/tt0795362/      100\n",
       "http://www.imdb.com/title/tt0798798/       11\n",
       "http://www.imdb.com/title/tt0955291/        7\n",
       "http://www.imdb.com/title/tt0986271/        7\n",
       "http://www.imdb.com/title/tt1223141/       25\n",
       "http://www.imdb.com/title/tt1344659/       63\n",
       "http://www.imdb.com/title/tt1361857/       31\n",
       "http://www.imdb.com/title/tt1362468/        8\n",
       "http://www.imdb.com/title/tt1511469/       18\n",
       "http://www.imdb.com/title/tt1537920/       11\n",
       "http://www.imdb.com/title/tt1666711/        5\n",
       "http://www.imdb.com/title/tt1753916/       12\n",
       "http://www.imdb.com/title/tt1842394/        6\n",
       "http://www.imdb.com/title/tt1874644/       12\n",
       "http://www.imdb.com/title/tt1928157/        5\n",
       "http://www.imdb.com/title/tt2159768/        6\n",
       "http://www.imdb.com/title/tt2280644/        6\n",
       "http://www.imdb.com/title/tt2390968/       19\n",
       "http://www.imdb.com/title/tt2418150/       22\n",
       "http://www.imdb.com/title/tt2507106/        5\n",
       "http://www.imdb.com/title/tt2749034/       12\n",
       "http://www.imdb.com/title/tt2879728/        5\n",
       "http://www.imdb.com/title/tt3751082/       10\n",
       "http://www.imdb.com/title/tt3924776/       40\n",
       "http://www.imdb.com/title/tt4386364/       33\n",
       "Name: Votes, Length: 77297, dtype: object"
      ]
     },
     "execution_count": 15,
     "metadata": {},
     "output_type": "execute_result"
    }
   ],
   "source": [
    "movies['Votes']"
   ]
  },
  {
   "cell_type": "code",
   "execution_count": 16,
   "metadata": {},
   "outputs": [],
   "source": [
    "movies['Votes'] = movies['Votes'].astype(int)"
   ]
  },
  {
   "cell_type": "code",
   "execution_count": 17,
   "metadata": {},
   "outputs": [
    {
     "data": {
      "text/plain": [
       "29717"
      ]
     },
     "execution_count": 17,
     "metadata": {},
     "output_type": "execute_result"
    }
   ],
   "source": [
    "len(movies[movies['Votes'] >= 500])"
   ]
  },
  {
   "cell_type": "code",
   "execution_count": 18,
   "metadata": {},
   "outputs": [],
   "source": [
    "movies = movies[movies['Votes'] >= 500]"
   ]
  },
  {
   "cell_type": "raw",
   "metadata": {},
   "source": []
  },
  {
   "cell_type": "markdown",
   "metadata": {},
   "source": [
    "# Scrape Details with Movie URL"
   ]
  },
  {
   "cell_type": "code",
   "execution_count": 19,
   "metadata": {},
   "outputs": [
    {
     "data": {
      "text/plain": [
       "29717"
      ]
     },
     "execution_count": 19,
     "metadata": {},
     "output_type": "execute_result"
    }
   ],
   "source": [
    "len(movies.index)"
   ]
  },
  {
   "cell_type": "code",
   "execution_count": 20,
   "metadata": {
    "scrolled": false
   },
   "outputs": [
    {
     "data": {
      "text/plain": [
       "Index(['http://www.imdb.com/title/tt0006206/',\n",
       "       'http://www.imdb.com/title/tt0009682/',\n",
       "       'http://www.imdb.com/title/tt0015163/',\n",
       "       'http://www.imdb.com/title/tt0015324/',\n",
       "       'http://www.imdb.com/title/tt0017925/',\n",
       "       'http://www.imdb.com/title/tt0018578/',\n",
       "       'http://www.imdb.com/title/tt0019421/',\n",
       "       'http://www.imdb.com/title/tt0020815/',\n",
       "       'http://www.imdb.com/title/tt0021079/',\n",
       "       'http://www.imdb.com/title/tt0022753/',\n",
       "       ...\n",
       "       'http://www.imdb.com/title/tt0439504/',\n",
       "       'http://www.imdb.com/title/tt0457530/',\n",
       "       'http://www.imdb.com/title/tt0495747/',\n",
       "       'http://www.imdb.com/title/tt1384925/',\n",
       "       'http://www.imdb.com/title/tt1388402/',\n",
       "       'http://www.imdb.com/title/tt1555110/',\n",
       "       'http://www.imdb.com/title/tt2014202/',\n",
       "       'http://www.imdb.com/title/tt2140381/',\n",
       "       'http://www.imdb.com/title/tt4893452/',\n",
       "       'http://www.imdb.com/title/tt5143890/'],\n",
       "      dtype='object', length=29717)"
      ]
     },
     "execution_count": 20,
     "metadata": {},
     "output_type": "execute_result"
    }
   ],
   "source": [
    "movies.index"
   ]
  },
  {
   "cell_type": "code",
   "execution_count": 21,
   "metadata": {},
   "outputs": [],
   "source": [
    "movie_urls = list(movies.index)"
   ]
  },
  {
   "cell_type": "code",
   "execution_count": 22,
   "metadata": {},
   "outputs": [
    {
     "data": {
      "text/plain": [
       "29717"
      ]
     },
     "execution_count": 22,
     "metadata": {},
     "output_type": "execute_result"
    }
   ],
   "source": [
    "len(movie_urls)"
   ]
  },
  {
   "cell_type": "raw",
   "metadata": {},
   "source": [
    "movie_urls[2]"
   ]
  },
  {
   "cell_type": "code",
   "execution_count": 23,
   "metadata": {},
   "outputs": [],
   "source": [
    "movie_urls = sorted(movie_urls,reverse = True)"
   ]
  },
  {
   "cell_type": "raw",
   "metadata": {},
   "source": [
    "movie_urls[-200:]"
   ]
  },
  {
   "cell_type": "code",
   "execution_count": 24,
   "metadata": {},
   "outputs": [
    {
     "data": {
      "text/plain": [
       "Index(['Certificate', 'Director', 'Genre', 'Gross', 'Metascore', 'Rating',\n",
       "       'Runtime', 'Star1', 'Star1_URL', 'Star2', 'Star2_URL', 'Star3',\n",
       "       'Star3_URL', 'Star4', 'Star4_URL', 'Title', 'Votes', 'Year', 'ID'],\n",
       "      dtype='object')"
      ]
     },
     "execution_count": 24,
     "metadata": {},
     "output_type": "execute_result"
    }
   ],
   "source": [
    "movies.columns"
   ]
  },
  {
   "cell_type": "raw",
   "metadata": {},
   "source": [
    "movies.loc['http://www.imdb.com/title/tt0102926/']"
   ]
  },
  {
   "cell_type": "raw",
   "metadata": {},
   "source": [
    "import re\n",
    "import requests\n",
    "from bs4 import BeautifulSoup\n",
    "from datetime import datetime\n",
    "\n",
    "url = 'http://www.imdb.com/title/tt5013056/'\n",
    "response = requests.get(url)\n",
    "soup = BeautifulSoup(response.text, 'html.parser')"
   ]
  },
  {
   "cell_type": "raw",
   "metadata": {},
   "source": [
    "prefix = 'http://www.imdb.com'\n",
    "\n",
    "movie_details = {}\n",
    "movie_details[url] = {}\n",
    "\n",
    "stars = soup.find(id='titleCast')\n",
    "stars = stars.find('table', class_='cast_list') if stars else None\n",
    "stars = stars.findAll('td', class_='itemprop') if stars else None\n",
    "starlisttemp = []\n",
    "stars = [starlisttemp.append([star.find('a')['href'],star.find('a').text]) for star in stars[0:10]] if stars else None\n",
    "starlist = []\n",
    "if starlisttemp: [starlist.append([prefix+combination[0].split('?')[0],combination[1].split('\\n')[0].strip()]) for combination in starlisttemp]\n",
    "\n",
    "\n",
    "# starURLs = [star.find('a')['href'] for star in stars] if stars else None\n",
    "# starURLs = [prefix + URL.split('?')[0] for URL in starURLs] if starURLs else None\n",
    "\n",
    "# starnames = [star.find('a').text for star in stars] if stars else None\n",
    "# starnames = [name.split('\\n')[0].strip() for name in starnames] if starnames else None\n",
    "\n",
    "# if starnames[0:4]: \n",
    "#     i = 0\n",
    "#     for star in starnames:\n",
    "#         star = starnames[i]\n",
    "#         movie_details[url]['Star%s' %str(i+1)] = star\n",
    "#         starURL = starURLs[i] if starURLs[i] else None\n",
    "\n",
    "#         movie_details[url]['Star%s_URL' %str(i+1)] = prefix+starURL\n",
    "#         i += 1\n",
    "\n",
    "# stars\n",
    "# starURLs\n",
    "# movie_details\n",
    "starlist"
   ]
  },
  {
   "cell_type": "raw",
   "metadata": {},
   "source": [
    "starURLs = soup.find('div', class_='plot_summary_wrapper')\n",
    "starURLs = starURLs.find(text=re.compile('Stars:')) if starURLs else None\n",
    "starURLs = starURLs.parent.parent if starURLs else None\n",
    "starURLs = starURLs.findAll('a') if starURLs else None\n",
    "starURLs = [[star['href'],star.text] for star in starURLs[:-1]] if starURLs else None\n",
    "if starURLs:\n",
    "    i = 0\n",
    "    while len(starURLs) >= i+1:\n",
    "        for URL in starURLs:\n",
    "            star = starURLs[i]\n",
    "            movie_details[url]['Star%s' %str(i+1)] = star[1].split('\\n')[0].strip() if star[1] else None\n",
    "            movie_details[url]['Star%s_URL' %str(i+1)] = prefix+star[0].split(\"?\")[0] if star[0] else None\n",
    "            i += 1\n",
    "        \n",
    "# director = starURLs.text if starURLs else None\n",
    "# starURLs = starURLs['href'] if starURLs else None\n",
    "# starURLs = prefix+starURLs.split(\"?\")[0] if starURLs else None\n",
    "# movie_details[url]['Director'] = director\n",
    "# movie_details[url]['Director_URL'] = starURLs\n",
    "                                   \n",
    "movie_details   \n",
    "# stars\n",
    "# starURLs"
   ]
  },
  {
   "cell_type": "code",
   "execution_count": null,
   "metadata": {},
   "outputs": [],
   "source": []
  },
  {
   "cell_type": "code",
   "execution_count": null,
   "metadata": {},
   "outputs": [],
   "source": []
  },
  {
   "cell_type": "code",
   "execution_count": 26,
   "metadata": {
    "scrolled": false
   },
   "outputs": [
    {
     "name": "stdout",
     "output_type": "stream",
     "text": [
      "2018-01-29 21:04:04.128535 : working on export 40\n",
      "24020: http://www.imdb.com/title/tt0071281/\n",
      "24040: http://www.imdb.com/title/tt0071198/\n",
      "24060: http://www.imdb.com/title/tt0070913/\n",
      "24080: http://www.imdb.com/title/tt0070795/\n",
      "24100: http://www.imdb.com/title/tt0070680/\n",
      "24120: http://www.imdb.com/title/tt0070556/\n",
      "24140: http://www.imdb.com/title/tt0070438/\n",
      "24160: http://www.imdb.com/title/tt0070294/\n",
      "24180: http://www.imdb.com/title/tt0070158/\n",
      "24200: http://www.imdb.com/title/tt0070030/\n",
      "24220: http://www.imdb.com/title/tt0069933/\n",
      "24240: http://www.imdb.com/title/tt0069822/\n",
      "24260: http://www.imdb.com/title/tt0069704/\n",
      "24280: http://www.imdb.com/title/tt0069421/\n",
      "24300: http://www.imdb.com/title/tt0069281/\n",
      "24320: http://www.imdb.com/title/tt0069158/\n",
      "24340: http://www.imdb.com/title/tt0069029/\n",
      "24360: http://www.imdb.com/title/tt0068897/\n",
      "24380: http://www.imdb.com/title/tt0068727/\n",
      "24400: http://www.imdb.com/title/tt0068649/\n",
      "24420: http://www.imdb.com/title/tt0068505/\n",
      "24440: http://www.imdb.com/title/tt0068415/\n",
      "24460: http://www.imdb.com/title/tt0068310/\n",
      "24480: http://www.imdb.com/title/tt0068232/\n",
      "24500: http://www.imdb.com/title/tt0067991/\n",
      "24520: http://www.imdb.com/title/tt0067885/\n",
      "24540: http://www.imdb.com/title/tt0067732/\n",
      "24560: http://www.imdb.com/title/tt0067592/\n",
      "24580: http://www.imdb.com/title/tt0067482/\n",
      "24600: http://www.imdb.com/title/tt0067385/\n",
      "24620: http://www.imdb.com/title/tt0067277/\n",
      "24640: http://www.imdb.com/title/tt0067128/\n",
      "24660: http://www.imdb.com/title/tt0066999/\n",
      "24680: http://www.imdb.com/title/tt0066894/\n",
      "24700: http://www.imdb.com/title/tt0066808/\n",
      "24720: http://www.imdb.com/title/tt0066585/\n",
      "24740: http://www.imdb.com/title/tt0066473/\n",
      "24760: http://www.imdb.com/title/tt0066286/\n",
      "24780: http://www.imdb.com/title/tt0066115/\n",
      "24800: http://www.imdb.com/title/tt0065979/\n",
      "24820: http://www.imdb.com/title/tt0065848/\n",
      "24840: http://www.imdb.com/title/tt0065677/\n",
      "24860: http://www.imdb.com/title/tt0065570/\n",
      "24880: http://www.imdb.com/title/tt0065478/\n",
      "24900: http://www.imdb.com/title/tt0065234/\n",
      "24920: http://www.imdb.com/title/tt0065112/\n",
      "24940: http://www.imdb.com/title/tt0064916/\n",
      "24960: http://www.imdb.com/title/tt0064757/\n",
      "24980: http://www.imdb.com/title/tt0064638/\n",
      "25000: http://www.imdb.com/title/tt0064471/\n",
      "2018-01-29 21:23:38.269364 : working on export 41\n",
      "25020: http://www.imdb.com/title/tt0064360/\n",
      "25040: http://www.imdb.com/title/tt0064169/\n",
      "25060: http://www.imdb.com/title/tt0064091/\n",
      "25080: http://www.imdb.com/title/tt0063821/\n",
      "25100: http://www.imdb.com/title/tt0063688/\n",
      "25120: http://www.imdb.com/title/tt0063569/\n",
      "25140: http://www.imdb.com/title/tt0063386/\n",
      "25160: http://www.imdb.com/title/tt0063227/\n",
      "25180: http://www.imdb.com/title/tt0063056/\n",
      "25200: http://www.imdb.com/title/tt0062893/\n",
      "25220: http://www.imdb.com/title/tt0062803/\n",
      "25240: http://www.imdb.com/title/tt0062673/\n",
      "25260: http://www.imdb.com/title/tt0062453/\n",
      "25280: http://www.imdb.com/title/tt0062301/\n",
      "25300: http://www.imdb.com/title/tt0062138/\n",
      "25320: http://www.imdb.com/title/tt0061957/\n",
      "25340: http://www.imdb.com/title/tt0061809/\n",
      "25360: http://www.imdb.com/title/tt0061715/\n",
      "25380: http://www.imdb.com/title/tt0061610/\n",
      "25400: http://www.imdb.com/title/tt0061495/\n",
      "25420: http://www.imdb.com/title/tt0061398/\n",
      "25440: http://www.imdb.com/title/tt0061189/\n",
      "25460: http://www.imdb.com/title/tt0061080/\n",
      "25480: http://www.imdb.com/title/tt0060921/\n",
      "25500: http://www.imdb.com/title/tt0060754/\n",
      "25520: http://www.imdb.com/title/tt0060636/\n",
      "25540: http://www.imdb.com/title/tt0060472/\n",
      "25560: http://www.imdb.com/title/tt0060380/\n",
      "25580: http://www.imdb.com/title/tt0060188/\n",
      "25600: http://www.imdb.com/title/tt0060095/\n",
      "25620: http://www.imdb.com/title/tt0059885/\n",
      "25640: http://www.imdb.com/title/tt0059764/\n",
      "25660: http://www.imdb.com/title/tt0059635/\n",
      "25680: http://www.imdb.com/title/tt0059464/\n",
      "25700: http://www.imdb.com/title/tt0059298/\n",
      "25720: http://www.imdb.com/title/tt0059205/\n",
      "25740: http://www.imdb.com/title/tt0059080/\n",
      "25760: http://www.imdb.com/title/tt0058954/\n",
      "25780: http://www.imdb.com/title/tt0058715/\n",
      "25800: http://www.imdb.com/title/tt0058580/\n",
      "25820: http://www.imdb.com/title/tt0058453/\n",
      "25840: http://www.imdb.com/title/tt0058371/\n",
      "25860: http://www.imdb.com/title/tt0058249/\n",
      "25880: http://www.imdb.com/title/tt0058100/\n",
      "25900: http://www.imdb.com/title/tt0057967/\n",
      "25920: http://www.imdb.com/title/tt0057846/\n",
      "25940: http://www.imdb.com/title/tt0057634/\n",
      "25960: http://www.imdb.com/title/tt0057518/\n",
      "25980: http://www.imdb.com/title/tt0057372/\n",
      "26000: http://www.imdb.com/title/tt0057227/\n",
      "2018-01-29 21:42:38.303070 : working on export 42\n",
      "26020: http://www.imdb.com/title/tt0057100/\n",
      "26040: http://www.imdb.com/title/tt0056945/\n",
      "26060: http://www.imdb.com/title/tt0056860/\n",
      "26080: http://www.imdb.com/title/tt0056671/\n",
      "26100: http://www.imdb.com/title/tt0056452/\n",
      "26120: http://www.imdb.com/title/tt0056335/\n",
      "26140: http://www.imdb.com/title/tt0056217/\n",
      "26160: http://www.imdb.com/title/tt0056111/\n",
      "26180: http://www.imdb.com/title/tt0055928/\n",
      "26200: http://www.imdb.com/title/tt0055819/\n",
      "26220: http://www.imdb.com/title/tt0055571/\n",
      "26240: http://www.imdb.com/title/tt0055312/\n",
      "26260: http://www.imdb.com/title/tt0055139/\n",
      "26280: http://www.imdb.com/title/tt0054950/\n",
      "26300: http://www.imdb.com/title/tt0054795/\n",
      "26320: http://www.imdb.com/title/tt0054665/\n",
      "26340: http://www.imdb.com/title/tt0054428/\n",
      "26360: http://www.imdb.com/title/tt0054353/\n",
      "26380: http://www.imdb.com/title/tt0054215/\n",
      "26400: http://www.imdb.com/title/tt0054098/\n",
      "26420: http://www.imdb.com/title/tt0053944/\n",
      "26440: http://www.imdb.com/title/tt0053779/\n",
      "26460: http://www.imdb.com/title/tt0053622/\n",
      "26480: http://www.imdb.com/title/tt0053434/\n",
      "26500: http://www.imdb.com/title/tt0053258/\n",
      "26520: http://www.imdb.com/title/tt0053143/\n",
      "26540: http://www.imdb.com/title/tt0053033/\n",
      "26560: http://www.imdb.com/title/tt0052905/\n",
      "26580: http://www.imdb.com/title/tt0052809/\n",
      "26600: http://www.imdb.com/title/tt0052676/\n",
      "26620: http://www.imdb.com/title/tt0052563/\n",
      "26640: http://www.imdb.com/title/tt0052311/\n",
      "26660: http://www.imdb.com/title/tt0052190/\n",
      "26680: http://www.imdb.com/title/tt0052002/\n",
      "26700: http://www.imdb.com/title/tt0051818/\n",
      "26720: http://www.imdb.com/title/tt0051713/\n",
      "26740: http://www.imdb.com/title/tt0051565/\n",
      "26760: http://www.imdb.com/title/tt0051432/\n",
      "26780: http://www.imdb.com/title/tt0051198/\n",
      "26800: http://www.imdb.com/title/tt0051020/\n",
      "26820: http://www.imdb.com/title/tt0050870/\n",
      "26840: http://www.imdb.com/title/tt0050749/\n",
      "26860: http://www.imdb.com/title/tt0050613/\n",
      "26880: http://www.imdb.com/title/tt0050470/\n",
      "26900: http://www.imdb.com/title/tt0050294/\n",
      "26920: http://www.imdb.com/title/tt0050166/\n",
      "26940: http://www.imdb.com/title/tt0049934/\n",
      "26960: http://www.imdb.com/title/tt0049769/\n",
      "26980: http://www.imdb.com/title/tt0049593/\n",
      "27000: http://www.imdb.com/title/tt0049408/\n",
      "2018-01-29 22:01:41.012852 : working on export 43\n",
      "2018-01-29 22:01:41.014788 : working on export 44\n",
      "Done\n"
     ]
    }
   ],
   "source": [
    "# Movie Details\n",
    "import re\n",
    "import requests\n",
    "from bs4 import BeautifulSoup\n",
    "from datetime import datetime\n",
    "import time\n",
    "\n",
    "movies_scraped = 0\n",
    "movie_details = {}\n",
    "movie_index = 24000                       \n",
    "prefix = 'http://www.imdb.com'\n",
    "export_number = 40\n",
    "export_no = str(export_number)\n",
    "load_attempts = 0\n",
    "\n",
    "def movie_scraper():\n",
    "    global movie_index\n",
    "    \n",
    "    print(str(datetime.now()),': working on export ' + export_no)\n",
    "    \n",
    "    for url in movie_urls[movie_index:27000]:\n",
    "        if (movie_index+1) % 20 == 0:\n",
    "            time.sleep(1.5)\n",
    "            print('%d: %s' %(movie_index+1, url))\n",
    "        page = request_page(url)\n",
    "        get_movie_details(url, page)\n",
    "        movie_index += 1\n",
    "    \n",
    "    export_to_json(movie_details)\n",
    "    print(\"Done\")\n",
    "    \n",
    "def request_page(url):\n",
    "    global load_attempts\n",
    "    response = requests.get(url)\n",
    "    \n",
    "    if response.status_code == 200:\n",
    "        return(response.text)\n",
    "        load_attempts = 0\n",
    "    else:\n",
    "        print(response.status_code,'for %s' %(url))\n",
    "        if response.status_code != 404:\n",
    "            if load_attempts == 10:\n",
    "                time.sleep(60)\n",
    "            else:\n",
    "                time.sleep(10)\n",
    "            request_page(url)\n",
    "            load_attempts += 1\n",
    "\n",
    "def get_movie_details(url, page):\n",
    "    soup = BeautifulSoup(page, 'html.parser')\n",
    "\n",
    "    movie_details[url] = {}\n",
    "    \n",
    "    plot_wrapper = soup.find('div', class_='plot_summary_wrapper')\n",
    "\n",
    "    if plot_wrapper:\n",
    "        if plot_wrapper.find(text=re.compile('Director:')):\n",
    "            directorURL = plot_wrapper.find(text=re.compile('Director:'))\n",
    "        elif plot_wrapper.find(text=re.compile('Directors:')):\n",
    "            directorURL = plot_wrapper.find(text=re.compile('Directors:'))\n",
    "        else:\n",
    "            directorURL = None\n",
    "    directorURL = directorURL.parent.parent if directorURL else None\n",
    "    directorURL = directorURL.find('a') if directorURL else None\n",
    "    director = directorURL.text if directorURL else None\n",
    "    directorURL = directorURL['href'] if directorURL else None\n",
    "    directorURL = prefix+directorURL.split(\"?\")[0] if directorURL else None\n",
    "    movie_details[url]['Director'] = director\n",
    "    movie_details[url]['Director_URL'] = directorURL\n",
    "\n",
    "    if plot_wrapper:\n",
    "        if plot_wrapper.find(text=re.compile('Stars:')):\n",
    "            starURLs = plot_wrapper.find(text=re.compile('Stars:'))\n",
    "        elif plot_wrapper.find(text=re.compile('Star:')):\n",
    "            starURLs = plot_wrapper.find(text=re.compile('Star:'))\n",
    "        else:\n",
    "            starURLs = None\n",
    "    starURLs = starURLs.parent.parent if starURLs else None\n",
    "    starURLs = starURLs.findAll('a') if starURLs else None\n",
    "    if starURLs:\n",
    "        if len(starURLs) == 4:\n",
    "            starURLs = [[star['href'],star.text] for star in starURLs[:-1]]\n",
    "        else:\n",
    "            starURLs = [[star['href'],star.text] for star in starURLs]\n",
    "    if starURLs:\n",
    "        i = 0\n",
    "        while len(starURLs) >= i+1:\n",
    "            for URL in starURLs:\n",
    "                star = starURLs[i]\n",
    "                movie_details[url]['Star%s' %str(i+1)] = star[1].split('\\n')[0].strip() if star[1] else None\n",
    "                movie_details[url]['Star%s_URL' %str(i+1)] = prefix+star[0].split(\"?\")[0] if star[0] else None\n",
    "            i += 1 \n",
    "    \n",
    "    title = soup.find('div', class_='title_wrapper').find('h1',itemprop='name')\n",
    "    title = title.contents[0].replace(u'\\xa0', u'')\n",
    "    movie_details[url]['Title'] = title\n",
    "\n",
    "    release_date = soup.find('div', class_='title_wrapper')\n",
    "    release_date = release_date.findAll('a') if release_date else None\n",
    "    release_date = release_date[-1] if release_date else None\n",
    "    release_date = release_date.find('meta') if release_date else None\n",
    "    release_date = str(release_date) if release_date else None\n",
    "    release_date = re.sub('[^0-9-]+','', release_date) if release_date else None\n",
    "    movie_details[url]['Release Date'] = release_date\n",
    "\n",
    "    title_details = soup.find(id='titleDetails')\n",
    "    \n",
    "    production_company = title_details.find(text=re.compile('Production Co:')) if title_details else None\n",
    "    production_company = production_company.parent.parent if production_company else None\n",
    "    production_company = production_company.find('a') if production_company else None\n",
    "    production_company = production_company.text if production_company else None\n",
    "    movie_details[url]['Production Company'] = production_company\n",
    "\n",
    "    country = title_details.find(text=re.compile('Country:')) if title_details else None\n",
    "    country = country.parent.parent if country else None\n",
    "    country = country.find('a') if country else None\n",
    "    country = country.text if country else None\n",
    "    movie_details[url]['Country'] = country\n",
    "\n",
    "    language = title_details.find(text=re.compile('Language:')) if title_details else None\n",
    "    language = language.parent.parent if language else None\n",
    "    language = language.find('a') if language else None\n",
    "    language = language.text if language else None\n",
    "    movie_details[url]['Language'] = language\n",
    "\n",
    "    primary_filming_location = title_details.find(text=re.compile('Filming Locations:')) if title_details else None\n",
    "    primary_filming_location = primary_filming_location.parent.parent if primary_filming_location else None\n",
    "    primary_filming_location = primary_filming_location.find('a') if primary_filming_location else None\n",
    "    primary_filming_location= primary_filming_location.text if primary_filming_location else None\n",
    "    movie_details[url]['Primary Filming Location'] = primary_filming_location\n",
    "\n",
    "    budget = title_details.find(text=re.compile('Budget:')) if title_details else None\n",
    "    budget = budget.parent.parent if budget else None\n",
    "    budget = budget.text.strip() if budget else None\n",
    "    budget = re.sub('[^0-9]+','', budget) if budget else None\n",
    "    movie_details[url]['Budget'] = budget\n",
    "\n",
    "    opening_weekend_usa = title_details.find(text=re.compile('Opening Weekend USA:')) if title_details else None\n",
    "    opening_weekend_usa = opening_weekend_usa.parent.parent if opening_weekend_usa else None\n",
    "    opening_weekend_usa = opening_weekend_usa.text.strip() if opening_weekend_usa else None\n",
    "    opening_weekend_usa = re.sub('[^0-9]+','', opening_weekend_usa) if opening_weekend_usa else None\n",
    "    movie_details[url]['Opening Weekend USA'] = opening_weekend_usa\n",
    "\n",
    "    #rename gross to gross USA in listing scrape\n",
    "    global_gross = title_details.find(text=re.compile('Cumulative Worldwide Gross:')) if title_details else None\n",
    "    global_gross = global_gross.parent.parent if global_gross else None\n",
    "    global_gross = global_gross.text.strip() if global_gross else None\n",
    "    global_gross = re.sub('[^0-9]+','', global_gross) if global_gross else None\n",
    "    movie_details[url]['Cumulative Worldwide Gross'] = global_gross\n",
    "\n",
    "    gross_usa = title_details.find(text=re.compile('Gross USA:')) if title_details else None\n",
    "    gross_usa = gross_usa.parent.parent if gross_usa else None\n",
    "    gross_usa = gross_usa.text.strip() if gross_usa else None\n",
    "    gross_usa = re.sub('[^0-9]+','', gross_usa) if gross_usa else None\n",
    "    movie_details[url]['Gross USA'] = gross_usa\n",
    "\n",
    "    go_to_next_and_export()\n",
    "\n",
    "def go_to_next_and_export():\n",
    "    global movies_scraped\n",
    "    global movie_details\n",
    "    \n",
    "    movies_scraped+=1\n",
    "\n",
    "    if len(movie_details) == 1000:                                         \n",
    "        export_to_json(movie_details)\n",
    "        movies_scraped = 0\n",
    "        movie_details = {}\n",
    "\n",
    "def export_to_json(movie_details):\n",
    "    global export_no\n",
    "    global export_number\n",
    "    with open('movie_details_export_%s.json' %(export_no),'w')  as f:\n",
    "        json.dump(movie_details,f)\n",
    "\n",
    "    export_number += 1\n",
    "    export_no = str(export_number)\n",
    "    print(str(datetime.now()),': working on export ' + export_no)\n",
    "\n",
    "movie_scraper()"
   ]
  },
  {
   "cell_type": "raw",
   "metadata": {},
   "source": [
    "import json\n",
    "import pandas as pd\n",
    "\n",
    "movies_df = pd.read_json('movie_details_export_1.json',orient='index')"
   ]
  },
  {
   "cell_type": "raw",
   "metadata": {},
   "source": [
    "movies_df"
   ]
  },
  {
   "cell_type": "raw",
   "metadata": {},
   "source": [
    "movies_df2 = pd.read_json('movie_details_exports/movie_details_export_1.json',orient='index',)"
   ]
  },
  {
   "cell_type": "raw",
   "metadata": {},
   "source": [
    "movies_df2.loc['http://www.imdb.com/title/tt7056732/']"
   ]
  }
 ],
 "metadata": {
  "kernelspec": {
   "display_name": "Python 3",
   "language": "python",
   "name": "python3"
  },
  "language_info": {
   "codemirror_mode": {
    "name": "ipython",
    "version": 3
   },
   "file_extension": ".py",
   "mimetype": "text/x-python",
   "name": "python",
   "nbconvert_exporter": "python",
   "pygments_lexer": "ipython3",
   "version": "3.6.4"
  }
 },
 "nbformat": 4,
 "nbformat_minor": 2
}
